{
 "cells": [
  {
   "cell_type": "markdown",
   "metadata": {},
   "source": [
    "This homework concerns data from an animal shelter. We are tasked with preparing a data quality report and data quality plan.\n",
    "The target feature in this data is the binary_outcome where \"1\" represents a negative outcome (death) and \"0\" represents a positive outcome for the animal. This positive outcome could represent the animal beinng re-homed, adopted, etc."
   ]
  },
  {
   "cell_type": "code",
   "execution_count": null,
   "metadata": {},
   "outputs": [],
   "source": [
    "# Import pandas, numpy and matplotlib libraries\n",
    "import pandas as pd\n",
    "import numpy as np\n",
    "import matplotlib.pyplot as plt\n",
    "import matplotlib.patches as mpatches\n",
    "import seaborn as sns\n",
    "from matplotlib.backends.backend_pdf import PdfPages\n",
    "%matplotlib inline\n",
    "\n",
    "# Convert csv into dataframes.\n",
    "df = pd.read_csv('AnimalWelfareRisk-18203315.csv',  keep_default_na=True, sep=',\\s+', delimiter=',')"
   ]
  },
  {
   "cell_type": "markdown",
   "metadata": {},
   "source": [
    "# Prepare a data quality report for the CSV file."
   ]
  },
  {
   "cell_type": "code",
   "execution_count": null,
   "metadata": {},
   "outputs": [],
   "source": [
    "# Check number of rows and columns.\n",
    "df.shape"
   ]
  },
  {
   "cell_type": "code",
   "execution_count": null,
   "metadata": {},
   "outputs": [],
   "source": [
    "# Show first 5 rows of data frame.\n",
    "df.head()"
   ]
  },
  {
   "cell_type": "code",
   "execution_count": null,
   "metadata": {},
   "outputs": [],
   "source": [
    "# Show last 5 rows of data frame.\n",
    "df.tail()"
   ]
  },
  {
   "cell_type": "markdown",
   "metadata": {},
   "source": [
    "### Convert the features to their appropriate data types (e.g., decide which features are more appropriate as continuos and which ones as categorical types)"
   ]
  },
  {
   "cell_type": "code",
   "execution_count": null,
   "metadata": {},
   "outputs": [],
   "source": [
    "df.dtypes"
   ]
  },
  {
   "cell_type": "code",
   "execution_count": null,
   "metadata": {},
   "outputs": [],
   "source": [
    "# some columns have spaces in their names.\n",
    "df.columns"
   ]
  },
  {
   "cell_type": "code",
   "execution_count": null,
   "metadata": {},
   "outputs": [],
   "source": [
    "# Replace spaces with '_'\n",
    "df.columns = df.columns.str.replace(' ', '_')"
   ]
  },
  {
   "cell_type": "code",
   "execution_count": null,
   "metadata": {},
   "outputs": [],
   "source": [
    "df.columns"
   ]
  },
  {
   "cell_type": "code",
   "execution_count": null,
   "metadata": {},
   "outputs": [],
   "source": [
    "# Select columns containing categorical data\n",
    "categorical_columns = df[['Name_Intake','Found_Location','Intake_Type','Intake_Condition','Animal_Type_Intake', 'Sex_upon_Intake','Breed_Intake', 'Color_Intake', 'Animal_Type_Outcome', 'Sex_upon_Outcome',  'Breed_Outcome', 'Color_Outcome', 'Name_Outcome', 'binary_outcome']].columns\n",
    "\n",
    "# Convert data type to category for these columns\n",
    "for column in categorical_columns:\n",
    "    df[column] = df[column].astype('category')\n",
    "\n",
    "df.dtypes"
   ]
  },
  {
   "cell_type": "code",
   "execution_count": null,
   "metadata": {},
   "outputs": [],
   "source": []
  },
  {
   "cell_type": "code",
   "execution_count": null,
   "metadata": {},
   "outputs": [],
   "source": [
    "# Converting all ages to years as age would be more suited to be numeric, continuous, data.\n",
    "for index, row in df.iterrows():\n",
    "    content = row['Age_upon_Intake']\n",
    "    split = content.split()\n",
    "    if split[1] == \"year\" or split[1] == \"years\":\n",
    "        years = int(split[0])\n",
    "        df.set_value(index, 'Age_upon_Intake', years)\n",
    "    elif split[1] == \"month\" or split[1] == \"months\":\n",
    "        months = int(split[0])\n",
    "        years = (1 / 12) * months\n",
    "        df.set_value(index, \"Age_upon_Intake\", years)\n",
    "    elif split[1] == \"week\" or split[1] == \"weeks\":\n",
    "        weeks = int(split[0])\n",
    "        years = (1 / 52) * weeks\n",
    "        df.set_value(index, \"Age_upon_Intake\", years)\n",
    "    elif split[1] == \"day\" or split[1] == \"days\":\n",
    "        days = int(split[0])\n",
    "        years = (1 / 365) * days\n",
    "        df.set_value(index, \"Age_upon_Intake\", years)\n",
    "        "
   ]
  },
  {
   "cell_type": "code",
   "execution_count": null,
   "metadata": {},
   "outputs": [],
   "source": [
    "df.tail()"
   ]
  },
  {
   "cell_type": "code",
   "execution_count": null,
   "metadata": {},
   "outputs": [],
   "source": [
    "for index, row in df.iterrows():\n",
    "    content = row['Age_upon_Outcome']\n",
    "    split = content.split()\n",
    "    if split[1] == \"year\" or split[1] == \"years\":\n",
    "        years = int(split[0])\n",
    "        df.set_value(index, 'Age_upon_Outcome', years)\n",
    "    elif split[1] == \"month\" or split[1] == \"months\":\n",
    "        months = int(split[0])\n",
    "        years = (1 / 12) * months\n",
    "        df.set_value(index, \"Age_upon_Outcome\", years)\n",
    "    elif split[1] == \"week\" or split[1] == \"weeks\":\n",
    "        weeks = int(split[0])\n",
    "        years = (1 / 52) * weeks\n",
    "        df.set_value(index, \"Age_upon_Outcome\", years)\n",
    "    elif split[1] == \"day\" or split[1] == \"days\":\n",
    "        days = int(split[0])\n",
    "        years = (1 / 365) * days\n",
    "        df.set_value(index, \"Age_upon_Outcome\", years)"
   ]
  },
  {
   "cell_type": "code",
   "execution_count": null,
   "metadata": {},
   "outputs": [],
   "source": [
    "# Changing age fields to type float64\n",
    "\n",
    "df['Age_upon_Intake'] = df['Age_upon_Intake'].astype('float64')\n",
    "df['Age_upon_Outcome'] = df['Age_upon_Outcome'].astype('float64')"
   ]
  },
  {
   "cell_type": "code",
   "execution_count": null,
   "metadata": {},
   "outputs": [],
   "source": [
    "# Check to make sure that the age data is correct, i.e. that animal's age is not lower on outcome.\n",
    "\n",
    "for index, row in df.iterrows():\n",
    "    intake=row['Age_upon_Intake']\n",
    "    outcome=row['Age_upon_Outcome']\n",
    "    if intake > outcome:\n",
    "        print(intake, outcome)"
   ]
  },
  {
   "cell_type": "markdown",
   "metadata": {},
   "source": [
    "There seems to be 6 rows with errors. This will be investigated later."
   ]
  },
  {
   "cell_type": "code",
   "execution_count": null,
   "metadata": {},
   "outputs": [],
   "source": [
    "df.dtypes"
   ]
  },
  {
   "cell_type": "code",
   "execution_count": null,
   "metadata": {},
   "outputs": [],
   "source": [
    "# Checking for duplicated rows\n",
    "print(df.set_index('Animal_ID').index.get_duplicates())"
   ]
  },
  {
   "cell_type": "code",
   "execution_count": null,
   "metadata": {},
   "outputs": [],
   "source": []
  },
  {
   "cell_type": "code",
   "execution_count": null,
   "metadata": {},
   "outputs": [],
   "source": [
    "# Checking for duplicated columns\n",
    "print(df.set_index('Animal_ID').index.T.get_duplicates())"
   ]
  },
  {
   "cell_type": "code",
   "execution_count": null,
   "metadata": {},
   "outputs": [],
   "source": [
    "df.select_dtypes(['category']).describe().T"
   ]
  },
  {
   "cell_type": "code",
   "execution_count": null,
   "metadata": {},
   "outputs": [],
   "source": [
    "# Create variable numeric_columns for float types\n",
    "df['DateTime_Intake'] = df['DateTime_Intake'].astype('datetime64')\n",
    "df['Date_of_Birth'] = df['Date_of_Birth'].astype('datetime64')\n",
    "df['DateTime_Outcome'] = df['DateTime_Outcome'].astype('datetime64')\n",
    "numeric_columns = df[['Age_upon_Intake', 'Age_upon_Outcome']].columns\n",
    "numeric_columns"
   ]
  },
  {
   "cell_type": "code",
   "execution_count": null,
   "metadata": {},
   "outputs": [],
   "source": [
    "# Drop the following columns. They are duplicates of the intake colummns.\n",
    "df=df.drop(columns=['MonthYear_Intake', 'MonthYear_Outcome', 'Name_Outcome', 'Color_Outcome', 'Animal_Type_Outcome', 'Breed_Outcome'])"
   ]
  },
  {
   "cell_type": "code",
   "execution_count": null,
   "metadata": {},
   "outputs": [],
   "source": [
    "df.dtypes"
   ]
  },
  {
   "cell_type": "code",
   "execution_count": null,
   "metadata": {},
   "outputs": [],
   "source": [
    "df.shape"
   ]
  },
  {
   "cell_type": "code",
   "execution_count": null,
   "metadata": {},
   "outputs": [],
   "source": [
    "df.shape\n",
    "df.tail()"
   ]
  },
  {
   "cell_type": "code",
   "execution_count": null,
   "metadata": {},
   "outputs": [],
   "source": [
    "df.head()"
   ]
  },
  {
   "cell_type": "code",
   "execution_count": null,
   "metadata": {},
   "outputs": [],
   "source": [
    "categorical_columns = df.select_dtypes(['category']).columns\n",
    "categorical_columns"
   ]
  },
  {
   "cell_type": "code",
   "execution_count": null,
   "metadata": {},
   "outputs": [],
   "source": [
    "\n",
    "df['year_intake'] = pd.DatetimeIndex(df['DateTime_Intake']).year\n",
    "df['month_intake'] = pd.DatetimeIndex(df['DateTime_Intake']).month"
   ]
  },
  {
   "cell_type": "code",
   "execution_count": null,
   "metadata": {},
   "outputs": [],
   "source": [
    "df.head()"
   ]
  },
  {
   "cell_type": "code",
   "execution_count": null,
   "metadata": {},
   "outputs": [],
   "source": [
    "df['year_outcome'] = pd.DatetimeIndex(df['DateTime_Outcome']).year\n",
    "df['month_outcome'] = pd.DatetimeIndex(df['DateTime_Outcome']).month"
   ]
  },
  {
   "cell_type": "code",
   "execution_count": null,
   "metadata": {},
   "outputs": [],
   "source": [
    "df['birth_year'] = pd.DatetimeIndex(df['Date_of_Birth']).year\n",
    "df['birth_month'] = pd.DatetimeIndex(df['Date_of_Birth']).month"
   ]
  },
  {
   "cell_type": "code",
   "execution_count": null,
   "metadata": {},
   "outputs": [],
   "source": [
    "df=df.drop(columns=['DateTime_Intake', 'DateTime_Outcome', 'Date_of_Birth'])"
   ]
  },
  {
   "cell_type": "code",
   "execution_count": null,
   "metadata": {},
   "outputs": [],
   "source": [
    "numeric_columns = df[['Age_upon_Intake', 'Age_upon_Outcome', 'year_intake', 'month_intake', 'year_outcome', 'month_outcome', 'birth_year', 'birth_month' ]].columns"
   ]
  },
  {
   "cell_type": "markdown",
   "metadata": {},
   "source": [
    "### Save  updated data frame to a new csv file."
   ]
  },
  {
   "cell_type": "code",
   "execution_count": null,
   "metadata": {},
   "outputs": [],
   "source": [
    "# Write the dataframe to a csv file\n",
    "df.to_csv('Cleaned_Animal_Welfare1-1.csv', index=False)"
   ]
  },
  {
   "cell_type": "markdown",
   "metadata": {},
   "source": [
    "### Descriptive statistics for categorical features"
   ]
  },
  {
   "cell_type": "code",
   "execution_count": null,
   "metadata": {},
   "outputs": [],
   "source": [
    "# Descriptive stats for categorical features only.\n",
    "\n",
    "df.select_dtypes(['category']).describe().T"
   ]
  },
  {
   "cell_type": "code",
   "execution_count": null,
   "metadata": {},
   "outputs": [],
   "source": [
    "#Print the number of duplicates, without the original rows that were duplicated\n",
    "\n",
    "print('Number of duplicate (excluding first) rows in the table is: ', df.duplicated().sum())\n",
    "\n",
    "# Check for duplicate rows. \n",
    "# Use \"keep=False\" to mark all duplicates as true, including the original rows that were duplicated.\n",
    "\n",
    "print('Number of duplicate rows (including first) in the table is:', df[df.duplicated(keep=False)].shape[0])"
   ]
  },
  {
   "cell_type": "code",
   "execution_count": null,
   "metadata": {
    "scrolled": true
   },
   "outputs": [],
   "source": [
    "# Check for duplicate columns\n",
    "\n",
    "dfT = df.T\n",
    "print(\"Number of duplicate (excluding first) columns in the table is: \", dfT.duplicated().sum())\n",
    "print(\"Number of duplicate (including first) columns in the table is: \",  dfT[dfT.duplicated(keep=False)].shape[0])"
   ]
  },
  {
   "cell_type": "markdown",
   "metadata": {},
   "source": [
    "### Descriptive statistics for continuous features"
   ]
  },
  {
   "cell_type": "code",
   "execution_count": null,
   "metadata": {},
   "outputs": [],
   "source": [
    "# Print table with descriptive statistics for all the continuous features\n",
    "df[numeric_columns].describe().T"
   ]
  },
  {
   "cell_type": "code",
   "execution_count": null,
   "metadata": {},
   "outputs": [],
   "source": [
    "# Prepare %missing column\n",
    "\n",
    "numeric_columns_missing  = 100 * (df[numeric_columns].isnull().sum()/df.shape[0])\n",
    "# store the values in a dataframe\n",
    "\n",
    "df_numeric_missing = pd.DataFrame(numeric_columns_missing, columns=['%missing'])\n",
    "df_numeric_missing"
   ]
  },
  {
   "cell_type": "code",
   "execution_count": null,
   "metadata": {},
   "outputs": [],
   "source": [
    "# Add cardinality column\n",
    "\n",
    "numeric_columns_card = df[numeric_columns].nunique()\n",
    "# store the values in a dataframe\n",
    "\n",
    "df_numeric_card = pd.DataFrame(numeric_columns_card, columns=['card'])\n",
    "df_numeric_card"
   ]
  },
  {
   "cell_type": "code",
   "execution_count": null,
   "metadata": {},
   "outputs": [],
   "source": [
    "df_table_numeric = df[numeric_columns].describe().T\n",
    "\n",
    "# Put the columns together to prepare the final table for numeric_columns\n",
    "\n",
    "df_numeric_columns_data_quality_report_table = pd.concat([df_table_numeric, df_numeric_missing, df_numeric_card], axis=1)\n",
    "\n",
    "# Print data quality report table for numeric features to a file.\n",
    "df_numeric_columns_data_quality_report_table.to_csv(\"DataQualityReport-NumericFeatures-Table.csv\", \n",
    "                                         index_label='Feature')\n",
    "df_numeric_columns_data_quality_report_table"
   ]
  },
  {
   "cell_type": "markdown",
   "metadata": {},
   "source": [
    "### Plot bar plots for all the categorical features."
   ]
  },
  {
   "cell_type": "code",
   "execution_count": null,
   "metadata": {},
   "outputs": [],
   "source": [
    "# Plot bar charts for all categorical features and save them in a single PDF file\n",
    "pp = PdfPages('categorical_barcharts_1-1.pdf')\n",
    "\n",
    "for column in categorical_columns:\n",
    "    f = df[column].value_counts().plot(kind='bar', title=column, figsize=(12,10))\n",
    "    pp.savefig(f.get_figure())\n",
    "    plt.show()\n",
    "pp.close()"
   ]
  },
  {
   "cell_type": "markdown",
   "metadata": {},
   "source": [
    "### Plot histrograms for the continuous features."
   ]
  },
  {
   "cell_type": "code",
   "execution_count": null,
   "metadata": {},
   "outputs": [],
   "source": [
    "# Plot a histogram summary sheet of the continuous features and save in a pdf file\n",
    "df[numeric_columns].hist(layout=(6, 4), figsize=(30,30), bins=12)\n",
    "plt.savefig('continuous_histograms_1-1.pdf')"
   ]
  },
  {
   "cell_type": "code",
   "execution_count": null,
   "metadata": {},
   "outputs": [],
   "source": [
    "# Plot a histogram of the continuous features\n",
    "\n",
    "for col in numeric_columns:\n",
    "        f = df[col].plot(kind='hist', figsize=(10,5), bins=12)\n",
    "        plt.title(col)\n",
    "        plt.ylabel('number of entries')\n",
    "        plt.show()   "
   ]
  },
  {
   "cell_type": "code",
   "execution_count": null,
   "metadata": {},
   "outputs": [],
   "source": []
  },
  {
   "cell_type": "markdown",
   "metadata": {},
   "source": [
    "### Plot boxplots for the continuous features."
   ]
  },
  {
   "cell_type": "code",
   "execution_count": null,
   "metadata": {},
   "outputs": [],
   "source": [
    "# Plot box plots for all the continuous features and save in a PDF file\n",
    "df[numeric_columns].plot(kind='box', subplots=True, figsize=(30,30), layout=(6,4), sharex=False, sharey=False)\n",
    "plt.savefig('continuous_boxplots__summary1-1.pdf')"
   ]
  },
  {
   "cell_type": "code",
   "execution_count": null,
   "metadata": {},
   "outputs": [],
   "source": [
    "# Plot box plots for all the continuous features and save in a PDF file\n",
    "with PdfPages('continuous_boxplots_1-1.pdf') as pp:\n",
    "    for col in numeric_columns:\n",
    "        f = df[col].plot(kind='box', figsize=(10,5))\n",
    "        pp.savefig(f.get_figure())\n",
    "        plt.show()   "
   ]
  },
  {
   "cell_type": "code",
   "execution_count": null,
   "metadata": {},
   "outputs": [],
   "source": []
  },
  {
   "cell_type": "markdown",
   "metadata": {},
   "source": [
    "# (2). Prepare a data quality plan for the cleaned CSV file.\n",
    "\n",
    "### - Mark down all the features where there are potential problems or data quality issues.\n",
    "\n",
    "The initial list of issues as identified in the **Data_Quality_Report_Initial_Findings.pdf**:\n",
    "\n",
    "1. **Age_upon_Intake and Age_upon_Outcome have minimum values of 0.0** \n",
    "\n",
    "- **Name_Intake has 634 unique values and 366 null values.**\n",
    "\n",
    "- **Found_Location field has 747 unique values.**\n",
    "\n",
    "- **Breed_Intake field has 206 unique values**\n",
    "\n",
    "- **Color_Intake has a unique value count of 107**\n",
    "\n",
    "- **Six rows have errors in the animal's age value.**\n",
    "\n",
    "- **animalID is a redundant column giving us the the numerical ID of the animal. This gives us no useful information.**\n",
    "\n",
    "\n"
   ]
  },
  {
   "cell_type": "code",
   "execution_count": null,
   "metadata": {},
   "outputs": [],
   "source": [
    "# Check for irregular cardinality in categorical features. There could be same values spelled differently\n",
    "print(\"Unique values for:\\n- name_intake:\", pd.unique(df.Name_Intake.ravel()))\n",
    "print(\"\\n- found_location:\", pd.unique(df.Found_Location.ravel()))\n",
    "print(\"\\n- intake_type:\", pd.unique(df.Intake_Type.ravel()))\n",
    "print(\"\\n- intake_condition:\", pd.unique(df.Intake_Condition.ravel()))\n",
    "print(\"\\n- animal_type_intake:\", pd.unique(df.Animal_Type_Intake.ravel()))\n",
    "print(\"\\n- sex_upon_intake:\", pd.unique(df.Sex_upon_Intake.ravel()))\n",
    "print(\"\\n- breed_intake:\", pd.unique(df.Breed_Intake.ravel()))\n",
    "print(\"\\n- color_intake:\", pd.unique(df.Color_Intake.ravel()))\n",
    "print(\"\\n- sex_upon_outcome:\", pd.unique(df.Sex_upon_Outcome.ravel()))\n",
    "print(\"\\n- binary_outcome:\", pd.unique(df.binary_outcome.ravel()))\n"
   ]
  },
  {
   "cell_type": "code",
   "execution_count": null,
   "metadata": {},
   "outputs": [],
   "source": [
    "# Check whether there are null values in the data where values would be expected\n",
    "df.isnull().sum()"
   ]
  },
  {
   "cell_type": "markdown",
   "metadata": {},
   "source": [
    "### - Propose solutions to deal with the problems identified. Explain why did you choose one solution over potentially many other."
   ]
  },
  {
   "cell_type": "markdown",
   "metadata": {},
   "source": [
    "1. **Age_upon_Intake and Age_upon_Outcome have minimum values of 0.0** \n",
    "Investigation should be made to try and deduce what the zero value means and see if it is an error or not. \n",
    "- **Name_Intake has 634 unique values and 366 null values.**\n",
    "This is a very high number of unique values. Look at ways to make this data more useful by possibly grouping into named and unnamed.\n",
    "- **Found_Location field has 747 unique values.**\n",
    "Again, this is a very high number of unique values. Look at ways to improve this. It might be possible to group by geographic area, i.e. city or state.\n",
    "- **Breed_Intake field has 206 unique values**\n",
    "This is a very high number of unique values. Look into possibilites wider groupings of breeds or, possibly, mixed breed and pure breed.\n",
    "- **Color_Intake has a unique value count of 107**\n",
    "Investigate ways of reducing this. Possibly find a way to group into color groupings.\n",
    "- **Six rows have errors in the animal's age value.**\n",
    "Investigate this. If possible, find a way to rectify the error.\n",
    "- **animalID is a redundant column giving us the the numerical ID of the animal. This gives us no useful information.**\n",
    "As there is no useful information, this feature should be dropped.\n",
    "\n"
   ]
  },
  {
   "cell_type": "markdown",
   "metadata": {},
   "source": [
    "### - Apply your solutions to obtain a new CSV file where the identified data quality issues were addressed. "
   ]
  },
  {
   "cell_type": "markdown",
   "metadata": {},
   "source": [
    "1. **Age_upon_Intake and Age_upon_Outcome have minimum values of 0.0:**\n",
    "Investigation should be made to try and deduce what the zero value means and see if it is an error or not."
   ]
  },
  {
   "cell_type": "code",
   "execution_count": null,
   "metadata": {},
   "outputs": [],
   "source": [
    "temp_df = df[df['Age_upon_Intake'] == 0]\n",
    "temp_df[['Age_upon_Intake', 'Animal_Type_Intake','Age_upon_Outcome', 'Intake_Condition', 'Found_Location', 'Intake_Type', 'binary_outcome', 'Sex_upon_Intake', 'Sex_upon_Outcome']]"
   ]
  },
  {
   "cell_type": "markdown",
   "metadata": {},
   "source": [
    "It can be seen here that there are 8 rows where the Age_upon_Intake field is 0.0. It can be deduced from the corresponding Age_upon_Outcome fields that these animals were either born and immediately taken into the animal shelter or, in fact, actually born in the animal shelter. There is one row were the Age_upon_Intake and Age_upon_Outcome fields are both 0.0. I conclude that it would be fair to suggest that this is genuinely a case of the animal's age being unknown and the time of arrival and death.\n",
    "\n",
    "**Thus, I have decided that no modification of the data is necessary in this case.**"
   ]
  },
  {
   "cell_type": "code",
   "execution_count": null,
   "metadata": {},
   "outputs": [],
   "source": [
    "temp_df = df[df['Age_upon_Outcome'] == 19 ]\n",
    "temp_df[['Age_upon_Intake', 'Animal_Type_Intake','Age_upon_Outcome', 'Intake_Type', 'binary_outcome', 'Sex_upon_Intake', 'Sex_upon_Outcome']]"
   ]
  },
  {
   "cell_type": "markdown",
   "metadata": {},
   "source": [
    "The outlier at the other end of the scale with an age upon intake of 19 also seems to be valid and correct data. It can be deduced that the dog is indeed a 19 year old dog as the intake_type is a euthanasia request."
   ]
  },
  {
   "cell_type": "markdown",
   "metadata": {},
   "source": [
    "2. **Name_Intake has 634 unique values and 366 null values:**\n",
    "This is a very high number of unique values. Look at ways to make this data more useful by possibly grouping into named and unnamed."
   ]
  },
  {
   "cell_type": "code",
   "execution_count": null,
   "metadata": {},
   "outputs": [],
   "source": [
    "temp_df = df[df['Name_Intake'].isnull() ]\n",
    "temp_df[['Name_Intake', 'Intake_Type', 'Age_upon_Intake', 'Animal_Type_Intake', 'binary_outcome']]"
   ]
  },
  {
   "cell_type": "code",
   "execution_count": null,
   "metadata": {},
   "outputs": [],
   "source": [
    "temp_df = df[df['Name_Intake'].isnull() ]\n",
    "temp_df = temp_df[temp_df['Intake_Type'] == \"Stray\"]\n",
    "temp_df[['Name_Intake', 'Intake_Type', 'Age_upon_Intake', 'Animal_Type_Intake', 'binary_outcome']]"
   ]
  },
  {
   "cell_type": "code",
   "execution_count": null,
   "metadata": {},
   "outputs": [],
   "source": [
    "temp_df = df[df['Name_Intake'].isnull() ]\n",
    "temp_df = temp_df[temp_df['Intake_Type'] == \"Wildlife\"]\n",
    "temp_df[['Name_Intake', 'Intake_Type', 'Age_upon_Intake', 'Animal_Type_Intake', 'binary_outcome']]"
   ]
  },
  {
   "cell_type": "code",
   "execution_count": null,
   "metadata": {},
   "outputs": [],
   "source": [
    "temp_df = df[df['Name_Intake'].isnull() ]\n",
    "temp_df = temp_df[temp_df['Intake_Type'] == \"Public Assist\"]\n",
    "temp_df[['Name_Intake', 'Intake_Type', 'Age_upon_Intake', 'Animal_Type_Intake', 'binary_outcome']]"
   ]
  },
  {
   "cell_type": "code",
   "execution_count": null,
   "metadata": {},
   "outputs": [],
   "source": [
    "temp_df = df[df['Name_Intake'].isnull() ]\n",
    "temp_df = temp_df[temp_df['Intake_Type'] == \"Owner Surrender\"]\n",
    "temp_df[['Name_Intake', 'Intake_Type', 'Age_upon_Intake', 'Animal_Type_Intake', 'binary_outcome']]"
   ]
  },
  {
   "cell_type": "code",
   "execution_count": null,
   "metadata": {},
   "outputs": [],
   "source": [
    "temp_df = df[df['Name_Intake'].isnull() ]\n",
    "temp_df = temp_df[temp_df['Intake_Type'] == \"Euthanasia Request\"]\n",
    "temp_df[['Name_Intake', 'Intake_Type', 'Age_upon_Intake', 'Animal_Type_Intake', 'binary_outcome']]"
   ]
  },
  {
   "cell_type": "code",
   "execution_count": null,
   "metadata": {},
   "outputs": [],
   "source": [
    "df['Name_Intake'] = df['Name_Intake'].astype('object')\n",
    "df['Name_Intake'] = df['Name_Intake'].fillna('Unnamed')"
   ]
  },
  {
   "cell_type": "code",
   "execution_count": null,
   "metadata": {
    "scrolled": true
   },
   "outputs": [],
   "source": [
    "df.head()"
   ]
  },
  {
   "cell_type": "code",
   "execution_count": null,
   "metadata": {},
   "outputs": [],
   "source": [
    "df.isnull().sum()"
   ]
  },
  {
   "cell_type": "code",
   "execution_count": null,
   "metadata": {},
   "outputs": [],
   "source": [
    "df.tail()"
   ]
  },
  {
   "cell_type": "code",
   "execution_count": null,
   "metadata": {},
   "outputs": [],
   "source": [
    "for index, row in df.iterrows():\n",
    "    content = row['Name_Intake']\n",
    "    if content != \"Unnamed\":\n",
    "        df.set_value(index, 'Name_Intake', 'Named')"
   ]
  },
  {
   "cell_type": "code",
   "execution_count": null,
   "metadata": {},
   "outputs": [],
   "source": [
    "\n",
    "df['Name_Intake'] = df['Name_Intake'].astype('category')"
   ]
  },
  {
   "cell_type": "markdown",
   "metadata": {},
   "source": [
    " **3. Found_Location field has 747 unique values.**\n",
    "Again, this is a very high number of unique values. Look at ways to improve this. It might be possible to group by geographic area, i.e. city or state."
   ]
  },
  {
   "cell_type": "code",
   "execution_count": null,
   "metadata": {},
   "outputs": [],
   "source": [
    "temp_df = df[df['Found_Location'].notnull()]\n",
    "x=0\n",
    "y=0\n",
    "z=0\n",
    "for index, row in temp_df.iterrows():\n",
    "    content = row['Found_Location']\n",
    "    splitContent = content.split()\n",
    "    if splitContent[-1] == \"(TX)\" and splitContent[-2] ==\"Austin\":\n",
    "        x+=1\n",
    "    elif splitContent[-1] == \"(TX)\" and splitContent[-2] !=\"Austin\":\n",
    "        y+=1\n",
    "    else:\n",
    "        z+=1\n",
    "        #print (splitContent[-2], splitContent[-1])\n",
    "        \n",
    "        \n",
    "print(\"Austin (TX):\", x)\n",
    "print(\"(TX), but not Austin:\", y)\n",
    "print(\"Other than (TX):\", z)\n",
    "print(\"Total: \", x+y+z)\n",
    "        #new_df.set_value(index, 'Name_Intake', 'Known')"
   ]
  },
  {
   "cell_type": "code",
   "execution_count": null,
   "metadata": {},
   "outputs": [],
   "source": [
    "df['Found_Location'] = df['Found_Location'].astype('object')"
   ]
  },
  {
   "cell_type": "code",
   "execution_count": null,
   "metadata": {},
   "outputs": [],
   "source": [
    "temp_df"
   ]
  },
  {
   "cell_type": "code",
   "execution_count": null,
   "metadata": {},
   "outputs": [],
   "source": [
    "for index, row in df.iterrows():\n",
    "    content = row['Found_Location']\n",
    "    splitContent = content.split()\n",
    "    if splitContent[-1] == \"(TX)\" and splitContent[-2] ==\"Austin\":\n",
    "        df.set_value(index, 'Found_Location', 'Austin (TX)')\n",
    "    elif splitContent[-1] == \"(TX)\" and splitContent[-2] !=\"Austin\":\n",
    "        df.set_value(index, 'Found_Location', 'Other (TX)')\n",
    "    else:\n",
    "        df.set_value(index, 'Found_Location', 'Outside (TX)')\n"
   ]
  },
  {
   "cell_type": "code",
   "execution_count": null,
   "metadata": {},
   "outputs": [],
   "source": [
    "df['Found_Location'] = df['Found_Location'].astype('category')"
   ]
  },
  {
   "cell_type": "code",
   "execution_count": null,
   "metadata": {},
   "outputs": [],
   "source": [
    "df.head()"
   ]
  },
  {
   "cell_type": "markdown",
   "metadata": {},
   "source": [
    "**4. Breed_Intake field has 206 unique values**\n",
    "This is a very high number of unique values. Look into possibilites wider groupings of breeds or, possibly, mixed breed and pure breed."
   ]
  },
  {
   "cell_type": "code",
   "execution_count": null,
   "metadata": {},
   "outputs": [],
   "source": [
    "df['Breed_Intake'] = df['Breed_Intake'].astype('object')"
   ]
  },
  {
   "cell_type": "code",
   "execution_count": null,
   "metadata": {},
   "outputs": [],
   "source": [
    "print(\"\\n- breed_intake:\", pd.unique(df.Breed_Intake.ravel()))"
   ]
  },
  {
   "cell_type": "code",
   "execution_count": null,
   "metadata": {},
   "outputs": [],
   "source": [
    "temp_df = df[df['Breed_Intake'].notnull()]\n",
    "crossBreed = 0\n",
    "mixedBreed = 0\n",
    "pureBreed = 0\n",
    "for index, row in temp_df.iterrows():\n",
    "    content = row['Breed_Intake']\n",
    "    splitContent = content.split()\n",
    "    if \"/\" in content:\n",
    "        crossBreed += 1\n",
    "    elif splitContent[-1] == \"Mix\":\n",
    "        mixedBreed += 1\n",
    "    else:\n",
    "        pureBreed += 1\n",
    "        \n",
    "print(\"Number of crossbreed animals:\", crossBreed)\n",
    "print(\"Number of mixed-breed animals:\", mixedBreed)\n",
    "print(\"Number of pure-breed animals:\", pureBreed)\n",
    "print(\"Total:\", crossBreed + mixedBreed + pureBreed)"
   ]
  },
  {
   "cell_type": "code",
   "execution_count": null,
   "metadata": {},
   "outputs": [],
   "source": [
    "for index, row in df.iterrows():\n",
    "    content = row['Breed_Intake']\n",
    "    splitContent = content.split()\n",
    "    if \"/\" in content:\n",
    "        df.set_value(index, 'Breed_Intake', 'Cross-Breed')\n",
    "    elif splitContent[-1] == \"Mix\":\n",
    "        df.set_value(index, 'Breed_Intake', 'Mixed-Breed')\n",
    "    else:\n",
    "        df.set_value(index, 'Breed_Intake', 'Pure-Breed')\n",
    "    \n",
    "df['Breed_Intake'] = df['Breed_Intake'].astype('category')"
   ]
  },
  {
   "cell_type": "code",
   "execution_count": null,
   "metadata": {},
   "outputs": [],
   "source": [
    "df.tail()"
   ]
  },
  {
   "cell_type": "markdown",
   "metadata": {},
   "source": [
    "**5. Color_Intake has a unique value count of 107**\n",
    "Investigate ways of reducing this. Possibly find a way to group into color groupings."
   ]
  },
  {
   "cell_type": "code",
   "execution_count": null,
   "metadata": {},
   "outputs": [],
   "source": [
    "temp_df = df[df['Color_Intake'].notnull()]\n",
    "mixedColor = 0\n",
    "pureColor = 0\n",
    "for index, row in temp_df.iterrows():\n",
    "    content = row['Color_Intake']\n",
    "    splitContent = content.split()\n",
    "    if \"/\" in content:\n",
    "        mixedColor += 1\n",
    "    else:\n",
    "        pureColor += 1\n",
    "        \n",
    "print(\"Number of mixed-color animals:\", mixedColor)\n",
    "print(\"Number of pure color animals:\", pureColor)\n",
    "\n",
    "print(\"Total:\", mixedColor+pureColor)"
   ]
  },
  {
   "cell_type": "code",
   "execution_count": null,
   "metadata": {},
   "outputs": [],
   "source": [
    "df['Color_Intake'] = df['Color_Intake'].astype('object')\n",
    "for index, row in df.iterrows():\n",
    "    content = row['Color_Intake']\n",
    "    splitContent = content.split()\n",
    "    if \"/\" in content:\n",
    "        df.set_value(index, 'Color_Intake', 'Mixed-Color')\n",
    "    else:\n",
    "        df.set_value(index, 'Color_Intake', 'Pure-Color')\n",
    "\n",
    "df['Color_Intake'] = df['Color_Intake'].astype('category')"
   ]
  },
  {
   "cell_type": "markdown",
   "metadata": {},
   "source": [
    "**6. Six rows have errors in the animal's age value.**\n",
    "Investigate this. If possible, find a way to rectify the error."
   ]
  },
  {
   "cell_type": "code",
   "execution_count": null,
   "metadata": {},
   "outputs": [],
   "source": [
    "temp_df = df[df['Age_upon_Outcome'] - df['Age_upon_Intake'] < 0]\n",
    "temp_df"
   ]
  },
  {
   "cell_type": "markdown",
   "metadata": {},
   "source": [
    "I am going to make the assumption that the values have been entered in the wrong columns. Therefore, I will sway the affected age_upon_intake and age_upon_outcome values."
   ]
  },
  {
   "cell_type": "code",
   "execution_count": null,
   "metadata": {},
   "outputs": [],
   "source": [
    "for index, row in df.iterrows():\n",
    "    intake=row['Age_upon_Intake']\n",
    "    outcome=row['Age_upon_Outcome']\n",
    "    if intake > outcome:\n",
    "        temp1=intake\n",
    "        temp2=outcome\n",
    "        df.set_value(index, 'Age_upon_Intake', temp2)\n",
    "        df.set_value(index, 'Age_upon_Outcome', temp1)"
   ]
  },
  {
   "cell_type": "markdown",
   "metadata": {},
   "source": [
    "**7. animalID is a redundant column giving us the the numerical ID of the animal. This gives us no useful information.**\n",
    "As there is no useful information, this feature should be dropped."
   ]
  },
  {
   "cell_type": "code",
   "execution_count": null,
   "metadata": {},
   "outputs": [],
   "source": [
    "df=df.drop(columns=['Animal_ID'])"
   ]
  },
  {
   "cell_type": "markdown",
   "metadata": {},
   "source": [
    "### Summary of data quality plan:\n",
    "   \n",
    "| Feature                 | Data Quality Issue   | Handling Strategy            |\n",
    "|-------------------------|----------------------|------------------------------|\n",
    "| Age_upon_Intake         | Minimum values of 0.0| Do nothing                   |\n",
    "| Age_upon_Outcome        | Minimum values of 0.0| Do nothing                   | \n",
    "| Name_Intake             | 634 unique, 366 null | Replace with named/unnamed   |\n",
    "| Found_Location          | 747 unique values    | Replace with more general areas|\n",
    "| Breed_Intake            | 206 unique values    | Replace with more general breed types|\n",
    "| Color_Intake            | 107 unique values    | Replace with mixed/pure color|\n",
    "| Age_upon_Intake         | 6 incorrect values   | Swap values with outcome     |\n",
    "| Age_upon_Outcome        | 6 incorrect values   | Swap values with intake      |\n",
    "| Animal_ID               | No useful information| Delete column                |\n"
   ]
  },
  {
   "cell_type": "markdown",
   "metadata": {},
   "source": [
    "### - Save the new CSV file with a self explanatory name. Save the data quality plan to a single PDF file (as a table or a structured text)."
   ]
  },
  {
   "cell_type": "markdown",
   "metadata": {},
   "source": [
    "Data quality plan saved as a picture and available in Data_Quality_Plan.pdf."
   ]
  },
  {
   "cell_type": "code",
   "execution_count": null,
   "metadata": {},
   "outputs": [],
   "source": [
    "print(\"Unique values for:\\n- name_intake:\", pd.unique(df.Name_Intake.ravel()))\n",
    "print(\"\\n- found_location:\", pd.unique(df.Found_Location.ravel()))\n",
    "print(\"\\n- intake_type:\", pd.unique(df.Intake_Type.ravel()))\n",
    "print(\"\\n- intake_condition:\", pd.unique(df.Intake_Condition.ravel()))\n",
    "print(\"\\n- animal_type_intake:\", pd.unique(df.Animal_Type_Intake.ravel()))\n",
    "print(\"\\n- sex_upon_intake:\", pd.unique(df.Sex_upon_Intake.ravel()))\n",
    "print(\"\\n- breed_intake:\", pd.unique(df.Breed_Intake.ravel()))\n",
    "print(\"\\n- color_intake:\", pd.unique(df.Color_Intake.ravel()))\n",
    "print(\"\\n- sex_upon_outcome:\", pd.unique(df.Sex_upon_Outcome.ravel()))\n",
    "print(\"\\n- binary_outcome:\", pd.unique(df.binary_outcome.ravel()))"
   ]
  },
  {
   "cell_type": "code",
   "execution_count": null,
   "metadata": {},
   "outputs": [],
   "source": [
    "df.select_dtypes(['category']).describe().T"
   ]
  },
  {
   "cell_type": "code",
   "execution_count": null,
   "metadata": {},
   "outputs": [],
   "source": [
    "df.select_dtypes(['float64']).describe().T"
   ]
  },
  {
   "cell_type": "code",
   "execution_count": null,
   "metadata": {},
   "outputs": [],
   "source": [
    "# Write the dataframe to a csv file\n",
    "df.to_csv('Cleaned_Animal_Welfare_1-2.csv', index=False)"
   ]
  },
  {
   "cell_type": "markdown",
   "metadata": {},
   "source": [
    "# (3). Exploring relationships between feature pairs:"
   ]
  },
  {
   "cell_type": "markdown",
   "metadata": {},
   "source": [
    "### - Choose a subset of features you find promising and plot pairwise feature interactions (e.g., continuous-continuous feature plot or continuous-categorical plots or correlation plots). Explain your choices."
   ]
  },
  {
   "cell_type": "markdown",
   "metadata": {},
   "source": [
    "The features that I will look at for pairwise feature interaction are the following continuous features:\n",
    "- Age_upon_Intake\n",
    "- year_intake\n",
    "- month_intake\n",
    "\n",
    "and the following categorical features:\n",
    "- Found_Location\n",
    "- Name_Intake\n",
    "- Breed_Intake\n",
    "- Intake_Type\n",
    "- Intake_Condition\n",
    "- Animal_Type_Intake\n",
    "- Sex_upon_Intake\n",
    "- Sex_upon_Outcome\n",
    "\n",
    "The choices here are based on the idea that these particular features can affect the animals likelihood of a negative outcome.\n"
   ]
  },
  {
   "cell_type": "markdown",
   "metadata": {},
   "source": [
    "### Correlations for the numeric features."
   ]
  },
  {
   "cell_type": "code",
   "execution_count": null,
   "metadata": {},
   "outputs": [],
   "source": [
    "# Correlation matrix using code found on https://stanford.edu/~mwaskom/software/seaborn/examples/many_pairwise_correlations.html\n",
    "sns.set(style=\"white\")\n",
    "\n",
    "# Select columns containing continuous data\n",
    "#continuous_columns = df[['DateTime_Intake', 'DateTime_Outcome', 'Date_of_Birth', 'Age_upon_Intake', 'Age_upon_Outcome']].columns\n",
    "\n",
    "# Calculate correlation of all pairs of continuous features\n",
    "corr = df[numeric_columns].corr()\n",
    "\n",
    "# Generate a mask for the upper triangle\n",
    "mask = np.zeros_like(corr, dtype=np.bool)\n",
    "mask[np.triu_indices_from(mask)] = True\n",
    "\n",
    "# Set up the matplotlib figure\n",
    "f, ax = plt.subplots(figsize=(11, 9))\n",
    "\n",
    "# Generate a custom colormap - blue and red\n",
    "cmap = sns.diverging_palette(220, 10, as_cmap=True)\n",
    "\n",
    "# Draw the heatmap with the mask and correct aspect ratio\n",
    "sns.heatmap(corr, annot=True, mask=mask, cmap=cmap, vmax=1, vmin=-1,\n",
    "            square=True, xticklabels=True, yticklabels=True,\n",
    "            linewidths=.5, cbar_kws={\"shrink\": .5}, ax=ax)\n",
    "plt.yticks(rotation = 0)\n",
    "plt.xticks(rotation = 45)"
   ]
  },
  {
   "cell_type": "markdown",
   "metadata": {},
   "source": [
    "As expected, the Age_upon_Intake and Age_upon_Outcome and the year_intake and year_outcome have very strong correlations. This does not provide us with much information. \n",
    "However, the month_intake and month_outcome also show a very strong correlation. This means that most animal will either leave the shelter (or die) within the same month that they were taken in."
   ]
  },
  {
   "cell_type": "code",
   "execution_count": null,
   "metadata": {},
   "outputs": [],
   "source": [
    "df.plot(kind='scatter', x='Age_upon_Intake', y='Age_upon_Outcome')"
   ]
  },
  {
   "cell_type": "code",
   "execution_count": null,
   "metadata": {},
   "outputs": [],
   "source": [
    "df.plot(kind='scatter', x='year_intake', y='year_outcome')"
   ]
  },
  {
   "cell_type": "code",
   "execution_count": null,
   "metadata": {},
   "outputs": [],
   "source": [
    "df.plot(kind='scatter', x='month_intake', y='month_outcome')"
   ]
  },
  {
   "cell_type": "markdown",
   "metadata": {},
   "source": [
    "In the first two scatter plots, the very high correlation can be seen through the linear nature of the plots."
   ]
  },
  {
   "cell_type": "markdown",
   "metadata": {},
   "source": [
    "### Categorical feature plots"
   ]
  },
  {
   "cell_type": "code",
   "execution_count": null,
   "metadata": {},
   "outputs": [],
   "source": [
    "# Binary_outcome based on found_location\n",
    "locations = pd.unique(df.Found_Location.ravel())\n",
    "\n",
    "df['percent'] = 0\n",
    "\n",
    "for i in locations:\n",
    "    count = 1 / df[df.Found_Location == i].count()['binary_outcome']\n",
    "    index_list = df[df['Found_Location'] == i].index.tolist()\n",
    "    for ind in index_list:\n",
    "        df.loc[ind, 'percent'] = count * 100\n",
    "        \n",
    "group = df[['percent','Found_Location','binary_outcome']].groupby(['Found_Location','binary_outcome']).sum()\n",
    "\n",
    "my_plot = group.unstack().plot(kind='bar', stacked=True, title=\"Binary outcome based on found_location\", figsize=(15,7))\n",
    "\n",
    "red_patch = mpatches.Patch(color='orange', label='Death')\n",
    "blue_patch = mpatches.Patch(color='blue', label='Positive Outcome')\n",
    "my_plot.legend(handles=[red_patch, blue_patch], frameon = True)\n",
    "\n",
    "my_plot.set_xlabel(\"Found_Location\")\n",
    "my_plot.set_ylabel(\"% Binary_Outcome\")\n",
    "my_plot.set_ylim([0,100])"
   ]
  },
  {
   "cell_type": "markdown",
   "metadata": {},
   "source": [
    "The above plot seems to show a somewhat higher death rate among animals which were found in Austin. It is around 10%."
   ]
  },
  {
   "cell_type": "code",
   "execution_count": null,
   "metadata": {},
   "outputs": [],
   "source": [
    "# Binary_outcome based on whether animal is named or not.\n",
    "name = pd.unique(df.Name_Intake.ravel())\n",
    "df['percent'] = 0\n",
    "\n",
    "for i in name:\n",
    "    count = 1 / df[df.Name_Intake == i].count()['binary_outcome']\n",
    "    index_list = df[df['Name_Intake'] == i].index.tolist()\n",
    "    for ind in index_list:\n",
    "        df.loc[ind, 'percent'] = count * 100\n",
    "        \n",
    "group = df[['percent','Name_Intake','binary_outcome']].groupby(['Name_Intake','binary_outcome']).sum()\n",
    "\n",
    "my_plot = group.unstack().plot(kind='bar', stacked=True, title=\"Binary outcome based on whether animal is named or not\", figsize=(15,7))\n",
    "\n",
    "red_patch = mpatches.Patch(color='orange', label='Death')\n",
    "blue_patch = mpatches.Patch(color='blue', label='Positive Outcome')\n",
    "my_plot.legend(handles=[red_patch, blue_patch], frameon = True)\n",
    "\n",
    "my_plot.set_xlabel(\"Name_Intake\")\n",
    "my_plot.set_ylabel(\"% Binary_Outcome\")\n",
    "my_plot.set_ylim([0,100])"
   ]
  },
  {
   "cell_type": "markdown",
   "metadata": {},
   "source": [
    "The above plot shows that there is an increase in the death rate (around 20%) among animals whose names were not recorded in the records compared with named animals."
   ]
  },
  {
   "cell_type": "code",
   "execution_count": null,
   "metadata": {},
   "outputs": [],
   "source": [
    "# Binary_outcome based on breed\n",
    "breedtype = pd.unique(df.Breed_Intake.ravel())\n",
    "df['percent'] = 0\n",
    "\n",
    "for i in breedtype:\n",
    "    count = 1 / df[df.Breed_Intake == i].count()['binary_outcome']\n",
    "    index_list = df[df['Breed_Intake'] == i].index.tolist()\n",
    "    for ind in index_list:\n",
    "        df.loc[ind, 'percent'] = count * 100\n",
    "        \n",
    "group = df[['percent','Breed_Intake','binary_outcome']].groupby(['Breed_Intake','binary_outcome']).sum()\n",
    "\n",
    "my_plot = group.unstack().plot(kind='bar', stacked=True, title=\"Binary outcome based on breed type\", figsize=(15,7))\n",
    "\n",
    "red_patch = mpatches.Patch(color='orange', label='Death')\n",
    "blue_patch = mpatches.Patch(color='blue', label='Positive Outcome')\n",
    "my_plot.legend(handles=[red_patch, blue_patch], frameon = True)\n",
    "\n",
    "my_plot.set_xlabel(\"Breed_Intake\")\n",
    "my_plot.set_ylabel(\"% Binary_Outcome\")\n",
    "my_plot.set_ylim([0,100])"
   ]
  },
  {
   "cell_type": "markdown",
   "metadata": {},
   "source": [
    "This plot shows a higher negative outcome among mixed-breed and pure-breed animals when compared with cross-breeds. Mixed-breed and pure-breed display death rates of apporximately 10%."
   ]
  },
  {
   "cell_type": "code",
   "execution_count": null,
   "metadata": {},
   "outputs": [],
   "source": [
    "#Binary_outcome based on color type\n",
    "colors = pd.unique(df.Color_Intake.ravel())\n",
    "df['percent'] = 0\n",
    "\n",
    "for i in colors:\n",
    "    count = 1 / df[df.Color_Intake == i].count()['binary_outcome']\n",
    "    index_list = df[df['Color_Intake'] == i].index.tolist()\n",
    "    for ind in index_list:\n",
    "        df.loc[ind, 'percent'] = count * 100\n",
    "        \n",
    "group = df[['percent','Color_Intake','binary_outcome']].groupby(['Color_Intake','binary_outcome']).sum()\n",
    "\n",
    "my_plot = group.unstack().plot(kind='bar', stacked=True, title=\"Binary outcome based on color type\", figsize=(15,7))\n",
    "\n",
    "red_patch = mpatches.Patch(color='orange', label='Death')\n",
    "blue_patch = mpatches.Patch(color='blue', label='Positive Outcome')\n",
    "my_plot.legend(handles=[red_patch, blue_patch], frameon = True)\n",
    "\n",
    "my_plot.set_xlabel(\"Color_Intake\")\n",
    "my_plot.set_ylabel(\"% Binary_Outcome\")\n",
    "my_plot.set_ylim([0,100])"
   ]
  },
  {
   "cell_type": "markdown",
   "metadata": {},
   "source": [
    "The above plot does not provide us with much information."
   ]
  },
  {
   "cell_type": "code",
   "execution_count": null,
   "metadata": {},
   "outputs": [],
   "source": [
    "#Binary_outcome based on intake type\n",
    "intaketypes = pd.unique(df.Intake_Type.ravel())\n",
    "df['percent'] = 0\n",
    "\n",
    "for i in intaketypes:\n",
    "    count = 1 / df[df.Intake_Type == i].count()['binary_outcome']\n",
    "    index_list = df[df['Intake_Type'] == i].index.tolist()\n",
    "    for ind in index_list:\n",
    "        df.loc[ind, 'percent'] = count * 100\n",
    "        \n",
    "group = df[['percent','Intake_Type','binary_outcome']].groupby(['Intake_Type','binary_outcome']).sum()\n",
    "\n",
    "my_plot = group.unstack().plot(kind='bar', stacked=True, title=\"Binary outcome based on intake type\", figsize=(15,7))\n",
    "\n",
    "red_patch = mpatches.Patch(color='orange', label='Death')\n",
    "blue_patch = mpatches.Patch(color='blue', label='Positive Outcome')\n",
    "my_plot.legend(handles=[red_patch, blue_patch], frameon = True)\n",
    "\n",
    "my_plot.set_xlabel(\"Intake_Type\")\n",
    "my_plot.set_ylabel(\"% Binary_Outcome\")\n",
    "my_plot.set_ylim([0,100])"
   ]
  },
  {
   "cell_type": "markdown",
   "metadata": {},
   "source": [
    "This is a very significant plot. It shows an extremely high death  rate (over 90%) for animals of the 'wildlife' intake type. It is also very high (approx. 65%), quite naturally, for animals of the 'euthanasia request' intake type."
   ]
  },
  {
   "cell_type": "code",
   "execution_count": null,
   "metadata": {},
   "outputs": [],
   "source": [
    "#Binary_outcome based on intake condition\n",
    "condition = pd.unique(df.Intake_Condition.ravel())\n",
    "df['percent'] = 0\n",
    "\n",
    "for i in condition:\n",
    "    count = 1 / df[df.Intake_Condition == i].count()['binary_outcome']\n",
    "    index_list = df[df['Intake_Condition'] == i].index.tolist()\n",
    "    for ind in index_list:\n",
    "        df.loc[ind, 'percent'] = count * 100\n",
    "        \n",
    "group = df[['percent','Intake_Condition','binary_outcome']].groupby(['Intake_Condition','binary_outcome']).sum()\n",
    "\n",
    "my_plot = group.unstack().plot(kind='bar', stacked=True, title=\"Binary outcome based on Intake Condition\", figsize=(15,7))\n",
    "\n",
    "red_patch = mpatches.Patch(color='orange', label='Death')\n",
    "blue_patch = mpatches.Patch(color='blue', label='Positive Outcome')\n",
    "my_plot.legend(handles=[red_patch, blue_patch], frameon = True)\n",
    "\n",
    "my_plot.set_xlabel(\"Intake_Condition\")\n",
    "my_plot.set_ylabel(\"% Binary_Outcome\")\n",
    "my_plot.set_ylim([0,100])"
   ]
  },
  {
   "cell_type": "markdown",
   "metadata": {},
   "source": [
    "Again, this plot provides us with valuable information. It shows a high death rate for intakes which were classed as 'injured' (apporx. 50%) and relatively high rates for 'sick' and 'aged' intakes at 40% and 25% respectively."
   ]
  },
  {
   "cell_type": "code",
   "execution_count": null,
   "metadata": {},
   "outputs": [],
   "source": [
    "#Binary_outcome based on animal type\n",
    "animalType = pd.unique(df.Animal_Type_Intake.ravel())\n",
    "df['percent'] = 0\n",
    "\n",
    "for i in animalType:\n",
    "    count = 1 / df[df.Animal_Type_Intake == i].count()['binary_outcome']\n",
    "    index_list = df[df['Animal_Type_Intake'] == i].index.tolist()\n",
    "    for ind in index_list:\n",
    "        df.loc[ind, 'percent'] = count * 100\n",
    "        \n",
    "group = df[['percent','Animal_Type_Intake','binary_outcome']].groupby(['Animal_Type_Intake','binary_outcome']).sum()\n",
    "\n",
    "my_plot = group.unstack().plot(kind='bar', stacked=True, title=\"Binary outcome based on Animal Type\", figsize=(15,7))\n",
    "\n",
    "red_patch = mpatches.Patch(color='orange', label='Death')\n",
    "blue_patch = mpatches.Patch(color='blue', label='Positive Outcome')\n",
    "my_plot.legend(handles=[red_patch, blue_patch], frameon = True)\n",
    "\n",
    "my_plot.set_xlabel(\"Animal_Type_Intake\")\n",
    "my_plot.set_ylabel(\"% Binary_Outcome\")\n",
    "my_plot.set_ylim([0,100])"
   ]
  },
  {
   "cell_type": "markdown",
   "metadata": {},
   "source": [
    "The above plot shows that animals classed as 'other' have a very high death rate. It stands at around 80%. The next highest is the 'bird' category which stands at only 10%."
   ]
  },
  {
   "cell_type": "code",
   "execution_count": null,
   "metadata": {},
   "outputs": [],
   "source": [
    "#Binary_outcome based on sex_upon_intake\n",
    "sex = pd.unique(df.Sex_upon_Intake.ravel())\n",
    "df['percent'] = 0\n",
    "\n",
    "for i in sex:\n",
    "    count = 1 / df[df.Sex_upon_Intake == i].count()['binary_outcome']\n",
    "    index_list = df[df['Sex_upon_Intake'] == i].index.tolist()\n",
    "    for ind in index_list:\n",
    "        df.loc[ind, 'percent'] = count * 100\n",
    "        \n",
    "group = df[['percent','Sex_upon_Intake','binary_outcome']].groupby(['Sex_upon_Intake','binary_outcome']).sum()\n",
    "\n",
    "my_plot = group.unstack().plot(kind='bar', stacked=True, title=\"Binary outcome based on sex\", figsize=(15,7))\n",
    "\n",
    "red_patch = mpatches.Patch(color='orange', label='Death')\n",
    "blue_patch = mpatches.Patch(color='blue', label='Positive Outcome')\n",
    "my_plot.legend(handles=[red_patch, blue_patch], frameon = True)\n",
    "\n",
    "my_plot.set_xlabel(\"Sex_upon_Intake\")\n",
    "my_plot.set_ylabel(\"% Binary_Outcome\")\n",
    "my_plot.set_ylim([0,100])"
   ]
  },
  {
   "cell_type": "code",
   "execution_count": null,
   "metadata": {},
   "outputs": [],
   "source": [
    "#Binary_outcome based on sex_upon_outcome\n",
    "sex = pd.unique(df.Sex_upon_Outcome.ravel())\n",
    "df['percent'] = 0\n",
    "\n",
    "for i in sex:\n",
    "    count = 1 / df[df.Sex_upon_Outcome == i].count()['binary_outcome']\n",
    "    index_list = df[df['Sex_upon_Outcome'] == i].index.tolist()\n",
    "    for ind in index_list:\n",
    "        df.loc[ind, 'percent'] = count * 100\n",
    "        \n",
    "group = df[['percent','Sex_upon_Outcome','binary_outcome']].groupby(['Sex_upon_Outcome','binary_outcome']).sum()\n",
    "\n",
    "my_plot = group.unstack().plot(kind='bar', stacked=True, title=\"Binary outcome based on sex\", figsize=(15,7))\n",
    "\n",
    "red_patch = mpatches.Patch(color='orange', label='Death')\n",
    "blue_patch = mpatches.Patch(color='blue', label='Positive Outcome')\n",
    "my_plot.legend(handles=[red_patch, blue_patch], frameon = True)\n",
    "\n",
    "my_plot.set_xlabel(\"Sex_upon_Outcome\")\n",
    "my_plot.set_ylabel(\"% Binary_Outcome\")\n",
    "my_plot.set_ylim([0,100])"
   ]
  },
  {
   "cell_type": "markdown",
   "metadata": {},
   "source": [
    "The plots for the animals's sex show a a high death rate for animals whose sex was unknown at the time of intake and outcome in the shelter."
   ]
  },
  {
   "cell_type": "code",
   "execution_count": null,
   "metadata": {},
   "outputs": [],
   "source": [
    "df.select_dtypes(['category']).describe().T"
   ]
  },
  {
   "cell_type": "markdown",
   "metadata": {},
   "source": [
    "### Continuous-categorical feature plots"
   ]
  },
  {
   "cell_type": "code",
   "execution_count": null,
   "metadata": {},
   "outputs": [],
   "source": [
    "plt.figure()\n",
    "flierprops = dict(marker='o', markerfacecolor='green', markersize=6,\n",
    "                  linestyle='none')\n",
    "df.boxplot(column=['year_intake'], by=['binary_outcome'], flierprops=flierprops, figsize=(10,7))\n",
    "df.boxplot(column=['month_intake'], by=['binary_outcome'], flierprops=flierprops, figsize=(10,7))\n",
    "df.boxplot(column=['Age_upon_Intake'], by=['binary_outcome'], flierprops=flierprops, figsize=(10,7))\n",
    "df.boxplot(column=['Age_upon_Outcome'], by=['binary_outcome'], flierprops=flierprops, figsize=(10,7))\n"
   ]
  },
  {
   "cell_type": "code",
   "execution_count": null,
   "metadata": {},
   "outputs": [],
   "source": [
    "df[df['binary_outcome'] == 0][['year_intake']].hist(figsize=(7,7), bins=8)\n",
    "df[df['binary_outcome'] == 1][['year_intake']].hist(figsize=(7,7),bins=8)"
   ]
  },
  {
   "cell_type": "code",
   "execution_count": null,
   "metadata": {},
   "outputs": [],
   "source": [
    "df[df['binary_outcome'] == 0][['month_intake']].hist(figsize=(7,7), bins=12)\n",
    "df[df['binary_outcome'] == 1][['month_intake']].hist(figsize=(7,7),bins=12)"
   ]
  },
  {
   "cell_type": "code",
   "execution_count": null,
   "metadata": {},
   "outputs": [],
   "source": [
    "df[df['binary_outcome'] == 0][['Age_upon_Intake']].hist(figsize=(7,7), bins=12)\n",
    "df[df['binary_outcome'] == 1][['Age_upon_Intake']].hist(figsize=(7,7), bins=12)"
   ]
  },
  {
   "cell_type": "markdown",
   "metadata": {},
   "source": [
    "The above feature plots show that the majority of animals in the shelter have been under age of 2 years. We can see that the trend in the number of animals with negative outcomes reducing with age seems to sstop around the age of 10 years. The proportion of of negative outcomes for animals over the age of 10 years seems to be much higher than that of those of younger ages."
   ]
  },
  {
   "cell_type": "markdown",
   "metadata": {},
   "source": [
    "### - Discuss your findings from the plots above. Do you find any features or feature combinations that are indicative of the target outcome (i.e., churn)? Explain in plain words (a short paragraph) the story of your findings so far."
   ]
  },
  {
   "cell_type": "markdown",
   "metadata": {},
   "source": [
    "- Continuous vs Continuous\n",
    "    - I picked a number of continuous features that I thought may have an impact on binary outcome.\n",
    "    - Obviously, there is a strong correlation between the intake year and outcome year and intake age and outcome age.\n",
    "    - However, it was interesting to see the strong correlation between intake month and outcome month, which suggests a  relatively short time in the shelter for each animal.\n",
    "    -  This does not give us much additional information.\n",
    "- Categorical vs Categorical\n",
    "    - We can see a strong correlation between the intake_type and the binary_outcome, with wildlife and euthanasis requests showing a much higher death rate.  \n",
    "    - There is also a high correlation between intake_coniditon and binary_outcome, with injured, aged, and sick categories showing significantly high negative outcomes.\n",
    "    - There is a very high death rate among the animals whose type is recorded as 'other' when compared with cats, dogs, etc.\n",
    "- Continuous vs Categorical\n",
    "    - The majority of animals in the shelter have been under age of 2 years. \n",
    "    - We can see that the trend in the number of animals with negative outcomes reducing with age seems to sstop around the age of 10 years. The proportion of of negative outcomes for animals over the age of 10 years seems to be much higher than that of those of younger ages.\n",
    "   "
   ]
  },
  {
   "cell_type": "markdown",
   "metadata": {},
   "source": [
    "# (4). Transform, extend or combine the existing features to create a few new features.\n",
    "\n",
    "### Aim to better capture the problem domain and the target outcome. Justify the steps and choices you are making. Add these features to your clean dataset and save it as a CSV file with a self explanatory name. "
   ]
  },
  {
   "cell_type": "markdown",
   "metadata": {},
   "source": [
    "1. Add a Time_In_Shelter column. This will capture the length of time the animal has spend in the shelter. (expressed in years)."
   ]
  },
  {
   "cell_type": "code",
   "execution_count": null,
   "metadata": {},
   "outputs": [],
   "source": [
    "df[\"Time_In_Shelter\"] = df[\"Age_upon_Outcome\"] - df[\"Age_upon_Intake\"]\n"
   ]
  },
  {
   "cell_type": "code",
   "execution_count": null,
   "metadata": {},
   "outputs": [],
   "source": [
    "df[df['binary_outcome'] == 0][['Time_In_Shelter']].hist(figsize=(7,7))\n",
    "df[df['binary_outcome'] == 1][['Time_In_Shelter']].hist(figsize=(7,7))"
   ]
  },
  {
   "cell_type": "code",
   "execution_count": null,
   "metadata": {},
   "outputs": [],
   "source": [
    "df.head()"
   ]
  },
  {
   "cell_type": "markdown",
   "metadata": {},
   "source": [
    "2. Add a column that will express whether an animal has been neutered or spayed while in the shelter. This could provide information on a possible relationship between this process and the binary_outcome."
   ]
  },
  {
   "cell_type": "code",
   "execution_count": null,
   "metadata": {},
   "outputs": [],
   "source": [
    "for index, row in df.iterrows():\n",
    "    sexIntake=row['Sex_upon_Intake']\n",
    "    sexOutcome=row['Sex_upon_Outcome']\n",
    "    if sexIntake != sexOutcome:\n",
    "        print(sexIntake, sexOutcome)"
   ]
  },
  {
   "cell_type": "code",
   "execution_count": null,
   "metadata": {},
   "outputs": [],
   "source": [
    "\n",
    "for index, row in df.iterrows():\n",
    "    sexIntake=row['Sex_upon_Intake']\n",
    "    sexOutcome=row['Sex_upon_Outcome']\n",
    "    if sexIntake != sexOutcome:\n",
    "        df.set_value(index, 'Neutered_Spayed_In_Shelter', \"Yes\")\n",
    "    else:\n",
    "        df.set_value(index, 'Neutered_Spayed_In_Shelter', \"No\")\n",
    "        \n",
    "df['Neutered_Spayed_In_Shelter'] = df['Neutered_Spayed_In_Shelter'].astype('category')"
   ]
  },
  {
   "cell_type": "code",
   "execution_count": null,
   "metadata": {},
   "outputs": [],
   "source": [
    "df.head()"
   ]
  },
  {
   "cell_type": "code",
   "execution_count": null,
   "metadata": {},
   "outputs": [],
   "source": [
    "#Binary_outcome based on sex_upon_outcome\n",
    "sex = pd.unique(df.Neutered_Spayed_In_Shelter.ravel())\n",
    "df['percent'] = 0\n",
    "\n",
    "for i in sex:\n",
    "    count = 1 / df[df.Neutered_Spayed_In_Shelter == i].count()['binary_outcome']\n",
    "    index_list = df[df['Neutered_Spayed_In_Shelter'] == i].index.tolist()\n",
    "    for ind in index_list:\n",
    "        df.loc[ind, 'percent'] = count * 100\n",
    "        \n",
    "group = df[['percent','Neutered_Spayed_In_Shelter','binary_outcome']].groupby(['Neutered_Spayed_In_Shelter','binary_outcome']).sum()\n",
    "\n",
    "my_plot = group.unstack().plot(kind='bar', stacked=True, title=\"Binary outcome based on neutering/spaying\", figsize=(15,7))\n",
    "\n",
    "red_patch = mpatches.Patch(color='orange', label='Death')\n",
    "blue_patch = mpatches.Patch(color='blue', label='Positive Outcome')\n",
    "my_plot.legend(handles=[red_patch, blue_patch], frameon = True)\n",
    "\n",
    "my_plot.set_xlabel(\"Neutered_Spayed_In_Shelter\")\n",
    "my_plot.set_ylabel(\"% Binary_Outcome\")\n",
    "my_plot.set_ylim([0,100])"
   ]
  },
  {
   "cell_type": "markdown",
   "metadata": {},
   "source": [
    "This shows that their is a higher death rate among animal who have not been spayed or neutered while at the shelter. Possibly liked with the animal's intake condition and whether such a procedure would have been possible given the animal's condition. "
   ]
  },
  {
   "cell_type": "markdown",
   "metadata": {},
   "source": [
    "### To finish - Print data types, descriptive tables, save to csv"
   ]
  },
  {
   "cell_type": "code",
   "execution_count": null,
   "metadata": {},
   "outputs": [],
   "source": [
    "df.dtypes"
   ]
  },
  {
   "cell_type": "code",
   "execution_count": null,
   "metadata": {},
   "outputs": [],
   "source": [
    "# Print table with continuous statistics\n",
    "continuous_columns = df.select_dtypes(['int64','float64']).columns\n",
    "df[continuous_columns].describe().T"
   ]
  },
  {
   "cell_type": "code",
   "execution_count": null,
   "metadata": {},
   "outputs": [],
   "source": [
    "# Print table with categorical statistics\n",
    "df.select_dtypes(['category']).describe().T"
   ]
  },
  {
   "cell_type": "code",
   "execution_count": null,
   "metadata": {},
   "outputs": [],
   "source": [
    "# Write the cleaned dataframe to a csv file\n",
    "df.to_csv('Cleaned_Animal_Welfare_1-3.csv', index=False)"
   ]
  },
  {
   "cell_type": "code",
   "execution_count": null,
   "metadata": {},
   "outputs": [],
   "source": []
  },
  {
   "cell_type": "code",
   "execution_count": null,
   "metadata": {},
   "outputs": [],
   "source": []
  }
 ],
 "metadata": {
  "kernelspec": {
   "display_name": "Python 3",
   "language": "python",
   "name": "python3"
  },
  "language_info": {
   "codemirror_mode": {
    "name": "ipython",
    "version": 3
   },
   "file_extension": ".py",
   "mimetype": "text/x-python",
   "name": "python",
   "nbconvert_exporter": "python",
   "pygments_lexer": "ipython3",
   "version": "3.7.6"
  }
 },
 "nbformat": 4,
 "nbformat_minor": 2
}
