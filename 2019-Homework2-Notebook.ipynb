{
 "cells": [
  {
   "cell_type": "markdown",
   "metadata": {},
   "source": [
    "# Homework2\n",
    "\n",
    "Please upload to Brightspace a **.zip** archive containing your Jupyter Notebook with solutions and all data required to reproduce your solutions. \n",
    "\n",
    "Please also prepare a **requirements.txt** file which lists all the packages that you have used for your homework, one package per line. This will allow us to install all required packages.\n",
    "\n",
    "Please name your .zip archive using your full name and student id as follows - **Firstname_Lastname_12345678_COMP47350_Homework2.zip**. \n",
    "\n",
    "For your Notebook, please split the code and explanations into many little cells so it is easy to see and read the results of each step of your solution. Please remember to name your variables and methods with self-explanatory names. Please remember to write comments and where needed, justifications, for the decisions you make and code you write. Feel free to revisit *tips_to_keep_your_ipython_notebook_readable_and_easy_to_debug.html* provided on Brightspace.\n",
    "\n",
    "Your code and analysis is like a story that awaits to be read, make it a nice story please. Always start with an introduction about the problem and your understanding of the problem domain and the data analytics solution. Then  describe the steps you take and your findings from each step. Aim to keep the notebook clear and concise, with the key code and discussion.\n",
    "\n",
    "The accepted file formats for the homework are:\n",
    "    - .ipynb\n",
    "    - .zip\n",
    "    - .pdf\n",
    "    - .csv\n",
    "    \n",
    "Please keep the whole code in a single notebook. Usage of external tools/files is discouraged for portability reasons. Files in any other format but mentioned above can be used but will be ignored and not considered for the submission (including .doc, .rar, .7z, .pages, .xlsx, .tex etc.). \n",
    "Any image format is allowed to be used as far as the images appear embedded in your report (.ipynb or .pdf or .html).\n",
    "\n",
    " \n",
    "**Deadline: Sunday, 26 April, 2020, midnight.** "
   ]
  },
  {
   "cell_type": "markdown",
   "metadata": {},
   "source": [
    "## Exercises\n",
    "\n",
    "**This homework focuses on building and evaluating prediction models for a particular problem and dataset.**\n",
    "The problem and data come from an animal shelter concerned with animal welfare and reducing the risk of animal death. The shelter wants to use the data collected about their animals to build a data analytics solution for death risk prediction to help them in their planning towards improving the welfare of the animals they shelter. The shelter collects some data for each animal they take in (columns in the dataset with keyword \"intake\") and also records the status of each animal when it left the shelter (columns in the dataset with keyword \"outcome\").\n",
    "The target variable to predict is a binary variable called **binary_outcome**. For this variable, the value “1” indicates that after intake, the animal outcome was negative, e.g., \"death\", while the value \"0\" indicates that the animal outcome was a positive one, e.g., was adopted or returned to the owner.\n",
    "The dataset we work with is a sample of the data released by this shelter:\n",
    "https://data.austintexas.gov/Health-and-Community-Services/Austin-Animal-Center-Outcomes/9t4d-g238\n",
    "\n",
    "The goal in this homework is to work with the data to build and evaluate prediction models that capture the relationship between the descriptive features and the target feature **binary_outcome**. For this homework you are asked to use the same dataset allocated to you in Homework1 (you can use your cleaned/prepared CSV from Homework1 or start from the raw dataset, clean it according to concepts covered in the lectures/labs, then use it for training prediction models).\n",
    " \n",
    "There are 5 parts for this homework. Each part has an indicative maximum percentage given in brackets, e.g., part (1) has a maximum of 25% shown as [25]. The total that can be achieved is 100.\n",
    "\n",
    "\n",
    "(1). [25] **Data Understanding and Prep:** Exploring relationships between feature pairs and selecting/transforming promising features based on a given training set.\n",
    "    - (1.1) Randomly shuffle the rows of your dataset and split the dataset into two datasets: 70% training and 30% test. Keep the test set aside. \n",
    "    - (1.2) On the training set:\n",
    "        - Plot the correlations between all the continuous features. Discuss what you see in these plots.\n",
    "        - For each continuous feature, plot its interaction with the target feature (a plot for each pair of continuous feature and target feature). Discuss what you observe from these plots, e.g., which continuous features seem to be better at predicting the target feature? Choose a subset of continuous features you find promising (if any). Justify your choices.\n",
    "        - For each categorical feature, plot its pairwise interaction with the target feature. Discuss what knowledge you gain from these plots, e.g., which categorical features seem to be better at predicting the target feature? Choose a subset of categorical features you find promising (if any). Justify your choices.\n",
    "      \n",
    "    \n",
    "(2). [15] **Predictive Modeling:** Linear Regression.  \n",
    "    - (2.1) On the training set, train a linear regression model to predict the target feature, using only the descriptive features selected in exercise (1) above. \n",
    "    - (2.2) Print the coefficients learned by the model and discuss their role in the model (e.g., interpret the model by analysing each coefficient and how it relates the input feature to the target feature).    \n",
    "    - (2.3) Print the predicted target feature value for the first 10 training examples. Threshold the predicted target feature value given by the linear regression model at 0.5, to get the predicted class for each example. Print the predicted class for the first 10 examples. Print a few classification evaluation measures computed on the full training set (e.g., Accuracy, Confusion matrix, Precision, Recall, F1) and discuss your findings so far.\n",
    "    - (2.4) Evaluate the model using classification evaluation measures on the hold-out (30% examples) test set. Compare these results with the evaluation results obtained on the training (70%) dataset. Also compare these results with a cross-validated model (i.e., a new model trained and evaluated using cross-validation on the full dataset). You can use classic k-fold cross-validation or repeated train/test (70/30) splits. Compare the cross-validation metrics to those obtained on the single train/test split and discuss your findings.\n",
    "    \n",
    "(3). [15] **Predictive Modeling:** Logistic Regression.  \n",
    "    - (3.1) On the training set, train a logistic regression model to predict the target feature, using the descriptive features selected in exercise (1) above.   \n",
    "    - (3.2) Print the coefficients learned by the model and discuss their role in the model (e.g., interpret the model).    \n",
    "    - (3.3) Print the predicted target feature value for the first 10 training examples. Print the predicted class for the first 10 examples. Print a few classification evaluation measures computed on the full training set (e.g., Accuracy, Confusion matrix, Precision, Recall, F1) and discuss your findings so far.\n",
    "    - (3.4) Evaluate the model using classification evaluation measures on the hold-out (30% examples) test set. Compare these results with the evaluation results obtained when using the training (70%) dataset for evaluation. Also compare these results with a cross-validated model (i.e., a new model trained and evaluated using cross-validation on the full dataset). You can use classic k-fold cross-validation or repeated train/test (70/30) splits. Compare the cross-validation metrics to those obtained on the single train/test split and discuss your findings.\n",
    "    \n",
    "    \n",
    "(4). [20] **Predictive Modeling:** Random Forest.  \n",
    "    - (3.1) On the training set, train a random forest model to predict the target feature, using the descriptive features selected in exercise (1) above.   \n",
    "    - (3.2) Can you interpret the random forest model? Discuss any knowledge you can gain in regard of the working of this model.   \n",
    "    - (3.3) Print the predicted target feature value for the first 10 training examples. Print the predicted class for the first 10 examples. Print a few classification evaluation measures computed on the full training set (e.g., Accuracy, Confusion matrix, Precision, Recall, F1) and discuss your findings so far.\n",
    "    - (3.4) Evaluate the model using classification evaluation measures on the hold-out (30% examples) test set. Compare these results with the evaluation results obtained when using the training (70%) dataset for evaluation. Also compare these results with a cross-validated model (i.e., a new model trained and evaluated using cross-validation on the full dataset). You can use classic k-fold cross-validation or repeated train/test (70/30) splits. Compare the cross-validation metrics to those obtained on the single train/test split and to the out-of-sample error and discuss your findings.\n",
    "    \n",
    "(5). [25] **Improving Predictive Models.**\n",
    "    - (4.1) Which model of the ones trained above performs better at predicting the target feature? Is it more accurate than a simple model that always predicts the majority class (i.e., if binary_outcome=0 is the majority class in your dataset, the simple model always predicts 0 for the target feature)? Justify your answers.\n",
    "    - (4.2) Summarise your understanding of the problem and of your predictive modeling results so far. Can you think of any new ideas to improve the best model so far (e.g., by using furher data prep such as: feature selection, feature re-scaling, creating new features, combining models, or using other knowledge)? Please show how your ideas actually work in practice, by training and evaluating your proposed models. Summarise your findings so far.\n",
    "    - (4.3) Evaluate your best model on the new test dataset provided with this homework (in file '28032020-AnimalWelfareRisk-binaryOutcome-recent-1k.csv'). Discuss your findings.     "
   ]
  },
  {
   "cell_type": "markdown",
   "metadata": {},
   "source": [
    "# Homework 2\n",
    "-----------------------------------------------------------------------------------------\n",
    "\n",
    "## Introduction\n",
    "- This notebook will apply the cleaned dataset from homework 1 and use it to create 3 different models to predict whether an animal has a positive or negative outcome in the shelter.\n",
    "    - The value \"0\" indicates that the animal had a postive outcome, i.e. it was adopted, reclaimed, fostered. \n",
    "    - The value \"1\" that the animal had a negative outcome, i.e. death.\n",
    "- Each model will be a supervised learning model and the output will be a binary classification. \n",
    "- For each animal a number of features will be given (independent variables) and the target, binary_outcome (dependent variable), will be predicted.\n",
    "\n",
    "This homework will be broken down into 4 main parts:\n",
    "1. I will review the dataset from homework one and decide on which features to use to build the model\n",
    "2. I will create a Linear Regression model and analyse it.\n",
    "3. I will create a Logistical Regression model and analyse it.\n",
    "4. I will create a Random Forest model and analyse it.\n",
    "5. I will then try to optimized the model which appears to capture the target best. "
   ]
  },
  {
   "cell_type": "code",
   "execution_count": 1,
   "metadata": {},
   "outputs": [],
   "source": [
    "import pandas as pd\n",
    "import numpy as np\n",
    "import seaborn as sns\n",
    "import matplotlib.pyplot as plt\n",
    "import matplotlib.patches as mpatches\n",
    "\n",
    "from patsy import dmatrices\n",
    "\n",
    "from sklearn.linear_model import LinearRegression\n",
    "from sklearn.linear_model import LogisticRegression\n",
    "from sklearn.tree import DecisionTreeClassifier\n",
    "from sklearn.ensemble import RandomForestClassifier\n",
    "from sklearn.model_selection import train_test_split\n",
    "from sklearn import metrics\n",
    "from sklearn.model_selection import cross_validate\n",
    "from sklearn.model_selection import cross_val_score\n",
    "from sklearn.tree import export_graphviz\n",
    "from sklearn.utils import resample\n",
    "\n",
    "import graphviz\n",
    "from graphviz import Source\n",
    "\n",
    "# ignore warnings\n",
    "import warnings\n",
    "warnings.filterwarnings('ignore')"
   ]
  },
  {
   "cell_type": "markdown",
   "metadata": {},
   "source": [
    "##  1.1 Review, prepare and split the dataset into two datasets: 70% training and 30% test"
   ]
  },
  {
   "cell_type": "code",
   "execution_count": 2,
   "metadata": {},
   "outputs": [
    {
     "data": {
      "text/html": [
       "<div>\n",
       "<style scoped>\n",
       "    .dataframe tbody tr th:only-of-type {\n",
       "        vertical-align: middle;\n",
       "    }\n",
       "\n",
       "    .dataframe tbody tr th {\n",
       "        vertical-align: top;\n",
       "    }\n",
       "\n",
       "    .dataframe thead th {\n",
       "        text-align: right;\n",
       "    }\n",
       "</style>\n",
       "<table border=\"1\" class=\"dataframe\">\n",
       "  <thead>\n",
       "    <tr style=\"text-align: right;\">\n",
       "      <th></th>\n",
       "      <th>Animal_ID</th>\n",
       "      <th>Name_Intake</th>\n",
       "      <th>Found_Location</th>\n",
       "      <th>Intake_Type</th>\n",
       "      <th>Intake_Condition</th>\n",
       "      <th>Animal_Type_Intake</th>\n",
       "      <th>Sex_upon_Intake</th>\n",
       "      <th>Age_upon_Intake</th>\n",
       "      <th>Breed_Intake</th>\n",
       "      <th>Color_Intake</th>\n",
       "      <th>...</th>\n",
       "      <th>Age_upon_Outcome</th>\n",
       "      <th>binary_outcome</th>\n",
       "      <th>year_intake</th>\n",
       "      <th>month_intake</th>\n",
       "      <th>year_outcome</th>\n",
       "      <th>month_outcome</th>\n",
       "      <th>birth_year</th>\n",
       "      <th>birth_month</th>\n",
       "      <th>Time_In_Shelter</th>\n",
       "      <th>Neutered_Spayed_In_Shelter</th>\n",
       "    </tr>\n",
       "  </thead>\n",
       "  <tbody>\n",
       "    <tr>\n",
       "      <th>0</th>\n",
       "      <td>A715695</td>\n",
       "      <td>Unnamed</td>\n",
       "      <td>Austin (TX)</td>\n",
       "      <td>Stray</td>\n",
       "      <td>Normal</td>\n",
       "      <td>Cat</td>\n",
       "      <td>Intact Female</td>\n",
       "      <td>0.076923</td>\n",
       "      <td>Mixed-Breed</td>\n",
       "      <td>Pure-Color</td>\n",
       "      <td>...</td>\n",
       "      <td>0.166667</td>\n",
       "      <td>0.0</td>\n",
       "      <td>2015</td>\n",
       "      <td>11</td>\n",
       "      <td>2015</td>\n",
       "      <td>12</td>\n",
       "      <td>2015</td>\n",
       "      <td>10</td>\n",
       "      <td>0.089744</td>\n",
       "      <td>Yes</td>\n",
       "    </tr>\n",
       "    <tr>\n",
       "      <th>1</th>\n",
       "      <td>A743183</td>\n",
       "      <td>Named</td>\n",
       "      <td>Austin (TX)</td>\n",
       "      <td>Stray</td>\n",
       "      <td>Normal</td>\n",
       "      <td>Dog</td>\n",
       "      <td>Intact Male</td>\n",
       "      <td>0.416667</td>\n",
       "      <td>Mixed-Breed</td>\n",
       "      <td>Mixed-Color</td>\n",
       "      <td>...</td>\n",
       "      <td>0.416667</td>\n",
       "      <td>0.0</td>\n",
       "      <td>2017</td>\n",
       "      <td>2</td>\n",
       "      <td>2017</td>\n",
       "      <td>2</td>\n",
       "      <td>2016</td>\n",
       "      <td>9</td>\n",
       "      <td>0.000000</td>\n",
       "      <td>No</td>\n",
       "    </tr>\n",
       "    <tr>\n",
       "      <th>2</th>\n",
       "      <td>A776404</td>\n",
       "      <td>Unnamed</td>\n",
       "      <td>Austin (TX)</td>\n",
       "      <td>Stray</td>\n",
       "      <td>Normal</td>\n",
       "      <td>Cat</td>\n",
       "      <td>Intact Female</td>\n",
       "      <td>0.083333</td>\n",
       "      <td>Mixed-Breed</td>\n",
       "      <td>Pure-Color</td>\n",
       "      <td>...</td>\n",
       "      <td>0.166667</td>\n",
       "      <td>0.0</td>\n",
       "      <td>2018</td>\n",
       "      <td>7</td>\n",
       "      <td>2018</td>\n",
       "      <td>7</td>\n",
       "      <td>2018</td>\n",
       "      <td>5</td>\n",
       "      <td>0.083333</td>\n",
       "      <td>Yes</td>\n",
       "    </tr>\n",
       "    <tr>\n",
       "      <th>3</th>\n",
       "      <td>A713803</td>\n",
       "      <td>Named</td>\n",
       "      <td>Other (TX)</td>\n",
       "      <td>Stray</td>\n",
       "      <td>Normal</td>\n",
       "      <td>Cat</td>\n",
       "      <td>Intact Female</td>\n",
       "      <td>0.083333</td>\n",
       "      <td>Mixed-Breed</td>\n",
       "      <td>Pure-Color</td>\n",
       "      <td>...</td>\n",
       "      <td>0.250000</td>\n",
       "      <td>0.0</td>\n",
       "      <td>2015</td>\n",
       "      <td>10</td>\n",
       "      <td>2015</td>\n",
       "      <td>12</td>\n",
       "      <td>2015</td>\n",
       "      <td>9</td>\n",
       "      <td>0.166667</td>\n",
       "      <td>Yes</td>\n",
       "    </tr>\n",
       "    <tr>\n",
       "      <th>4</th>\n",
       "      <td>A704540</td>\n",
       "      <td>Named</td>\n",
       "      <td>Austin (TX)</td>\n",
       "      <td>Stray</td>\n",
       "      <td>Normal</td>\n",
       "      <td>Cat</td>\n",
       "      <td>Intact Female</td>\n",
       "      <td>0.076923</td>\n",
       "      <td>Mixed-Breed</td>\n",
       "      <td>Pure-Color</td>\n",
       "      <td>...</td>\n",
       "      <td>0.083333</td>\n",
       "      <td>0.0</td>\n",
       "      <td>2015</td>\n",
       "      <td>6</td>\n",
       "      <td>2015</td>\n",
       "      <td>6</td>\n",
       "      <td>2015</td>\n",
       "      <td>5</td>\n",
       "      <td>0.006410</td>\n",
       "      <td>No</td>\n",
       "    </tr>\n",
       "  </tbody>\n",
       "</table>\n",
       "<p>5 rows × 21 columns</p>\n",
       "</div>"
      ],
      "text/plain": [
       "  Animal_ID Name_Intake Found_Location Intake_Type Intake_Condition  \\\n",
       "0   A715695     Unnamed    Austin (TX)       Stray           Normal   \n",
       "1   A743183       Named    Austin (TX)       Stray           Normal   \n",
       "2   A776404     Unnamed    Austin (TX)       Stray           Normal   \n",
       "3   A713803       Named     Other (TX)       Stray           Normal   \n",
       "4   A704540       Named    Austin (TX)       Stray           Normal   \n",
       "\n",
       "  Animal_Type_Intake Sex_upon_Intake  Age_upon_Intake Breed_Intake  \\\n",
       "0                Cat   Intact Female         0.076923  Mixed-Breed   \n",
       "1                Dog     Intact Male         0.416667  Mixed-Breed   \n",
       "2                Cat   Intact Female         0.083333  Mixed-Breed   \n",
       "3                Cat   Intact Female         0.083333  Mixed-Breed   \n",
       "4                Cat   Intact Female         0.076923  Mixed-Breed   \n",
       "\n",
       "  Color_Intake  ... Age_upon_Outcome  binary_outcome  year_intake  \\\n",
       "0   Pure-Color  ...         0.166667             0.0         2015   \n",
       "1  Mixed-Color  ...         0.416667             0.0         2017   \n",
       "2   Pure-Color  ...         0.166667             0.0         2018   \n",
       "3   Pure-Color  ...         0.250000             0.0         2015   \n",
       "4   Pure-Color  ...         0.083333             0.0         2015   \n",
       "\n",
       "   month_intake  year_outcome  month_outcome  birth_year  birth_month  \\\n",
       "0            11          2015             12        2015           10   \n",
       "1             2          2017              2        2016            9   \n",
       "2             7          2018              7        2018            5   \n",
       "3            10          2015             12        2015            9   \n",
       "4             6          2015              6        2015            5   \n",
       "\n",
       "   Time_In_Shelter  Neutered_Spayed_In_Shelter  \n",
       "0         0.089744                         Yes  \n",
       "1         0.000000                          No  \n",
       "2         0.083333                         Yes  \n",
       "3         0.166667                         Yes  \n",
       "4         0.006410                          No  \n",
       "\n",
       "[5 rows x 21 columns]"
      ]
     },
     "execution_count": 2,
     "metadata": {},
     "output_type": "execute_result"
    }
   ],
   "source": [
    "# read in the cleaned csv\n",
    "df = pd.read_csv(\"Cleaned_Animal_Welfare_1-3.csv\", keep_default_na=True, sep=',\\s+', delimiter=',', skipinitialspace=True)\n",
    "\n",
    "df.head(5)"
   ]
  },
  {
   "cell_type": "code",
   "execution_count": 3,
   "metadata": {},
   "outputs": [
    {
     "data": {
      "text/plain": [
       "(1000, 21)"
      ]
     },
     "execution_count": 3,
     "metadata": {},
     "output_type": "execute_result"
    }
   ],
   "source": [
    "df.shape"
   ]
  },
  {
   "cell_type": "code",
   "execution_count": 4,
   "metadata": {},
   "outputs": [
    {
     "data": {
      "text/plain": [
       "Animal_ID                      object\n",
       "Name_Intake                    object\n",
       "Found_Location                 object\n",
       "Intake_Type                    object\n",
       "Intake_Condition               object\n",
       "Animal_Type_Intake             object\n",
       "Sex_upon_Intake                object\n",
       "Age_upon_Intake               float64\n",
       "Breed_Intake                   object\n",
       "Color_Intake                   object\n",
       "Sex_upon_Outcome               object\n",
       "Age_upon_Outcome              float64\n",
       "binary_outcome                float64\n",
       "year_intake                     int64\n",
       "month_intake                    int64\n",
       "year_outcome                    int64\n",
       "month_outcome                   int64\n",
       "birth_year                      int64\n",
       "birth_month                     int64\n",
       "Time_In_Shelter               float64\n",
       "Neutered_Spayed_In_Shelter     object\n",
       "dtype: object"
      ]
     },
     "execution_count": 4,
     "metadata": {},
     "output_type": "execute_result"
    }
   ],
   "source": [
    "df.dtypes"
   ]
  },
  {
   "cell_type": "code",
   "execution_count": 5,
   "metadata": {},
   "outputs": [],
   "source": [
    "df['year_intake'] = df['year_intake'].astype('object')\n",
    "df['month_intake'] = df['month_intake'].astype('object')\n",
    "df['year_outcome'] = df['year_outcome'].astype('object')\n",
    "df['month_outcome'] = df['month_outcome'].astype('object')\n",
    "df['birth_year'] = df['birth_year'].astype('object')\n",
    "df['birth_month'] = df['birth_month'].astype('object')"
   ]
  },
  {
   "cell_type": "code",
   "execution_count": 6,
   "metadata": {},
   "outputs": [
    {
     "data": {
      "text/plain": [
       "Animal_ID                      object\n",
       "Name_Intake                    object\n",
       "Found_Location                 object\n",
       "Intake_Type                    object\n",
       "Intake_Condition               object\n",
       "Animal_Type_Intake             object\n",
       "Sex_upon_Intake                object\n",
       "Age_upon_Intake               float64\n",
       "Breed_Intake                   object\n",
       "Color_Intake                   object\n",
       "Sex_upon_Outcome               object\n",
       "Age_upon_Outcome              float64\n",
       "binary_outcome                float64\n",
       "year_intake                    object\n",
       "month_intake                   object\n",
       "year_outcome                   object\n",
       "month_outcome                  object\n",
       "birth_year                     object\n",
       "birth_month                    object\n",
       "Time_In_Shelter               float64\n",
       "Neutered_Spayed_In_Shelter     object\n",
       "dtype: object"
      ]
     },
     "execution_count": 6,
     "metadata": {},
     "output_type": "execute_result"
    }
   ],
   "source": [
    "df.dtypes"
   ]
  },
  {
   "cell_type": "code",
   "execution_count": 7,
   "metadata": {},
   "outputs": [
    {
     "data": {
      "text/plain": [
       "Animal_ID                     0\n",
       "Name_Intake                   0\n",
       "Found_Location                0\n",
       "Intake_Type                   0\n",
       "Intake_Condition              0\n",
       "Animal_Type_Intake            0\n",
       "Sex_upon_Intake               0\n",
       "Age_upon_Intake               0\n",
       "Breed_Intake                  0\n",
       "Color_Intake                  0\n",
       "Sex_upon_Outcome              0\n",
       "Age_upon_Outcome              0\n",
       "binary_outcome                0\n",
       "year_intake                   0\n",
       "month_intake                  0\n",
       "year_outcome                  0\n",
       "month_outcome                 0\n",
       "birth_year                    0\n",
       "birth_month                   0\n",
       "Time_In_Shelter               0\n",
       "Neutered_Spayed_In_Shelter    0\n",
       "dtype: int64"
      ]
     },
     "execution_count": 7,
     "metadata": {},
     "output_type": "execute_result"
    }
   ],
   "source": [
    "df.isna().sum()"
   ]
  },
  {
   "cell_type": "code",
   "execution_count": 8,
   "metadata": {},
   "outputs": [],
   "source": [
    "df['binary_outcome'] = df['binary_outcome'].astype('int64')"
   ]
  },
  {
   "cell_type": "code",
   "execution_count": 9,
   "metadata": {},
   "outputs": [],
   "source": [
    "df['Neutered_Spayed_In_Shelter'] = df['Neutered_Spayed_In_Shelter'].map({'Yes': 1, \"No\": 0})"
   ]
  },
  {
   "cell_type": "markdown",
   "metadata": {},
   "source": [
    "#### Setup Column types\n",
    "I will now setup the continuous, categorical, target features\n",
    "\n",
    "##### Select all categorical columns and convert to categorical type\n",
    " - This will be needed later when it will be required to convert categorical features into dummy features for modeling"
   ]
  },
  {
   "cell_type": "code",
   "execution_count": 10,
   "metadata": {},
   "outputs": [
    {
     "data": {
      "text/plain": [
       "Name_Intake                   category\n",
       "Found_Location                category\n",
       "Intake_Type                   category\n",
       "Intake_Condition              category\n",
       "Animal_Type_Intake            category\n",
       "Sex_upon_Intake               category\n",
       "Breed_Intake                  category\n",
       "Color_Intake                  category\n",
       "Sex_upon_Outcome              category\n",
       "binary_outcome                category\n",
       "year_intake                   category\n",
       "month_intake                  category\n",
       "year_outcome                  category\n",
       "month_outcome                 category\n",
       "birth_year                    category\n",
       "birth_month                   category\n",
       "Neutered_Spayed_In_Shelter    category\n",
       "dtype: object"
      ]
     },
     "execution_count": 10,
     "metadata": {},
     "output_type": "execute_result"
    }
   ],
   "source": [
    "# Select columns containing categorical data\n",
    "categorical_columns = df[[\"Name_Intake\",\"Found_Location\",\"Intake_Type\",\"Intake_Condition\",\"Animal_Type_Intake\",\"Sex_upon_Intake\",\"Breed_Intake\",\"Color_Intake\", \"Sex_upon_Outcome\",\"binary_outcome\",\"year_intake\",\"month_intake\",\"year_outcome\",\"month_outcome\",\"birth_year\",\"birth_month\",\"Neutered_Spayed_In_Shelter\"]].columns\n",
    "\n",
    "# Convert data type to category for these columns\n",
    "for column in categorical_columns:\n",
    "    df[column] = df[column].astype('category')\n",
    "\n",
    "df[categorical_columns].dtypes"
   ]
  },
  {
   "cell_type": "markdown",
   "metadata": {},
   "source": [
    "##### Setup continuous columns as all the remaining columns that are not category i.e. they are float64"
   ]
  },
  {
   "cell_type": "code",
   "execution_count": 11,
   "metadata": {},
   "outputs": [
    {
     "data": {
      "text/plain": [
       "Age_upon_Intake     float64\n",
       "Age_upon_Outcome    float64\n",
       "Time_In_Shelter     float64\n",
       "dtype: object"
      ]
     },
     "execution_count": 11,
     "metadata": {},
     "output_type": "execute_result"
    }
   ],
   "source": [
    "continuous_columns = df.select_dtypes(['float64']).columns\n",
    "df[continuous_columns].dtypes"
   ]
  },
  {
   "cell_type": "markdown",
   "metadata": {},
   "source": [
    "##### Finally set the target feature \"binary_outcome\" to int64 \n",
    "- binary_outcome is a categorical feature but it is also the target feature\n",
    "- To allow continuous features to plot against the target, it will need to be int64 type\n",
    "- I will remove it from the list of categorical columns"
   ]
  },
  {
   "cell_type": "code",
   "execution_count": 12,
   "metadata": {},
   "outputs": [],
   "source": [
    "# convert \"binary_outcome\" to int64\n",
    "df['binary_outcome'] = df['binary_outcome'].astype('int64')\n",
    "# categorical_columns:\n",
    "categorical_columns = df[[\"Name_Intake\",\"Found_Location\",\"Intake_Type\",\"Intake_Condition\",\"Animal_Type_Intake\",\"Sex_upon_Intake\",\"Breed_Intake\",\"Color_Intake\", \"Sex_upon_Outcome\",\"year_intake\",\"month_intake\",\"year_outcome\",\"month_outcome\",\"birth_year\",\"birth_month\",\"Neutered_Spayed_In_Shelter\"]].columns\n"
   ]
  },
  {
   "cell_type": "code",
   "execution_count": 13,
   "metadata": {},
   "outputs": [
    {
     "data": {
      "text/plain": [
       "Animal_ID                       object\n",
       "Name_Intake                   category\n",
       "Found_Location                category\n",
       "Intake_Type                   category\n",
       "Intake_Condition              category\n",
       "Animal_Type_Intake            category\n",
       "Sex_upon_Intake               category\n",
       "Age_upon_Intake                float64\n",
       "Breed_Intake                  category\n",
       "Color_Intake                  category\n",
       "Sex_upon_Outcome              category\n",
       "Age_upon_Outcome               float64\n",
       "binary_outcome                   int64\n",
       "year_intake                   category\n",
       "month_intake                  category\n",
       "year_outcome                  category\n",
       "month_outcome                 category\n",
       "birth_year                    category\n",
       "birth_month                   category\n",
       "Time_In_Shelter                float64\n",
       "Neutered_Spayed_In_Shelter    category\n",
       "dtype: object"
      ]
     },
     "execution_count": 13,
     "metadata": {},
     "output_type": "execute_result"
    }
   ],
   "source": [
    "df.dtypes"
   ]
  },
  {
   "cell_type": "markdown",
   "metadata": {},
   "source": [
    "##### Shuffle the dataframe before splitting the dataset"
   ]
  },
  {
   "cell_type": "code",
   "execution_count": 14,
   "metadata": {},
   "outputs": [
    {
     "data": {
      "text/html": [
       "<div>\n",
       "<style scoped>\n",
       "    .dataframe tbody tr th:only-of-type {\n",
       "        vertical-align: middle;\n",
       "    }\n",
       "\n",
       "    .dataframe tbody tr th {\n",
       "        vertical-align: top;\n",
       "    }\n",
       "\n",
       "    .dataframe thead th {\n",
       "        text-align: right;\n",
       "    }\n",
       "</style>\n",
       "<table border=\"1\" class=\"dataframe\">\n",
       "  <thead>\n",
       "    <tr style=\"text-align: right;\">\n",
       "      <th></th>\n",
       "      <th>Animal_ID</th>\n",
       "      <th>Name_Intake</th>\n",
       "      <th>Found_Location</th>\n",
       "      <th>Intake_Type</th>\n",
       "      <th>Intake_Condition</th>\n",
       "      <th>Animal_Type_Intake</th>\n",
       "      <th>Sex_upon_Intake</th>\n",
       "      <th>Age_upon_Intake</th>\n",
       "      <th>Breed_Intake</th>\n",
       "      <th>Color_Intake</th>\n",
       "      <th>...</th>\n",
       "      <th>Age_upon_Outcome</th>\n",
       "      <th>binary_outcome</th>\n",
       "      <th>year_intake</th>\n",
       "      <th>month_intake</th>\n",
       "      <th>year_outcome</th>\n",
       "      <th>month_outcome</th>\n",
       "      <th>birth_year</th>\n",
       "      <th>birth_month</th>\n",
       "      <th>Time_In_Shelter</th>\n",
       "      <th>Neutered_Spayed_In_Shelter</th>\n",
       "    </tr>\n",
       "  </thead>\n",
       "  <tbody>\n",
       "    <tr>\n",
       "      <th>0</th>\n",
       "      <td>A715695</td>\n",
       "      <td>Unnamed</td>\n",
       "      <td>Austin (TX)</td>\n",
       "      <td>Stray</td>\n",
       "      <td>Normal</td>\n",
       "      <td>Cat</td>\n",
       "      <td>Intact Female</td>\n",
       "      <td>0.076923</td>\n",
       "      <td>Mixed-Breed</td>\n",
       "      <td>Pure-Color</td>\n",
       "      <td>...</td>\n",
       "      <td>0.166667</td>\n",
       "      <td>0</td>\n",
       "      <td>2015</td>\n",
       "      <td>11</td>\n",
       "      <td>2015</td>\n",
       "      <td>12</td>\n",
       "      <td>2015</td>\n",
       "      <td>10</td>\n",
       "      <td>0.089744</td>\n",
       "      <td>1</td>\n",
       "    </tr>\n",
       "    <tr>\n",
       "      <th>1</th>\n",
       "      <td>A743183</td>\n",
       "      <td>Named</td>\n",
       "      <td>Austin (TX)</td>\n",
       "      <td>Stray</td>\n",
       "      <td>Normal</td>\n",
       "      <td>Dog</td>\n",
       "      <td>Intact Male</td>\n",
       "      <td>0.416667</td>\n",
       "      <td>Mixed-Breed</td>\n",
       "      <td>Mixed-Color</td>\n",
       "      <td>...</td>\n",
       "      <td>0.416667</td>\n",
       "      <td>0</td>\n",
       "      <td>2017</td>\n",
       "      <td>2</td>\n",
       "      <td>2017</td>\n",
       "      <td>2</td>\n",
       "      <td>2016</td>\n",
       "      <td>9</td>\n",
       "      <td>0.000000</td>\n",
       "      <td>0</td>\n",
       "    </tr>\n",
       "    <tr>\n",
       "      <th>2</th>\n",
       "      <td>A776404</td>\n",
       "      <td>Unnamed</td>\n",
       "      <td>Austin (TX)</td>\n",
       "      <td>Stray</td>\n",
       "      <td>Normal</td>\n",
       "      <td>Cat</td>\n",
       "      <td>Intact Female</td>\n",
       "      <td>0.083333</td>\n",
       "      <td>Mixed-Breed</td>\n",
       "      <td>Pure-Color</td>\n",
       "      <td>...</td>\n",
       "      <td>0.166667</td>\n",
       "      <td>0</td>\n",
       "      <td>2018</td>\n",
       "      <td>7</td>\n",
       "      <td>2018</td>\n",
       "      <td>7</td>\n",
       "      <td>2018</td>\n",
       "      <td>5</td>\n",
       "      <td>0.083333</td>\n",
       "      <td>1</td>\n",
       "    </tr>\n",
       "    <tr>\n",
       "      <th>3</th>\n",
       "      <td>A713803</td>\n",
       "      <td>Named</td>\n",
       "      <td>Other (TX)</td>\n",
       "      <td>Stray</td>\n",
       "      <td>Normal</td>\n",
       "      <td>Cat</td>\n",
       "      <td>Intact Female</td>\n",
       "      <td>0.083333</td>\n",
       "      <td>Mixed-Breed</td>\n",
       "      <td>Pure-Color</td>\n",
       "      <td>...</td>\n",
       "      <td>0.250000</td>\n",
       "      <td>0</td>\n",
       "      <td>2015</td>\n",
       "      <td>10</td>\n",
       "      <td>2015</td>\n",
       "      <td>12</td>\n",
       "      <td>2015</td>\n",
       "      <td>9</td>\n",
       "      <td>0.166667</td>\n",
       "      <td>1</td>\n",
       "    </tr>\n",
       "    <tr>\n",
       "      <th>4</th>\n",
       "      <td>A704540</td>\n",
       "      <td>Named</td>\n",
       "      <td>Austin (TX)</td>\n",
       "      <td>Stray</td>\n",
       "      <td>Normal</td>\n",
       "      <td>Cat</td>\n",
       "      <td>Intact Female</td>\n",
       "      <td>0.076923</td>\n",
       "      <td>Mixed-Breed</td>\n",
       "      <td>Pure-Color</td>\n",
       "      <td>...</td>\n",
       "      <td>0.083333</td>\n",
       "      <td>0</td>\n",
       "      <td>2015</td>\n",
       "      <td>6</td>\n",
       "      <td>2015</td>\n",
       "      <td>6</td>\n",
       "      <td>2015</td>\n",
       "      <td>5</td>\n",
       "      <td>0.006410</td>\n",
       "      <td>0</td>\n",
       "    </tr>\n",
       "  </tbody>\n",
       "</table>\n",
       "<p>5 rows × 21 columns</p>\n",
       "</div>"
      ],
      "text/plain": [
       "  Animal_ID Name_Intake Found_Location Intake_Type Intake_Condition  \\\n",
       "0   A715695     Unnamed    Austin (TX)       Stray           Normal   \n",
       "1   A743183       Named    Austin (TX)       Stray           Normal   \n",
       "2   A776404     Unnamed    Austin (TX)       Stray           Normal   \n",
       "3   A713803       Named     Other (TX)       Stray           Normal   \n",
       "4   A704540       Named    Austin (TX)       Stray           Normal   \n",
       "\n",
       "  Animal_Type_Intake Sex_upon_Intake  Age_upon_Intake Breed_Intake  \\\n",
       "0                Cat   Intact Female         0.076923  Mixed-Breed   \n",
       "1                Dog     Intact Male         0.416667  Mixed-Breed   \n",
       "2                Cat   Intact Female         0.083333  Mixed-Breed   \n",
       "3                Cat   Intact Female         0.083333  Mixed-Breed   \n",
       "4                Cat   Intact Female         0.076923  Mixed-Breed   \n",
       "\n",
       "  Color_Intake  ... Age_upon_Outcome  binary_outcome  year_intake  \\\n",
       "0   Pure-Color  ...         0.166667               0         2015   \n",
       "1  Mixed-Color  ...         0.416667               0         2017   \n",
       "2   Pure-Color  ...         0.166667               0         2018   \n",
       "3   Pure-Color  ...         0.250000               0         2015   \n",
       "4   Pure-Color  ...         0.083333               0         2015   \n",
       "\n",
       "  month_intake year_outcome month_outcome birth_year birth_month  \\\n",
       "0           11         2015            12       2015          10   \n",
       "1            2         2017             2       2016           9   \n",
       "2            7         2018             7       2018           5   \n",
       "3           10         2015            12       2015           9   \n",
       "4            6         2015             6       2015           5   \n",
       "\n",
       "  Time_In_Shelter  Neutered_Spayed_In_Shelter  \n",
       "0        0.089744                           1  \n",
       "1        0.000000                           0  \n",
       "2        0.083333                           1  \n",
       "3        0.166667                           1  \n",
       "4        0.006410                           0  \n",
       "\n",
       "[5 rows x 21 columns]"
      ]
     },
     "execution_count": 14,
     "metadata": {},
     "output_type": "execute_result"
    }
   ],
   "source": [
    "# randomly generate sequence based on dataframe index and set to be new index\n",
    "df.set_index(np.random.permutation(df.index))\n",
    "# sort the resulting random index\n",
    "df.sort_index(inplace=True)\n",
    "df.head(5)"
   ]
  },
  {
   "cell_type": "markdown",
   "metadata": {},
   "source": [
    "##### The dataset will now be split into two datasets: 70% training and 30% test\n",
    "- Firstly I will set the target feature \"y\" to be binary outcome.\n",
    "- Then I will set \"X\" to be the remaining features in the dataframe i.e. drop \"binary_outcome\" from the dataframe"
   ]
  },
  {
   "cell_type": "code",
   "execution_count": 15,
   "metadata": {},
   "outputs": [],
   "source": [
    "y = pd.DataFrame(df[\"binary_outcome\"])\n",
    "X = df.drop([\"binary_outcome\"],1)"
   ]
  },
  {
   "cell_type": "markdown",
   "metadata": {},
   "source": [
    "##### The data set can now be split\n",
    "- The train test split will randomly split the dataset as per the test size\n",
    "- Set the random state=1 to allow the random shuffle to be repeated within this notebook only"
   ]
  },
  {
   "cell_type": "code",
   "execution_count": 16,
   "metadata": {},
   "outputs": [
    {
     "name": "stdout",
     "output_type": "stream",
     "text": [
      "original range is:  1000\n",
      "training range (70%):\t rows 0 to 700\n",
      "test range (30%): \t rows 700 to 1000\n"
     ]
    }
   ],
   "source": [
    "# Split the dataset into two datasets: 70% training and 30% test\n",
    "X_train, X_test, y_train, y_test = train_test_split(X, y, test_size=0.3,random_state=1)\n",
    "\n",
    "print(\"original range is: \",df.shape[0])\n",
    "print(\"training range (70%):\\t rows 0 to\", round(X_train.shape[0]))\n",
    "print(\"test range (30%): \\t rows\", round(X_train.shape[0]), \"to\", round(X_train.shape[0]) + X_test.shape[0])"
   ]
  },
  {
   "cell_type": "markdown",
   "metadata": {},
   "source": [
    "The dataset is now ready for plotting"
   ]
  },
  {
   "cell_type": "markdown",
   "metadata": {},
   "source": [
    "## 1.2 I will now carry out a series of plots on the training set, comparing all features to help make decisions on what features to keep for the model \n",
    "\n",
    "- All plots will be using the training subset of dataset: X_train, y_train\n",
    "\n",
    "### 1.2.1 Plot the correlations between all the continuous features. "
   ]
  },
  {
   "cell_type": "code",
   "execution_count": 17,
   "metadata": {},
   "outputs": [
    {
     "data": {
      "text/plain": [
       "(array([0.5, 1.5, 2.5]), <a list of 3 Text xticklabel objects>)"
      ]
     },
     "execution_count": 17,
     "metadata": {},
     "output_type": "execute_result"
    },
    {
     "data": {
      "image/png": "[encoded data removed]",
      "text/plain": [
       "<Figure size 1440x1440 with 2 Axes>"
      ]
     },
     "metadata": {},
     "output_type": "display_data"
    }
   ],
   "source": [
    "# Correlation matrix using code found on https://stanford.edu/~mwaskom/software/seaborn/examples/many_pairwise_correlations.html\n",
    "sns.set(style=\"white\")\n",
    "\n",
    "# Calculate correlation of all pairs of continuous features\n",
    "corr = X_train[continuous_columns].corr()\n",
    "\n",
    "# Generate a mask for the upper triangle\n",
    "mask = np.zeros_like(corr, dtype=np.bool)\n",
    "mask[np.triu_indices_from(mask)] = True\n",
    "\n",
    "# Set up the matplotlib figure\n",
    "f, ax = plt.subplots(figsize=(20, 20))\n",
    "\n",
    "# Generate a custom colormap - blue and red\n",
    "cmap = sns.diverging_palette(220, 10, as_cmap=True)\n",
    "\n",
    "# Draw the heatmap with the mask and correct aspect ratio\n",
    "sns.heatmap(corr, annot=True, mask=mask, cmap=cmap, vmax=1, vmin=-1,\n",
    "            square=True, xticklabels=True, yticklabels=True,\n",
    "            linewidths=.5, cbar_kws={\"shrink\": .5}, ax=ax)\n",
    "plt.yticks(rotation = 0)\n",
    "plt.xticks(rotation = 90)"
   ]
  },
  {
   "cell_type": "markdown",
   "metadata": {},
   "source": [
    "#### Interpretation of the results\n",
    "- Strong correlations -  We can see from the above heat map that is only one group of features that have a strong correlation.\n",
    "    - 'Age_upon_Intake' and 'Age_upon_Outcome' (1) - This is obviously to be expected - We may only need to keep one of these features (Age_upon_Intake) as the outcome age is captured by the new feature which was created Time_In_Shelter.\n",
    "- Weak correlations - There is one feature with no apparent correlation to any other features\n",
    "    - 'Time_In_Shelter' - we will check this feature against the target later and if no strong correlation exists it can be removed.\n",
    "- Initially this heat map does not appear to be very useful. This was, perhaps, to be expected. In the coming plots will see the correlations against the target and can take further action then.\n",
    "\n",
    "\n",
    "**Current status : Age_upon_Outcome**\n",
    "- We will label this as a low_information_gain feature."
   ]
  },
  {
   "cell_type": "code",
   "execution_count": 18,
   "metadata": {},
   "outputs": [],
   "source": [
    "low_information_gain = ['Age_upon_Outcome']"
   ]
  },
  {
   "cell_type": "markdown",
   "metadata": {},
   "source": [
    "### 1.2.2 Plot interaction between continuous features and target feature\n",
    "- Here I will loop over each continuous feature and make a scatter plot against the target 'binary_outcome'\n",
    "- I will discuss what I observe from these plots, e.g. which continuous features seem to be better at predicting the target feature\n",
    "- I will choose a subset of continuous features that I find promising (if any).\n",
    "\n",
    "Note: binary_outcome needs to be an int for these scatter plots."
   ]
  },
  {
   "cell_type": "code",
   "execution_count": 19,
   "metadata": {},
   "outputs": [
    {
     "name": "stderr",
     "output_type": "stream",
     "text": [
      "'c' argument looks like a single numeric RGB or RGBA sequence, which should be avoided as value-mapping will have precedence in case its length matches with 'x' & 'y'.  Please use a 2-D array with a single row if you really want to specify the same RGB or RGBA value for all points.\n",
      "'c' argument looks like a single numeric RGB or RGBA sequence, which should be avoided as value-mapping will have precedence in case its length matches with 'x' & 'y'.  Please use a 2-D array with a single row if you really want to specify the same RGB or RGBA value for all points.\n",
      "'c' argument looks like a single numeric RGB or RGBA sequence, which should be avoided as value-mapping will have precedence in case its length matches with 'x' & 'y'.  Please use a 2-D array with a single row if you really want to specify the same RGB or RGBA value for all points.\n"
     ]
    },
    {
     "data": {
      "text/html": [
       "<div>\n",
       "<style scoped>\n",
       "    .dataframe tbody tr th:only-of-type {\n",
       "        vertical-align: middle;\n",
       "    }\n",
       "\n",
       "    .dataframe tbody tr th {\n",
       "        vertical-align: top;\n",
       "    }\n",
       "\n",
       "    .dataframe thead th {\n",
       "        text-align: right;\n",
       "    }\n",
       "</style>\n",
       "<table border=\"1\" class=\"dataframe\">\n",
       "  <thead>\n",
       "    <tr style=\"text-align: right;\">\n",
       "      <th></th>\n",
       "      <th>binary_outcome</th>\n",
       "    </tr>\n",
       "  </thead>\n",
       "  <tbody>\n",
       "    <tr>\n",
       "      <th>Age_upon_Intake</th>\n",
       "      <td>-0.002227</td>\n",
       "    </tr>\n",
       "    <tr>\n",
       "      <th>Age_upon_Outcome</th>\n",
       "      <td>-0.003844</td>\n",
       "    </tr>\n",
       "    <tr>\n",
       "      <th>Time_In_Shelter</th>\n",
       "      <td>-0.030936</td>\n",
       "    </tr>\n",
       "  </tbody>\n",
       "</table>\n",
       "</div>"
      ],
      "text/plain": [
       "                  binary_outcome\n",
       "Age_upon_Intake        -0.002227\n",
       "Age_upon_Outcome       -0.003844\n",
       "Time_In_Shelter        -0.030936"
      ]
     },
     "execution_count": 19,
     "metadata": {},
     "output_type": "execute_result"
    },
    {
     "data": {
      "image/png": "[encoded data removed]",
      "text/plain": [
       "<Figure size 432x288 with 1 Axes>"
      ]
     },
     "metadata": {},
     "output_type": "display_data"
    },
    {
     "data": {
      "image/png": "[encoded data removed]",
      "text/plain": [
       "<Figure size 432x288 with 1 Axes>"
      ]
     },
     "metadata": {},
     "output_type": "display_data"
    },
    {
     "data": {
      "image/png": "[encoded data removed]",
      "text/plain": [
       "<Figure size 432x288 with 1 Axes>"
      ]
     },
     "metadata": {},
     "output_type": "display_data"
    }
   ],
   "source": [
    "# dict to hold correlation values \n",
    "corr_dict = {}\n",
    "\n",
    "# plot pairwise interaction between all continuous features and target\n",
    "for column in X_train[continuous_columns]:\n",
    "    # create temp df to merge column and target\n",
    "    df_temp = pd.concat([X_train[column], y_train], axis=1)\n",
    "    # store correlation in variable\n",
    "    correlation = df_temp[[column, \"binary_outcome\"]].corr().values[0,1]\n",
    "    # plot the column and tartget feature\n",
    "    df_temp.plot(kind='scatter', x=column, y=\"binary_outcome\", label=\"%.3f\" % correlation)\n",
    "    # add correlation to dict\n",
    "    corr_dict[column] = correlation\n",
    "\n",
    "# dataframe holding sorted correlation values to aid in interpreting results\n",
    "corr_df = pd.DataFrame.from_dict(corr_dict, orient='index', columns=['binary_outcome']).sort_values('binary_outcome', ascending=False)\n",
    "corr_df"
   ]
  },
  {
   "cell_type": "markdown",
   "metadata": {},
   "source": [
    "#### 1.2.3 Interpretation of the results\n",
    "- From obeservation of the plots, it is immediately evident that there are no clearly defined correlations.\n",
    "- The sorted correlation dataframe confirms this view. \n",
    "- Each of the three features has a very low correlation with the target, binary_outcome.\n",
    "- Correlations which are this low will be unilikely to have a significant impact on the outcome. \n",
    "- I will, therefore add each of these features to a low correlation bin.\n",
    "- This decision may be further explored and evaluated in part 5."
   ]
  },
  {
   "cell_type": "code",
   "execution_count": 20,
   "metadata": {},
   "outputs": [
    {
     "data": {
      "text/plain": [
       "['Age_upon_Intake', 'Age_upon_Outcome', 'Time_In_Shelter']"
      ]
     },
     "execution_count": 20,
     "metadata": {},
     "output_type": "execute_result"
    }
   ],
   "source": [
    "# generate list of features for low correlation bin\n",
    "low_correlation_features = []\n",
    "for key, value in corr_dict.items():\n",
    "    if value < 0.15 and value > -0.15:\n",
    "        low_correlation_features.append(key)\n",
    "low_correlation_features"
   ]
  },
  {
   "cell_type": "markdown",
   "metadata": {},
   "source": [
    "### 1.2.3 Plot interaction between categorical features and target feature\n",
    "- Here I will plot a pairwise interaction between each categorical feature against the target feature. \n",
    "- I will discuss what I observe from these plots, e.g., which categorical features seem to be better at predicting the target feature.\n",
    "- I will choose a subset of categorical features that I find promising (if any).\n",
    "\n",
    "There are 17 categorical features\n",
    "- Name_Intake, Found_Location, Intake_Type, Intake_Condition, Animal_Type_Intake, Sex_upon_Intake, Breed_Intake, Color_Intake\n",
    "- Sex_upon_Outcome, binary_outcome, year_intake, month_intake, year_outcome, month_outcome, birth_year, birth_month, Neutered_Spayed_In_Shelter \n",
    "- A stacked bar plot for each will be created.\n"
   ]
  },
  {
   "cell_type": "markdown",
   "metadata": {},
   "source": [
    "##### Create stacked bar plots for all categorical features"
   ]
  },
  {
   "cell_type": "code",
   "execution_count": 21,
   "metadata": {},
   "outputs": [
    {
     "name": "stdout",
     "output_type": "stream",
     "text": [
      "\n",
      " Name_Intake\n",
      "Index \t Count\n",
      "Named \t 437\n",
      "Unnamed \t 263\n",
      "\n",
      " Found_Location\n",
      "Index \t Count\n",
      "Outside (TX) \t 8\n",
      "Other (TX) \t 99\n",
      "Austin (TX) \t 593\n",
      "\n",
      " Intake_Type\n",
      "Index \t Count\n",
      "Owner Surrender \t 136\n",
      "Stray \t 485\n",
      "Wildlife \t 34\n",
      "Public Assist \t 40\n",
      "Euthanasia Request \t 5\n",
      "\n",
      " Intake_Condition\n",
      "Index \t Count\n",
      "Normal \t 609\n",
      "Injured \t 35\n",
      "Nursing \t 25\n",
      "Sick \t 25\n",
      "Feral \t 2\n",
      "Other \t 1\n",
      "Aged \t 3\n",
      "\n",
      " Animal_Type_Intake\n",
      "Index \t Count\n",
      "Cat \t 281\n",
      "Dog \t 366\n",
      "Other \t 44\n",
      "Bird \t 9\n",
      "\n",
      " Sex_upon_Intake\n",
      "Index \t Count\n",
      "Neutered Male \t 88\n",
      "Unknown \t 73\n",
      "Intact Female \t 213\n",
      "Spayed Female \t 88\n",
      "Intact Male \t 238\n",
      "\n",
      " Breed_Intake\n",
      "Index \t Count\n",
      "Mixed-Breed \t 543\n",
      "Pure-Breed \t 113\n",
      "Cross-Breed \t 44\n",
      "\n",
      " Color_Intake\n",
      "Index \t Count\n",
      "Pure-Color \t 350\n",
      "Mixed-Color \t 350\n",
      "\n",
      " Sex_upon_Outcome\n",
      "Index \t Count\n",
      "Neutered Male \t 226\n",
      "Unknown \t 73\n",
      "Intact Female \t 97\n",
      "Spayed Female \t 204\n",
      "Intact Male \t 100\n",
      "\n",
      " year_intake\n",
      "Index \t Count\n",
      "2017 \t 117\n",
      "2015 \t 109\n",
      "2019 \t 130\n",
      "2018 \t 99\n",
      "2014 \t 112\n",
      "2016 \t 109\n",
      "2020 \t 4\n",
      "2013 \t 20\n",
      "\n",
      " month_intake\n",
      "Index \t Count\n",
      "12 \t 55\n",
      "9 \t 69\n",
      "1 \t 41\n",
      "6 \t 82\n",
      "10 \t 75\n",
      "7 \t 73\n",
      "2 \t 44\n",
      "3 \t 35\n",
      "4 \t 47\n",
      "8 \t 56\n",
      "5 \t 64\n",
      "11 \t 59\n",
      "\n",
      " year_outcome\n",
      "Index \t Count\n",
      "2017 \t 116\n",
      "2015 \t 110\n",
      "2019 \t 134\n",
      "2018 \t 97\n",
      "2014 \t 109\n",
      "2016 \t 112\n",
      "2020 \t 5\n",
      "2013 \t 17\n",
      "\n",
      " month_outcome\n",
      "Index \t Count\n",
      "8 \t 60\n",
      "9 \t 76\n",
      "1 \t 35\n",
      "6 \t 76\n",
      "10 \t 78\n",
      "3 \t 38\n",
      "12 \t 68\n",
      "7 \t 80\n",
      "4 \t 43\n",
      "2 \t 47\n",
      "5 \t 47\n",
      "11 \t 52\n",
      "\n",
      " birth_year\n",
      "Index \t Count\n",
      "2017 \t 106\n",
      "2015 \t 91\n",
      "2012 \t 31\n",
      "2018 \t 68\n",
      "2006 \t 10\n",
      "2016 \t 80\n",
      "2014 \t 101\n",
      "2002 \t 4\n",
      "2019 \t 56\n",
      "2011 \t 30\n",
      "2013 \t 56\n",
      "2010 \t 15\n",
      "2008 \t 13\n",
      "2007 \t 11\n",
      "2009 \t 18\n",
      "2000 \t 2\n",
      "2003 \t 3\n",
      "2005 \t 2\n",
      "2004 \t 1\n",
      "1997 \t 1\n",
      "2001 \t 1\n",
      "\n",
      " birth_month\n",
      "Index \t Count\n",
      "4 \t 73\n",
      "8 \t 51\n",
      "1 \t 41\n",
      "6 \t 59\n",
      "10 \t 64\n",
      "12 \t 43\n",
      "7 \t 66\n",
      "9 \t 60\n",
      "5 \t 79\n",
      "3 \t 71\n",
      "11 \t 43\n",
      "2 \t 50\n",
      "\n",
      " Neutered_Spayed_In_Shelter\n",
      "Index \t Count\n",
      "0 \t 446\n",
      "1 \t 254\n"
     ]
    },
    {
     "data": {
      "image/png": "[encoded data removed]",
      "text/plain": [
       "<Figure size 1080x504 with 1 Axes>"
      ]
     },
     "metadata": {},
     "output_type": "display_data"
    },
    {
     "data": {
      "image/png": "[encoded data removed]",
      "text/plain": [
       "<Figure size 1080x504 with 1 Axes>"
      ]
     },
     "metadata": {},
     "output_type": "display_data"
    },
    {
     "data": {
      "image/png": "[encoded data removed]",
      "text/plain": [
       "<Figure size 1080x504 with 1 Axes>"
      ]
     },
     "metadata": {},
     "output_type": "display_data"
    },
    {
     "data": {
      "image/png": "[encoded data removed]",
      "text/plain": [
       "<Figure size 1080x504 with 1 Axes>"
      ]
     },
     "metadata": {},
     "output_type": "display_data"
    },
    {
     "data": {
      "image/png": "[encoded data removed]",
      "text/plain": [
       "<Figure size 1080x504 with 1 Axes>"
      ]
     },
     "metadata": {},
     "output_type": "display_data"
    },
    {
     "data": {
      "image/png": "[encoded data removed]",
      "text/plain": [
       "<Figure size 1080x504 with 1 Axes>"
      ]
     },
     "metadata": {},
     "output_type": "display_data"
    },
    {
     "data": {
      "image/png": "[encoded data removed]",
      "text/plain": [
       "<Figure size 1080x504 with 1 Axes>"
      ]
     },
     "metadata": {},
     "output_type": "display_data"
    },
    {
     "data": {
      "image/png": "[encoded data removed]",
      "text/plain": [
       "<Figure size 1080x504 with 1 Axes>"
      ]
     },
     "metadata": {},
     "output_type": "display_data"
    },
    {
     "data": {
      "image/png": "[encoded data removed]",
      "text/plain": [
       "<Figure size 1080x504 with 1 Axes>"
      ]
     },
     "metadata": {},
     "output_type": "display_data"
    },
    {
     "data": {
      "image/png": "[encoded data removed]",
      "text/plain": [
       "<Figure size 1080x504 with 1 Axes>"
      ]
     },
     "metadata": {},
     "output_type": "display_data"
    },
    {
     "data": {
      "image/png": "[encoded data removed]",
      "text/plain": [
       "<Figure size 1080x504 with 1 Axes>"
      ]
     },
     "metadata": {},
     "output_type": "display_data"
    },
    {
     "data": {
      "image/png": "[encoded data removed]",
      "text/plain": [
       "<Figure size 1080x504 with 1 Axes>"
      ]
     },
     "metadata": {},
     "output_type": "display_data"
    },
    {
     "data": {
      "image/png": "[encoded data removed]",
      "text/plain": [
       "<Figure size 1080x504 with 1 Axes>"
      ]
     },
     "metadata": {},
     "output_type": "display_data"
    },
    {
     "data": {
      "image/png": "[encoded data removed]",
      "text/plain": [
       "<Figure size 1080x504 with 1 Axes>"
      ]
     },
     "metadata": {},
     "output_type": "display_data"
    },
    {
     "data": {
      "image/png": "[encoded data removed]",
      "text/plain": [
       "<Figure size 1080x504 with 1 Axes>"
      ]
     },
     "metadata": {},
     "output_type": "display_data"
    },
    {
     "data": {
      "image/png": "[encoded data removed]",
      "text/plain": [
       "<Figure size 1080x504 with 1 Axes>"
      ]
     },
     "metadata": {},
     "output_type": "display_data"
    }
   ],
   "source": [
    "# for the comparison we will convert the target back to categorical\n",
    "y_train = y_train.astype(\"category\")\n",
    "#X_train[categorical_columns].columns\n",
    "\n",
    "# we will create temp dataframe for these plots, mergeing X_train and y_train\n",
    "df_temp= pd.concat([X_train, y_train], axis=1)\n",
    "\n",
    "\n",
    "# for each categorical feature create a stacked bar plot\n",
    "for categorical_feature in categorical_columns:\n",
    "    # Using code from the module lab\n",
    "    \n",
    "    features = pd.unique(df_temp[categorical_feature].ravel())\n",
    "\n",
    "    # add new column and set values to zero\n",
    "    df_temp['percent'] = 0\n",
    "\n",
    "    #print header\n",
    "    print(\"\\n\", categorical_feature)\n",
    "    print(\"Index \\t Count\")\n",
    "\n",
    "    # for each delinquency category\n",
    "    for i in features:\n",
    "\n",
    "        count = df_temp[df_temp[categorical_feature] == i].count()['binary_outcome']\n",
    "        count_percentage = (1 / count) * 100\n",
    "\n",
    "        # print out index vs count\n",
    "        print(i, \"\\t\", count)\n",
    "\n",
    "        index_list = df_temp[df_temp[categorical_feature] == i].index.tolist()\n",
    "        for ind in index_list:\n",
    "            df_temp.loc[ind, 'percent'] = count_percentage\n",
    "\n",
    "    group = df_temp[['percent',categorical_feature,'binary_outcome']].groupby([categorical_feature,'binary_outcome']).sum()\n",
    "\n",
    "    my_plot = group.unstack().plot(kind='bar', stacked=True, title=f\"Binary Outcome vs {categorical_feature}\", figsize=(15,7), grid=True)\n",
    "\n",
    "    # add legend\n",
    "    red_patch = mpatches.Patch(color='orange', label='Negative Outcome (1)')\n",
    "    blue_patch = mpatches.Patch(color='blue', label='Positive Outcome (0)')\n",
    "    my_plot.legend(handles=[red_patch, blue_patch], frameon = True)\n",
    "\n",
    "    # add gridlines\n",
    "    plt.grid(b=True, which='major', color='#666666', linestyle='-')\n",
    "    plt.minorticks_on()\n",
    "    plt.grid(b=True, which='minor', color='#999999', linestyle='-', alpha=0.2)\n",
    "\n",
    "    # add labels\n",
    "    my_plot.set_xlabel(\"Feature\")\n",
    "    my_plot.set_ylabel(\"% with positive/negative outcomes\")\n",
    "    my_plot.set_ylim([0,100])\n",
    "    \n",
    "# drop 'percent' that was used only for stacked bar plot\n",
    "df_temp = df_temp.drop(\"percent\", 1)"
   ]
  },
  {
   "cell_type": "markdown",
   "metadata": {},
   "source": [
    "#### Reminder of scale meanings\n",
    "| Neutered_Spayed_In_Shelter | meaning                           |\n",
    "|----------------------------|-----------------------------------|\n",
    "| 0                          | Not neutered/spayed in shelter    |\n",
    "| 1                          | Yes, neutered/spayed in shelter   |"
   ]
  },
  {
   "cell_type": "markdown",
   "metadata": {},
   "source": [
    "#### Interpretation of the results\n",
    "##### Binary_Outcome vs Name_Intake\n",
    "- From this plot, we can see that a higher proportion of animals in the 'unnamed' category have bad outcomes compared to 'named' animals. \n",
    "- The difference is approximately 15% as 17.5% od 'unnamed' animals have a bad outcome. This is interesting and may involve a number of factors such as animals whose names are unknown being more likely to be stray or wildlife. \n",
    "##### Binary_Outcome vs Found_Location\n",
    "- On initial inspection, there seems to be a much better record of positive outcomes for animals that were found outside of the state of Texas. There seems to be no negative outcomes for those animals while animals found in Austin and other parts of Texas appear to have a similar rate of negative outcomes, approxaimately 6-8%.\n",
    "- However, on inspection of the tables above, one can see there that there are only 8 entries involving animals found outside of the state of Texas. Due to this lack of data it is hard to hard to determine whether being found outside of the state of Texas has a higher likelihood of a positive outcome. \n",
    "##### Binary_Outcome vs Intake_Type\n",
    "- This appears to be a very significant feature. It is easy to see a clear difference in the levels of positive and negative outcomes.\n",
    "- There is a huge increase in the percentage of animals with negative outcomes when they are classed as euthansia requests or wildlife. Approximately 80% of animals with from classes as euthansia requests had negative outcomes and approximately 97.5% of animals classes as wildlife had negative outcomes.\n",
    "- The other three catgories are quite similar with negative outcomes accounting for less than 5% of cases. \n",
    "- However, the number of entries in the euthasia request category is only 5 which is a very limited amount of data. Despite this I would presume that the proprtions of negative outcomes are relatively accurate given they nature of the intake type, which is a euthanasia request. \n",
    "##### Binary_Outcome vs Intake_Condition\n",
    "- Aspects of this plot may need to be observed with caution as the categories Other, Feral and Aged have only 1,2 and 3 entries respectively. However, it does still seem to provide us with important information.  \n",
    "- Perhaps unsurprisingly, the categories Aged, Injured and Sick have a much higher proportion of negative outcomes than the other categories. \n",
    "- Approximately 35% of Aged an Sick animals and 42.5% of Injured animals have had negative outcomes with the other categories showing much higher levels of positive outcomes.\n",
    "##### Binary_Outcome vs Animal_Type_Intake\n",
    "- This plot gives an immediate visual impression of the much higher proportion of negative outcomes for animals in the Other intake type. \n",
    "- Approximately 82.5% of these animals have had a negative outcome.\n",
    "- In contrast, cats, dogs and birds have almost compltetely positive outcomes. Although there is a very limited number of birds in the data set. There are also no animals classed as Livestock in this training set.\n",
    "##### Binary_Outcome vs Sex_Upon_Intake\n",
    "- This plot gives an immediate visual impression of the much higher proportion of negative outcomes for animals whose sex is unknown on intake.\n",
    "- It is important to note the contrast here as over 50% of animals whose sex is unknown have a negative outcome.\n",
    "##### Binary_Outcome vs Breed_Intake\n",
    "- This plot does not show ver significant disparities in the proportions of negative outcomes. Approximately 10% of pure-breed and mixed-breed animals have had negative outcomes.\n",
    "- It is intersting to note that there have been no negative outcomes among cross-breed animals. This would tie in with the notion that cross-breeds have better health outcomes in general.\n",
    "##### Binary_Outcome vs Color_Intake\n",
    "- This plot shows that the color type of the animal does not seem to have any major effect on the animal's outcome.\n",
    "- This may be dropped later.\n",
    "##### Binary_Outcome vs Sex_Upon_Outcome\n",
    "- This plot does not display any major differences when compared with the Sex-Upon_Intake feature. The possibility of the sex being altered (neutering or spaying) is captured by another column.\n",
    "- Therefore, this feature does not provide additonal useful information. \n",
    "##### Binary_Outcome vs Year_Intake\n",
    "- This plot initally seems to show better outcomes for animals in more recent years. In particular all animals in 2020 appear to have had positive outcomes.\n",
    "- However, this is not very reliable as the data is only for a small portion of the year 2020 and there are only 20 animals form 2020 in the data set. \n",
    "- With this in mind there does not seem to be a great variance in the outcomes depending on the year. Each year ranges from approximately 7-12% of animals having negative outcomes.\n",
    "##### Binary_Outcome vs Month_Intake\n",
    "- This plot seems to show that the month of intake does have an effect on an animals outcome. \n",
    "- Importantly, there is a relatively even number of entries across the months.\n",
    "- Over 20% of animals taken in during March have had negative outcomes compared to less than 5% in January. This variance is interesting and must be significant. Although, a possible reason for this cannot be determined at this time.\n",
    "##### Binary_Outcome vs Year_Outcome and Month_Outcome\n",
    "- On inspection, these plots do not vary significantly from their 'Intake' counterparts. This suggests that a large proportion of intakes and outcomes occur within the same year and month. This asssumption is backed up by the scatter plot for the Time_In_Shelter feature. \n",
    "- Due to the above, and to the fact that the length of stay is captured by the Time_In_Shelter feauture, these two features may be dropped.\n",
    "##### Binary_Outcome vs Birth_Year\n",
    "- This plot initially seems to be indicative of variances in the rate of negative outcomes depending on the year of birth. However, on ispection it can be seen that many of the years which seem to show major differences are in fact representative of very low numbers of entries (1, 2, or 3 entries). \n",
    "- Due to this issue and to the fact, I will consider dropping it.\n",
    "##### Binary_Outcome vs Neutered_Spayed_In_Shelter\n",
    "- This is an additional feature which was added during Homework 1.\n",
    "- It records whether an annimal was spayed or neutered while in the shelter.\n",
    "- It is interesting as it shows that approximately 12.5% of animals who were not spayed/neutered while in the shelter had negativ outcomes and all of the animals that were spayed/neutered had positive outcomes.\n",
    "##### Binary_Outcome vs Birth_Month\n",
    "- This feature appears to show very little variance in the death rates for each month. \n",
    "- It will not have a significant impact on the outcome.\n",
    "- Therefore, I will consider dropping the feature.\n"
   ]
  },
  {
   "cell_type": "code",
   "execution_count": 22,
   "metadata": {},
   "outputs": [],
   "source": [
    "low_information_gain_categorical = ['Color_Intake', 'Sex_upon_Outcome', 'year_intake', 'year_outcome', 'month_outcome', 'birth_year', 'birth_month', 'month_intake']"
   ]
  },
  {
   "cell_type": "markdown",
   "metadata": {},
   "source": [
    "### 1.2.4 Summary & Drop Features\n",
    "\n",
    "1. From Continuous vs Continuous plots (1.2.1) I've identified the following to be dropped"
   ]
  },
  {
   "cell_type": "code",
   "execution_count": 23,
   "metadata": {},
   "outputs": [
    {
     "data": {
      "text/plain": [
       "['Age_upon_Outcome']"
      ]
     },
     "execution_count": 23,
     "metadata": {},
     "output_type": "execute_result"
    }
   ],
   "source": [
    "low_information_gain"
   ]
  },
  {
   "cell_type": "markdown",
   "metadata": {},
   "source": [
    "2. From Continuous vs Target plots (1.2.2) I've identified the following to be dropped"
   ]
  },
  {
   "cell_type": "code",
   "execution_count": 24,
   "metadata": {},
   "outputs": [
    {
     "data": {
      "text/plain": [
       "['Age_upon_Intake', 'Age_upon_Outcome', 'Time_In_Shelter']"
      ]
     },
     "execution_count": 24,
     "metadata": {},
     "output_type": "execute_result"
    }
   ],
   "source": [
    "low_correlation_features"
   ]
  },
  {
   "cell_type": "markdown",
   "metadata": {},
   "source": [
    "3. From Categorical vs Target (1.2.3) I've identified the following to be dropped"
   ]
  },
  {
   "cell_type": "code",
   "execution_count": 25,
   "metadata": {},
   "outputs": [
    {
     "data": {
      "text/plain": [
       "['Color_Intake',\n",
       " 'Sex_upon_Outcome',\n",
       " 'year_intake',\n",
       " 'year_outcome',\n",
       " 'month_outcome',\n",
       " 'birth_year',\n",
       " 'birth_month',\n",
       " 'month_intake']"
      ]
     },
     "execution_count": 25,
     "metadata": {},
     "output_type": "execute_result"
    }
   ],
   "source": [
    "low_information_gain_categorical"
   ]
  },
  {
   "cell_type": "markdown",
   "metadata": {},
   "source": [
    "These features will be dropped.\n",
    "- Before dropping I will duplicate the original dataframe, df, and label it df_rev1\n",
    "- I will drop features from this copy only (df_rev1)\n",
    "- This will allow me to revert to the original dataset later if I decide to compare the performance of the reduced dataset (df_rev1) with the original dataset (df)"
   ]
  },
  {
   "cell_type": "code",
   "execution_count": 26,
   "metadata": {},
   "outputs": [
    {
     "name": "stdout",
     "output_type": "stream",
     "text": [
      "\n",
      "Remaining columns: Index(['Animal_ID', 'Name_Intake', 'Found_Location', 'Intake_Type',\n",
      "       'Intake_Condition', 'Animal_Type_Intake', 'Sex_upon_Intake',\n",
      "       'Breed_Intake', 'binary_outcome', 'Neutered_Spayed_In_Shelter'],\n",
      "      dtype='object')\n",
      "\n",
      "New shape: (1000, 10)\n"
     ]
    }
   ],
   "source": [
    "# drop all low correlation features\n",
    "low_value_features = list(set(low_information_gain + low_correlation_features + low_information_gain_categorical))\n",
    "# before dropping make copy of original\n",
    "df_rev1 = df.copy()\n",
    "# drop low value features\n",
    "df_rev1.drop(low_value_features, 1, inplace=True)\n",
    "print('\\nRemaining columns:', df_rev1.columns)\n",
    "print('\\nNew shape:', df_rev1.shape)"
   ]
  },
  {
   "cell_type": "code",
   "execution_count": 27,
   "metadata": {},
   "outputs": [],
   "source": [
    "#df_rev1['Name_Intake'] = df_rev1['Name_Intake'].map({'Named': 1, \"Unnamed\": 0})"
   ]
  },
  {
   "cell_type": "code",
   "execution_count": 28,
   "metadata": {},
   "outputs": [],
   "source": [
    "df_rev1 = df_rev1.drop(columns=['Animal_ID'])"
   ]
  },
  {
   "cell_type": "code",
   "execution_count": 29,
   "metadata": {},
   "outputs": [
    {
     "name": "stdout",
     "output_type": "stream",
     "text": [
      "\n",
      "New shape: (1000, 9)\n"
     ]
    }
   ],
   "source": [
    "print('\\nNew shape:', df_rev1.shape)"
   ]
  },
  {
   "cell_type": "markdown",
   "metadata": {},
   "source": [
    "## 1.3 Prepare dataset for modeling\n",
    "I have picked descriptive features for the whole dataset, a number of additional steps will need to be taken to prepare the dataset for modeling \n",
    "- I will now convert the categorical variables into dummies variable to allow modeling\n",
    "- I will then remove the redundant dummies which contain no additional information\n",
    "- I will then set up the train test split again based on the dataset with the dummies included"
   ]
  },
  {
   "cell_type": "markdown",
   "metadata": {},
   "source": [
    "#### Set up dummy features. \n",
    "This will split up each categorical feature into a number of dummy features. The data type changes to \"uint8\""
   ]
  },
  {
   "cell_type": "code",
   "execution_count": 30,
   "metadata": {},
   "outputs": [
    {
     "data": {
      "text/plain": [
       "binary_outcome                    int64\n",
       "Name_Intake_Named                 uint8\n",
       "Name_Intake_Unnamed               uint8\n",
       "Found_Location_Austin (TX)        uint8\n",
       "Found_Location_Other (TX)         uint8\n",
       "Found_Location_Outside (TX)       uint8\n",
       "Intake_Type_Euthanasia Request    uint8\n",
       "Intake_Type_Owner Surrender       uint8\n",
       "Intake_Type_Public Assist         uint8\n",
       "Intake_Type_Stray                 uint8\n",
       "Intake_Type_Wildlife              uint8\n",
       "Intake_Condition_Aged             uint8\n",
       "Intake_Condition_Feral            uint8\n",
       "Intake_Condition_Injured          uint8\n",
       "Intake_Condition_Normal           uint8\n",
       "Intake_Condition_Nursing          uint8\n",
       "Intake_Condition_Other            uint8\n",
       "Intake_Condition_Pregnant         uint8\n",
       "Intake_Condition_Sick             uint8\n",
       "Animal_Type_Intake_Bird           uint8\n",
       "Animal_Type_Intake_Cat            uint8\n",
       "Animal_Type_Intake_Dog            uint8\n",
       "Animal_Type_Intake_Livestock      uint8\n",
       "Animal_Type_Intake_Other          uint8\n",
       "Sex_upon_Intake_Intact Female     uint8\n",
       "Sex_upon_Intake_Intact Male       uint8\n",
       "Sex_upon_Intake_Neutered Male     uint8\n",
       "Sex_upon_Intake_Spayed Female     uint8\n",
       "Sex_upon_Intake_Unknown           uint8\n",
       "Breed_Intake_Cross-Breed          uint8\n",
       "Breed_Intake_Mixed-Breed          uint8\n",
       "Breed_Intake_Pure-Breed           uint8\n",
       "Neutered_Spayed_In_Shelter_0      uint8\n",
       "Neutered_Spayed_In_Shelter_1      uint8\n",
       "dtype: object"
      ]
     },
     "execution_count": 30,
     "metadata": {},
     "output_type": "execute_result"
    }
   ],
   "source": [
    "# set up dummies features\n",
    "df_rev1 = pd.get_dummies(df_rev1)\n",
    "df_rev1.dtypes"
   ]
  },
  {
   "cell_type": "markdown",
   "metadata": {},
   "source": [
    "#### Remove redundant features\n",
    "Name_Intake_Named or Neutered_Spayed_In_Shelter_0 are not needed. These values are encoded in Name_Intake_Unnamed and Neutered_Spayed_In_Shelter_1. These will now be dropped"
   ]
  },
  {
   "cell_type": "code",
   "execution_count": 31,
   "metadata": {},
   "outputs": [],
   "source": [
    "df_rev1 = df_rev1.drop(['Name_Intake_Named','Neutered_Spayed_In_Shelter_0'],1)"
   ]
  },
  {
   "cell_type": "code",
   "execution_count": 32,
   "metadata": {},
   "outputs": [
    {
     "data": {
      "text/plain": [
       "(1000, 32)"
      ]
     },
     "execution_count": 32,
     "metadata": {},
     "output_type": "execute_result"
    }
   ],
   "source": [
    "df_rev1.shape"
   ]
  },
  {
   "cell_type": "markdown",
   "metadata": {},
   "source": [
    "#### Continuous columns are:"
   ]
  },
  {
   "cell_type": "code",
   "execution_count": 33,
   "metadata": {},
   "outputs": [
    {
     "data": {
      "text/plain": [
       "[]"
      ]
     },
     "execution_count": 33,
     "metadata": {},
     "output_type": "execute_result"
    }
   ],
   "source": [
    "continuous_columns = df_rev1.select_dtypes(include=['int64', 'float64']).columns.tolist()\n",
    "#remove the target \"binary_outcome\"\n",
    "continuous_columns.pop(0)\n",
    "continuous_columns"
   ]
  },
  {
   "cell_type": "markdown",
   "metadata": {},
   "source": [
    "#### Categorical columns are:"
   ]
  },
  {
   "cell_type": "code",
   "execution_count": 34,
   "metadata": {},
   "outputs": [
    {
     "data": {
      "text/plain": [
       "['Name_Intake_Unnamed',\n",
       " 'Found_Location_Austin (TX)',\n",
       " 'Found_Location_Other (TX)',\n",
       " 'Found_Location_Outside (TX)',\n",
       " 'Intake_Type_Euthanasia Request',\n",
       " 'Intake_Type_Owner Surrender',\n",
       " 'Intake_Type_Public Assist',\n",
       " 'Intake_Type_Stray',\n",
       " 'Intake_Type_Wildlife',\n",
       " 'Intake_Condition_Aged',\n",
       " 'Intake_Condition_Feral',\n",
       " 'Intake_Condition_Injured',\n",
       " 'Intake_Condition_Normal',\n",
       " 'Intake_Condition_Nursing',\n",
       " 'Intake_Condition_Other',\n",
       " 'Intake_Condition_Pregnant',\n",
       " 'Intake_Condition_Sick',\n",
       " 'Animal_Type_Intake_Bird',\n",
       " 'Animal_Type_Intake_Cat',\n",
       " 'Animal_Type_Intake_Dog',\n",
       " 'Animal_Type_Intake_Livestock',\n",
       " 'Animal_Type_Intake_Other',\n",
       " 'Sex_upon_Intake_Intact Female',\n",
       " 'Sex_upon_Intake_Intact Male',\n",
       " 'Sex_upon_Intake_Neutered Male',\n",
       " 'Sex_upon_Intake_Spayed Female',\n",
       " 'Sex_upon_Intake_Unknown',\n",
       " 'Breed_Intake_Cross-Breed',\n",
       " 'Breed_Intake_Mixed-Breed',\n",
       " 'Breed_Intake_Pure-Breed',\n",
       " 'Neutered_Spayed_In_Shelter_1']"
      ]
     },
     "execution_count": 34,
     "metadata": {},
     "output_type": "execute_result"
    }
   ],
   "source": [
    "categorical_columns = df_rev1.select_dtypes(include=['uint8']).columns.tolist()\n",
    "categorical_columns"
   ]
  },
  {
   "cell_type": "markdown",
   "metadata": {},
   "source": [
    "#### Total features are:"
   ]
  },
  {
   "cell_type": "code",
   "execution_count": 35,
   "metadata": {},
   "outputs": [
    {
     "data": {
      "text/plain": [
       "['Name_Intake_Unnamed',\n",
       " 'Found_Location_Austin (TX)',\n",
       " 'Found_Location_Other (TX)',\n",
       " 'Found_Location_Outside (TX)',\n",
       " 'Intake_Type_Euthanasia Request',\n",
       " 'Intake_Type_Owner Surrender',\n",
       " 'Intake_Type_Public Assist',\n",
       " 'Intake_Type_Stray',\n",
       " 'Intake_Type_Wildlife',\n",
       " 'Intake_Condition_Aged',\n",
       " 'Intake_Condition_Feral',\n",
       " 'Intake_Condition_Injured',\n",
       " 'Intake_Condition_Normal',\n",
       " 'Intake_Condition_Nursing',\n",
       " 'Intake_Condition_Other',\n",
       " 'Intake_Condition_Pregnant',\n",
       " 'Intake_Condition_Sick',\n",
       " 'Animal_Type_Intake_Bird',\n",
       " 'Animal_Type_Intake_Cat',\n",
       " 'Animal_Type_Intake_Dog',\n",
       " 'Animal_Type_Intake_Livestock',\n",
       " 'Animal_Type_Intake_Other',\n",
       " 'Sex_upon_Intake_Intact Female',\n",
       " 'Sex_upon_Intake_Intact Male',\n",
       " 'Sex_upon_Intake_Neutered Male',\n",
       " 'Sex_upon_Intake_Spayed Female',\n",
       " 'Sex_upon_Intake_Unknown',\n",
       " 'Breed_Intake_Cross-Breed',\n",
       " 'Breed_Intake_Mixed-Breed',\n",
       " 'Breed_Intake_Pure-Breed',\n",
       " 'Neutered_Spayed_In_Shelter_1']"
      ]
     },
     "execution_count": 35,
     "metadata": {},
     "output_type": "execute_result"
    }
   ],
   "source": [
    "features = continuous_columns + categorical_columns\n",
    "features"
   ]
  },
  {
   "cell_type": "markdown",
   "metadata": {},
   "source": [
    "### Setting up the train/test split\n",
    "- This is based on the dataset with dummy values\n",
    "- The Target is stored in dataframe \"y\"\n",
    "- The remaining features are stored in dataframe \"X\"\n",
    "- Both are split into training and test subsets"
   ]
  },
  {
   "cell_type": "code",
   "execution_count": 36,
   "metadata": {},
   "outputs": [
    {
     "name": "stdout",
     "output_type": "stream",
     "text": [
      "original range is:  1000\n",
      "training range (70%):\t rows 0 to 700\n",
      "test range (30%): \t rows 700 to 1000\n"
     ]
    }
   ],
   "source": [
    "# y is the target\n",
    "y = df_rev1[\"binary_outcome\"]\n",
    "# X is everything else\n",
    "X = df_rev1.drop([\"binary_outcome\"],1)\n",
    "# Split the dataset into two datasets: 70% training and 30% test\n",
    "X_train, X_test, y_train, y_test = train_test_split(X, y, random_state=1,  test_size=0.3)\n",
    "\n",
    "print(\"original range is: \",df_rev1.shape[0])\n",
    "print(\"training range (70%):\\t rows 0 to\", round(X_train.shape[0]))\n",
    "print(\"test range (30%): \\t rows\", round(X_train.shape[0]), \"to\", round(X_train.shape[0]) + X_test.shape[0])"
   ]
  },
  {
   "cell_type": "code",
   "execution_count": 37,
   "metadata": {},
   "outputs": [
    {
     "name": "stdout",
     "output_type": "stream",
     "text": [
      "\n",
      "Descriptive features in X:\n",
      "      Name_Intake_Unnamed  Found_Location_Austin (TX)  \\\n",
      "731                    0                           0   \n",
      "716                    1                           0   \n",
      "640                    1                           1   \n",
      "804                    0                           1   \n",
      "737                    0                           1   \n",
      "\n",
      "     Found_Location_Other (TX)  Found_Location_Outside (TX)  \\\n",
      "731                          0                            1   \n",
      "716                          1                            0   \n",
      "640                          0                            0   \n",
      "804                          0                            0   \n",
      "737                          0                            0   \n",
      "\n",
      "     Intake_Type_Euthanasia Request  Intake_Type_Owner Surrender  \\\n",
      "731                               0                            1   \n",
      "716                               0                            0   \n",
      "640                               0                            0   \n",
      "804                               0                            0   \n",
      "737                               0                            0   \n",
      "\n",
      "     Intake_Type_Public Assist  Intake_Type_Stray  Intake_Type_Wildlife  \\\n",
      "731                          0                  0                     0   \n",
      "716                          0                  1                     0   \n",
      "640                          0                  1                     0   \n",
      "804                          0                  1                     0   \n",
      "737                          0                  1                     0   \n",
      "\n",
      "     Intake_Condition_Aged  ...  Animal_Type_Intake_Other  \\\n",
      "731                      0  ...                         0   \n",
      "716                      0  ...                         0   \n",
      "640                      0  ...                         0   \n",
      "804                      0  ...                         0   \n",
      "737                      0  ...                         0   \n",
      "\n",
      "     Sex_upon_Intake_Intact Female  Sex_upon_Intake_Intact Male  \\\n",
      "731                              0                            0   \n",
      "716                              0                            0   \n",
      "640                              1                            0   \n",
      "804                              0                            0   \n",
      "737                              0                            0   \n",
      "\n",
      "     Sex_upon_Intake_Neutered Male  Sex_upon_Intake_Spayed Female  \\\n",
      "731                              1                              0   \n",
      "716                              0                              0   \n",
      "640                              0                              0   \n",
      "804                              0                              1   \n",
      "737                              0                              1   \n",
      "\n",
      "     Sex_upon_Intake_Unknown  Breed_Intake_Cross-Breed  \\\n",
      "731                        0                         0   \n",
      "716                        1                         0   \n",
      "640                        0                         0   \n",
      "804                        0                         0   \n",
      "737                        0                         0   \n",
      "\n",
      "     Breed_Intake_Mixed-Breed  Breed_Intake_Pure-Breed  \\\n",
      "731                         1                        0   \n",
      "716                         1                        0   \n",
      "640                         1                        0   \n",
      "804                         1                        0   \n",
      "737                         1                        0   \n",
      "\n",
      "     Neutered_Spayed_In_Shelter_1  \n",
      "731                             0  \n",
      "716                             0  \n",
      "640                             0  \n",
      "804                             0  \n",
      "737                             0  \n",
      "\n",
      "[5 rows x 31 columns]\n",
      "\n",
      "Target feature in y:\n",
      " 731    0\n",
      "716    0\n",
      "640    0\n",
      "804    0\n",
      "737    0\n",
      "Name: binary_outcome, dtype: int64\n"
     ]
    }
   ],
   "source": [
    "print(\"\\nDescriptive features in X:\\n\", X_train.head(5))\n",
    "print(\"\\nTarget feature in y:\\n\", y_train.head(5))"
   ]
  },
  {
   "cell_type": "markdown",
   "metadata": {},
   "source": [
    "#### Reset the indexes of the training and test splits\n",
    "- We can see from the X_train printout below that the indexes are no longer consecutive\n",
    "- This is the same for y_train, X_test, y_test\n",
    "- This will need to be dealt with next as it will effect merging of dataframes in the coming sections"
   ]
  },
  {
   "cell_type": "code",
   "execution_count": 38,
   "metadata": {},
   "outputs": [
    {
     "data": {
      "text/html": [
       "<div>\n",
       "<style scoped>\n",
       "    .dataframe tbody tr th:only-of-type {\n",
       "        vertical-align: middle;\n",
       "    }\n",
       "\n",
       "    .dataframe tbody tr th {\n",
       "        vertical-align: top;\n",
       "    }\n",
       "\n",
       "    .dataframe thead th {\n",
       "        text-align: right;\n",
       "    }\n",
       "</style>\n",
       "<table border=\"1\" class=\"dataframe\">\n",
       "  <thead>\n",
       "    <tr style=\"text-align: right;\">\n",
       "      <th></th>\n",
       "      <th>Name_Intake_Unnamed</th>\n",
       "      <th>Found_Location_Austin (TX)</th>\n",
       "      <th>Found_Location_Other (TX)</th>\n",
       "      <th>Found_Location_Outside (TX)</th>\n",
       "      <th>Intake_Type_Euthanasia Request</th>\n",
       "      <th>Intake_Type_Owner Surrender</th>\n",
       "      <th>Intake_Type_Public Assist</th>\n",
       "      <th>Intake_Type_Stray</th>\n",
       "      <th>Intake_Type_Wildlife</th>\n",
       "      <th>Intake_Condition_Aged</th>\n",
       "      <th>...</th>\n",
       "      <th>Animal_Type_Intake_Other</th>\n",
       "      <th>Sex_upon_Intake_Intact Female</th>\n",
       "      <th>Sex_upon_Intake_Intact Male</th>\n",
       "      <th>Sex_upon_Intake_Neutered Male</th>\n",
       "      <th>Sex_upon_Intake_Spayed Female</th>\n",
       "      <th>Sex_upon_Intake_Unknown</th>\n",
       "      <th>Breed_Intake_Cross-Breed</th>\n",
       "      <th>Breed_Intake_Mixed-Breed</th>\n",
       "      <th>Breed_Intake_Pure-Breed</th>\n",
       "      <th>Neutered_Spayed_In_Shelter_1</th>\n",
       "    </tr>\n",
       "  </thead>\n",
       "  <tbody>\n",
       "    <tr>\n",
       "      <th>731</th>\n",
       "      <td>0</td>\n",
       "      <td>0</td>\n",
       "      <td>0</td>\n",
       "      <td>1</td>\n",
       "      <td>0</td>\n",
       "      <td>1</td>\n",
       "      <td>0</td>\n",
       "      <td>0</td>\n",
       "      <td>0</td>\n",
       "      <td>0</td>\n",
       "      <td>...</td>\n",
       "      <td>0</td>\n",
       "      <td>0</td>\n",
       "      <td>0</td>\n",
       "      <td>1</td>\n",
       "      <td>0</td>\n",
       "      <td>0</td>\n",
       "      <td>0</td>\n",
       "      <td>1</td>\n",
       "      <td>0</td>\n",
       "      <td>0</td>\n",
       "    </tr>\n",
       "    <tr>\n",
       "      <th>716</th>\n",
       "      <td>1</td>\n",
       "      <td>0</td>\n",
       "      <td>1</td>\n",
       "      <td>0</td>\n",
       "      <td>0</td>\n",
       "      <td>0</td>\n",
       "      <td>0</td>\n",
       "      <td>1</td>\n",
       "      <td>0</td>\n",
       "      <td>0</td>\n",
       "      <td>...</td>\n",
       "      <td>0</td>\n",
       "      <td>0</td>\n",
       "      <td>0</td>\n",
       "      <td>0</td>\n",
       "      <td>0</td>\n",
       "      <td>1</td>\n",
       "      <td>0</td>\n",
       "      <td>1</td>\n",
       "      <td>0</td>\n",
       "      <td>0</td>\n",
       "    </tr>\n",
       "    <tr>\n",
       "      <th>640</th>\n",
       "      <td>1</td>\n",
       "      <td>1</td>\n",
       "      <td>0</td>\n",
       "      <td>0</td>\n",
       "      <td>0</td>\n",
       "      <td>0</td>\n",
       "      <td>0</td>\n",
       "      <td>1</td>\n",
       "      <td>0</td>\n",
       "      <td>0</td>\n",
       "      <td>...</td>\n",
       "      <td>0</td>\n",
       "      <td>1</td>\n",
       "      <td>0</td>\n",
       "      <td>0</td>\n",
       "      <td>0</td>\n",
       "      <td>0</td>\n",
       "      <td>0</td>\n",
       "      <td>1</td>\n",
       "      <td>0</td>\n",
       "      <td>0</td>\n",
       "    </tr>\n",
       "    <tr>\n",
       "      <th>804</th>\n",
       "      <td>0</td>\n",
       "      <td>1</td>\n",
       "      <td>0</td>\n",
       "      <td>0</td>\n",
       "      <td>0</td>\n",
       "      <td>0</td>\n",
       "      <td>0</td>\n",
       "      <td>1</td>\n",
       "      <td>0</td>\n",
       "      <td>0</td>\n",
       "      <td>...</td>\n",
       "      <td>0</td>\n",
       "      <td>0</td>\n",
       "      <td>0</td>\n",
       "      <td>0</td>\n",
       "      <td>1</td>\n",
       "      <td>0</td>\n",
       "      <td>0</td>\n",
       "      <td>1</td>\n",
       "      <td>0</td>\n",
       "      <td>0</td>\n",
       "    </tr>\n",
       "    <tr>\n",
       "      <th>737</th>\n",
       "      <td>0</td>\n",
       "      <td>1</td>\n",
       "      <td>0</td>\n",
       "      <td>0</td>\n",
       "      <td>0</td>\n",
       "      <td>0</td>\n",
       "      <td>0</td>\n",
       "      <td>1</td>\n",
       "      <td>0</td>\n",
       "      <td>0</td>\n",
       "      <td>...</td>\n",
       "      <td>0</td>\n",
       "      <td>0</td>\n",
       "      <td>0</td>\n",
       "      <td>0</td>\n",
       "      <td>1</td>\n",
       "      <td>0</td>\n",
       "      <td>0</td>\n",
       "      <td>1</td>\n",
       "      <td>0</td>\n",
       "      <td>0</td>\n",
       "    </tr>\n",
       "  </tbody>\n",
       "</table>\n",
       "<p>5 rows × 31 columns</p>\n",
       "</div>"
      ],
      "text/plain": [
       "     Name_Intake_Unnamed  Found_Location_Austin (TX)  \\\n",
       "731                    0                           0   \n",
       "716                    1                           0   \n",
       "640                    1                           1   \n",
       "804                    0                           1   \n",
       "737                    0                           1   \n",
       "\n",
       "     Found_Location_Other (TX)  Found_Location_Outside (TX)  \\\n",
       "731                          0                            1   \n",
       "716                          1                            0   \n",
       "640                          0                            0   \n",
       "804                          0                            0   \n",
       "737                          0                            0   \n",
       "\n",
       "     Intake_Type_Euthanasia Request  Intake_Type_Owner Surrender  \\\n",
       "731                               0                            1   \n",
       "716                               0                            0   \n",
       "640                               0                            0   \n",
       "804                               0                            0   \n",
       "737                               0                            0   \n",
       "\n",
       "     Intake_Type_Public Assist  Intake_Type_Stray  Intake_Type_Wildlife  \\\n",
       "731                          0                  0                     0   \n",
       "716                          0                  1                     0   \n",
       "640                          0                  1                     0   \n",
       "804                          0                  1                     0   \n",
       "737                          0                  1                     0   \n",
       "\n",
       "     Intake_Condition_Aged  ...  Animal_Type_Intake_Other  \\\n",
       "731                      0  ...                         0   \n",
       "716                      0  ...                         0   \n",
       "640                      0  ...                         0   \n",
       "804                      0  ...                         0   \n",
       "737                      0  ...                         0   \n",
       "\n",
       "     Sex_upon_Intake_Intact Female  Sex_upon_Intake_Intact Male  \\\n",
       "731                              0                            0   \n",
       "716                              0                            0   \n",
       "640                              1                            0   \n",
       "804                              0                            0   \n",
       "737                              0                            0   \n",
       "\n",
       "     Sex_upon_Intake_Neutered Male  Sex_upon_Intake_Spayed Female  \\\n",
       "731                              1                              0   \n",
       "716                              0                              0   \n",
       "640                              0                              0   \n",
       "804                              0                              1   \n",
       "737                              0                              1   \n",
       "\n",
       "     Sex_upon_Intake_Unknown  Breed_Intake_Cross-Breed  \\\n",
       "731                        0                         0   \n",
       "716                        1                         0   \n",
       "640                        0                         0   \n",
       "804                        0                         0   \n",
       "737                        0                         0   \n",
       "\n",
       "     Breed_Intake_Mixed-Breed  Breed_Intake_Pure-Breed  \\\n",
       "731                         1                        0   \n",
       "716                         1                        0   \n",
       "640                         1                        0   \n",
       "804                         1                        0   \n",
       "737                         1                        0   \n",
       "\n",
       "     Neutered_Spayed_In_Shelter_1  \n",
       "731                             0  \n",
       "716                             0  \n",
       "640                             0  \n",
       "804                             0  \n",
       "737                             0  \n",
       "\n",
       "[5 rows x 31 columns]"
      ]
     },
     "execution_count": 38,
     "metadata": {},
     "output_type": "execute_result"
    }
   ],
   "source": [
    "X_train.head(5)"
   ]
  },
  {
   "cell_type": "markdown",
   "metadata": {},
   "source": [
    "Reset the index of all training and test dataframes"
   ]
  },
  {
   "cell_type": "code",
   "execution_count": 39,
   "metadata": {},
   "outputs": [
    {
     "data": {
      "text/html": [
       "<div>\n",
       "<style scoped>\n",
       "    .dataframe tbody tr th:only-of-type {\n",
       "        vertical-align: middle;\n",
       "    }\n",
       "\n",
       "    .dataframe tbody tr th {\n",
       "        vertical-align: top;\n",
       "    }\n",
       "\n",
       "    .dataframe thead th {\n",
       "        text-align: right;\n",
       "    }\n",
       "</style>\n",
       "<table border=\"1\" class=\"dataframe\">\n",
       "  <thead>\n",
       "    <tr style=\"text-align: right;\">\n",
       "      <th></th>\n",
       "      <th>Name_Intake_Unnamed</th>\n",
       "      <th>Found_Location_Austin (TX)</th>\n",
       "      <th>Found_Location_Other (TX)</th>\n",
       "      <th>Found_Location_Outside (TX)</th>\n",
       "      <th>Intake_Type_Euthanasia Request</th>\n",
       "      <th>Intake_Type_Owner Surrender</th>\n",
       "      <th>Intake_Type_Public Assist</th>\n",
       "      <th>Intake_Type_Stray</th>\n",
       "      <th>Intake_Type_Wildlife</th>\n",
       "      <th>Intake_Condition_Aged</th>\n",
       "      <th>...</th>\n",
       "      <th>Animal_Type_Intake_Other</th>\n",
       "      <th>Sex_upon_Intake_Intact Female</th>\n",
       "      <th>Sex_upon_Intake_Intact Male</th>\n",
       "      <th>Sex_upon_Intake_Neutered Male</th>\n",
       "      <th>Sex_upon_Intake_Spayed Female</th>\n",
       "      <th>Sex_upon_Intake_Unknown</th>\n",
       "      <th>Breed_Intake_Cross-Breed</th>\n",
       "      <th>Breed_Intake_Mixed-Breed</th>\n",
       "      <th>Breed_Intake_Pure-Breed</th>\n",
       "      <th>Neutered_Spayed_In_Shelter_1</th>\n",
       "    </tr>\n",
       "  </thead>\n",
       "  <tbody>\n",
       "    <tr>\n",
       "      <th>0</th>\n",
       "      <td>0</td>\n",
       "      <td>0</td>\n",
       "      <td>0</td>\n",
       "      <td>1</td>\n",
       "      <td>0</td>\n",
       "      <td>1</td>\n",
       "      <td>0</td>\n",
       "      <td>0</td>\n",
       "      <td>0</td>\n",
       "      <td>0</td>\n",
       "      <td>...</td>\n",
       "      <td>0</td>\n",
       "      <td>0</td>\n",
       "      <td>0</td>\n",
       "      <td>1</td>\n",
       "      <td>0</td>\n",
       "      <td>0</td>\n",
       "      <td>0</td>\n",
       "      <td>1</td>\n",
       "      <td>0</td>\n",
       "      <td>0</td>\n",
       "    </tr>\n",
       "    <tr>\n",
       "      <th>1</th>\n",
       "      <td>1</td>\n",
       "      <td>0</td>\n",
       "      <td>1</td>\n",
       "      <td>0</td>\n",
       "      <td>0</td>\n",
       "      <td>0</td>\n",
       "      <td>0</td>\n",
       "      <td>1</td>\n",
       "      <td>0</td>\n",
       "      <td>0</td>\n",
       "      <td>...</td>\n",
       "      <td>0</td>\n",
       "      <td>0</td>\n",
       "      <td>0</td>\n",
       "      <td>0</td>\n",
       "      <td>0</td>\n",
       "      <td>1</td>\n",
       "      <td>0</td>\n",
       "      <td>1</td>\n",
       "      <td>0</td>\n",
       "      <td>0</td>\n",
       "    </tr>\n",
       "    <tr>\n",
       "      <th>2</th>\n",
       "      <td>1</td>\n",
       "      <td>1</td>\n",
       "      <td>0</td>\n",
       "      <td>0</td>\n",
       "      <td>0</td>\n",
       "      <td>0</td>\n",
       "      <td>0</td>\n",
       "      <td>1</td>\n",
       "      <td>0</td>\n",
       "      <td>0</td>\n",
       "      <td>...</td>\n",
       "      <td>0</td>\n",
       "      <td>1</td>\n",
       "      <td>0</td>\n",
       "      <td>0</td>\n",
       "      <td>0</td>\n",
       "      <td>0</td>\n",
       "      <td>0</td>\n",
       "      <td>1</td>\n",
       "      <td>0</td>\n",
       "      <td>0</td>\n",
       "    </tr>\n",
       "    <tr>\n",
       "      <th>3</th>\n",
       "      <td>0</td>\n",
       "      <td>1</td>\n",
       "      <td>0</td>\n",
       "      <td>0</td>\n",
       "      <td>0</td>\n",
       "      <td>0</td>\n",
       "      <td>0</td>\n",
       "      <td>1</td>\n",
       "      <td>0</td>\n",
       "      <td>0</td>\n",
       "      <td>...</td>\n",
       "      <td>0</td>\n",
       "      <td>0</td>\n",
       "      <td>0</td>\n",
       "      <td>0</td>\n",
       "      <td>1</td>\n",
       "      <td>0</td>\n",
       "      <td>0</td>\n",
       "      <td>1</td>\n",
       "      <td>0</td>\n",
       "      <td>0</td>\n",
       "    </tr>\n",
       "    <tr>\n",
       "      <th>4</th>\n",
       "      <td>0</td>\n",
       "      <td>1</td>\n",
       "      <td>0</td>\n",
       "      <td>0</td>\n",
       "      <td>0</td>\n",
       "      <td>0</td>\n",
       "      <td>0</td>\n",
       "      <td>1</td>\n",
       "      <td>0</td>\n",
       "      <td>0</td>\n",
       "      <td>...</td>\n",
       "      <td>0</td>\n",
       "      <td>0</td>\n",
       "      <td>0</td>\n",
       "      <td>0</td>\n",
       "      <td>1</td>\n",
       "      <td>0</td>\n",
       "      <td>0</td>\n",
       "      <td>1</td>\n",
       "      <td>0</td>\n",
       "      <td>0</td>\n",
       "    </tr>\n",
       "  </tbody>\n",
       "</table>\n",
       "<p>5 rows × 31 columns</p>\n",
       "</div>"
      ],
      "text/plain": [
       "   Name_Intake_Unnamed  Found_Location_Austin (TX)  Found_Location_Other (TX)  \\\n",
       "0                    0                           0                          0   \n",
       "1                    1                           0                          1   \n",
       "2                    1                           1                          0   \n",
       "3                    0                           1                          0   \n",
       "4                    0                           1                          0   \n",
       "\n",
       "   Found_Location_Outside (TX)  Intake_Type_Euthanasia Request  \\\n",
       "0                            1                               0   \n",
       "1                            0                               0   \n",
       "2                            0                               0   \n",
       "3                            0                               0   \n",
       "4                            0                               0   \n",
       "\n",
       "   Intake_Type_Owner Surrender  Intake_Type_Public Assist  Intake_Type_Stray  \\\n",
       "0                            1                          0                  0   \n",
       "1                            0                          0                  1   \n",
       "2                            0                          0                  1   \n",
       "3                            0                          0                  1   \n",
       "4                            0                          0                  1   \n",
       "\n",
       "   Intake_Type_Wildlife  Intake_Condition_Aged  ...  Animal_Type_Intake_Other  \\\n",
       "0                     0                      0  ...                         0   \n",
       "1                     0                      0  ...                         0   \n",
       "2                     0                      0  ...                         0   \n",
       "3                     0                      0  ...                         0   \n",
       "4                     0                      0  ...                         0   \n",
       "\n",
       "   Sex_upon_Intake_Intact Female  Sex_upon_Intake_Intact Male  \\\n",
       "0                              0                            0   \n",
       "1                              0                            0   \n",
       "2                              1                            0   \n",
       "3                              0                            0   \n",
       "4                              0                            0   \n",
       "\n",
       "   Sex_upon_Intake_Neutered Male  Sex_upon_Intake_Spayed Female  \\\n",
       "0                              1                              0   \n",
       "1                              0                              0   \n",
       "2                              0                              0   \n",
       "3                              0                              1   \n",
       "4                              0                              1   \n",
       "\n",
       "   Sex_upon_Intake_Unknown  Breed_Intake_Cross-Breed  \\\n",
       "0                        0                         0   \n",
       "1                        1                         0   \n",
       "2                        0                         0   \n",
       "3                        0                         0   \n",
       "4                        0                         0   \n",
       "\n",
       "   Breed_Intake_Mixed-Breed  Breed_Intake_Pure-Breed  \\\n",
       "0                         1                        0   \n",
       "1                         1                        0   \n",
       "2                         1                        0   \n",
       "3                         1                        0   \n",
       "4                         1                        0   \n",
       "\n",
       "   Neutered_Spayed_In_Shelter_1  \n",
       "0                             0  \n",
       "1                             0  \n",
       "2                             0  \n",
       "3                             0  \n",
       "4                             0  \n",
       "\n",
       "[5 rows x 31 columns]"
      ]
     },
     "execution_count": 39,
     "metadata": {},
     "output_type": "execute_result"
    }
   ],
   "source": [
    "# need to reset the index to allow contatenation with predicted values otherwise not joining on same index...\n",
    "X_train.reset_index(drop=True, inplace=True)\n",
    "y_train.reset_index(drop=True, inplace=True)\n",
    "X_test.reset_index(drop=True, inplace=True)\n",
    "y_test.reset_index(drop=True, inplace=True)\n",
    "X_train.head(5)"
   ]
  },
  {
   "cell_type": "markdown",
   "metadata": {},
   "source": [
    "The datasets are now ready for modeling"
   ]
  },
  {
   "cell_type": "markdown",
   "metadata": {},
   "source": [
    "## (2) Linear Regression Model\n",
    "#### 2.1 Train a linear regression model using only the descriptive features selected from part 1 above"
   ]
  },
  {
   "cell_type": "code",
   "execution_count": 41,
   "metadata": {},
   "outputs": [],
   "source": [
    "# Train aka fit, a model using all continuous and categorical features.\n",
    "multiple_linreg = LinearRegression().fit(X_train, y_train)"
   ]
  },
  {
   "cell_type": "markdown",
   "metadata": {},
   "source": [
    "#### 2.2 Print out the coefficients learned by the model"
   ]
  },
  {
   "cell_type": "code",
   "execution_count": 42,
   "metadata": {},
   "outputs": [
    {
     "name": "stdout",
     "output_type": "stream",
     "text": [
      "\n",
      "Features are: \n",
      " Index(['Name_Intake_Unnamed', 'Found_Location_Austin (TX)',\n",
      "       'Found_Location_Other (TX)', 'Found_Location_Outside (TX)',\n",
      "       'Intake_Type_Euthanasia Request', 'Intake_Type_Owner Surrender',\n",
      "       'Intake_Type_Public Assist', 'Intake_Type_Stray',\n",
      "       'Intake_Type_Wildlife', 'Intake_Condition_Aged',\n",
      "       'Intake_Condition_Feral', 'Intake_Condition_Injured',\n",
      "       'Intake_Condition_Normal', 'Intake_Condition_Nursing',\n",
      "       'Intake_Condition_Other', 'Intake_Condition_Pregnant',\n",
      "       'Intake_Condition_Sick', 'Animal_Type_Intake_Bird',\n",
      "       'Animal_Type_Intake_Cat', 'Animal_Type_Intake_Dog',\n",
      "       'Animal_Type_Intake_Livestock', 'Animal_Type_Intake_Other',\n",
      "       'Sex_upon_Intake_Intact Female', 'Sex_upon_Intake_Intact Male',\n",
      "       'Sex_upon_Intake_Neutered Male', 'Sex_upon_Intake_Spayed Female',\n",
      "       'Sex_upon_Intake_Unknown', 'Breed_Intake_Cross-Breed',\n",
      "       'Breed_Intake_Mixed-Breed', 'Breed_Intake_Pure-Breed',\n",
      "       'Neutered_Spayed_In_Shelter_1'],\n",
      "      dtype='object')\n",
      "\n",
      "Coeficients are: \n",
      " [-8.81980083e-03 -1.85344870e+13 -1.85344870e+13 -1.85344870e+13\n",
      "  9.29321563e+12  9.29321563e+12  9.29321563e+12  9.29321563e+12\n",
      "  9.29321563e+12 -1.52368747e+12 -1.52368747e+12 -1.52368747e+12\n",
      " -1.52368747e+12 -1.52368747e+12 -1.52368747e+12 -1.26190982e+12\n",
      " -1.52368747e+12  5.25031926e+11  5.25031926e+11  5.25031926e+11\n",
      "  5.48171403e+10  5.25031926e+11  2.89895846e+12  2.89895846e+12\n",
      "  2.89895846e+12  2.89895846e+12  2.89895846e+12  1.32037033e+12\n",
      "  1.32037033e+12  1.32037033e+12 -5.62820067e-02]\n",
      "\n",
      "Intercept is: \n",
      " 6020598127843.362\n",
      "\n",
      "Features and coeficients: \n",
      " [('Name_Intake_Unnamed', -0.008819800827971238), ('Found_Location_Austin (TX)', -18534487007789.805), ('Found_Location_Other (TX)', -18534487007789.793), ('Found_Location_Outside (TX)', -18534487007789.848), ('Intake_Type_Euthanasia Request', 9293215629215.86), ('Intake_Type_Owner Surrender', 9293215629215.207), ('Intake_Type_Public Assist', 9293215629215.195), ('Intake_Type_Stray', 9293215629215.182), ('Intake_Type_Wildlife', 9293215629215.799), ('Intake_Condition_Aged', -1523687465371.1099), ('Intake_Condition_Feral', -1523687465371.2808), ('Intake_Condition_Injured', -1523687465371.075), ('Intake_Condition_Normal', -1523687465371.1865), ('Intake_Condition_Nursing', -1523687465371.2366), ('Intake_Condition_Other', -1523687465371.1987), ('Intake_Condition_Pregnant', -1261909823676.623), ('Intake_Condition_Sick', -1523687465371.1487), ('Animal_Type_Intake_Bird', 525031926135.2279), ('Animal_Type_Intake_Cat', 525031926135.3573), ('Animal_Type_Intake_Dog', 525031926135.3275), ('Animal_Type_Intake_Livestock', 54817140310.95361), ('Animal_Type_Intake_Other', 525031926135.51935), ('Sex_upon_Intake_Intact Female', 2898958461544.645), ('Sex_upon_Intake_Intact Male', 2898958461544.6626), ('Sex_upon_Intake_Neutered Male', 2898958461544.598), ('Sex_upon_Intake_Spayed Female', 2898958461544.5854), ('Sex_upon_Intake_Unknown', 2898958461544.777), ('Breed_Intake_Cross-Breed', 1320370328422.5005), ('Breed_Intake_Mixed-Breed', 1320370328422.5146), ('Breed_Intake_Pure-Breed', 1320370328422.4805), ('Neutered_Spayed_In_Shelter_1', -0.05628200666300835)]\n"
     ]
    }
   ],
   "source": [
    "# Print the weights learned for each feature.\n",
    "print(\"\\nFeatures are: \\n\", X_train.columns)\n",
    "print(\"\\nCoeficients are: \\n\", multiple_linreg.coef_)\n",
    "print(\"\\nIntercept is: \\n\", multiple_linreg.intercept_)\n",
    "print(\"\\nFeatures and coeficients: \\n\", list(zip(X_train.columns, multiple_linreg.coef_)))"
   ]
  },
  {
   "cell_type": "markdown",
   "metadata": {},
   "source": [
    "#### 2.4 Printing 100 predicted target features and evaluate the prediction\n",
    "- Here I will print the predicted target feature value for the first 100 training examples. \n",
    "- I will threshold the predicted target feature value given by the linear regression model at 0.5, to get the predicted class for each example. \n",
    "    - If value is >= 0.5 it is cast to 1, if < 0.5 it is cast to 0"
   ]
  },
  {
   "cell_type": "code",
   "execution_count": 43,
   "metadata": {},
   "outputs": [
    {
     "name": "stdout",
     "output_type": "stream",
     "text": [
      "\n",
      "Predictions with multiple linear regression: \n",
      "\n",
      "    binary_outcome  Predicted\n",
      "0                0        0.0\n",
      "1                0        0.0\n",
      "2                0        0.0\n",
      "3                0        0.0\n",
      "4                0        0.0\n",
      "..             ...        ...\n",
      "95               0        0.0\n",
      "96               0        0.0\n",
      "97               0        0.0\n",
      "98               0        0.0\n",
      "99               0        0.0\n",
      "\n",
      "[100 rows x 2 columns]\n"
     ]
    }
   ],
   "source": [
    "# calculate the prediction and threshold the value. If >= 0.5 its true\n",
    "multiple_linreg_predictions_train = (multiple_linreg.predict(X_train) >= 0.5) * 1.0\n",
    "\n",
    "print(\"\\nPredictions with multiple linear regression: \\n\")\n",
    "actual_vs_predicted_multiplelinreg = pd.concat([y_train, pd.DataFrame(multiple_linreg_predictions_train, columns=['Predicted'])], axis=1)\n",
    "print(actual_vs_predicted_multiplelinreg.head(100))"
   ]
  },
  {
   "cell_type": "markdown",
   "metadata": {},
   "source": [
    "#### 2.5 Evaluation metrics based on training data\n",
    "- I will print the classification evaluation measures computed on the training set (e.g. Accuracy, Confusion Matrix, Precision, Recall, F1)\n",
    "- I will discuss findings based on these measures"
   ]
  },
  {
   "cell_type": "code",
   "execution_count": 44,
   "metadata": {},
   "outputs": [
    {
     "name": "stdout",
     "output_type": "stream",
     "text": [
      "==================== Train Data =======================\n",
      "Accuracy:  0.9671428571428572\n",
      "Confusion matrix: \n",
      " [[640   2]\n",
      " [ 21  37]]\n",
      "Classification report:\n",
      "                precision    recall  f1-score   support\n",
      "\n",
      "           0       0.97      1.00      0.98       642\n",
      "           1       0.95      0.64      0.76        58\n",
      "\n",
      "    accuracy                           0.97       700\n",
      "   macro avg       0.96      0.82      0.87       700\n",
      "weighted avg       0.97      0.97      0.96       700\n",
      "\n",
      "======================================================\n"
     ]
    }
   ],
   "source": [
    "# Some more evaluation metrics.\n",
    "print(\"==================== Train Data =======================\")\n",
    "print(\"Accuracy: \", metrics.accuracy_score(y_train, multiple_linreg_predictions_train))\n",
    "print(\"Confusion matrix: \\n\", metrics.confusion_matrix(y_train, multiple_linreg_predictions_train))\n",
    "print(\"Classification report:\\n \", metrics.classification_report(y_train, multiple_linreg_predictions_train))\n",
    "print(\"======================================================\")"
   ]
  },
  {
   "cell_type": "markdown",
   "metadata": {},
   "source": [
    "##### Interpretation of results\n",
    "- Accuracy\n",
    "    - This shows how often the model is correct. The accuracy rate seems to be very high. It is 96.7%\n",
    "- Confusion Matrix\n",
    "    - [0][0] TRUE NEGATIVE - The number that is predicted 0 that was actually 0\n",
    "    - [0][1] FALSE POSITIVE - The number that is predicted 1 that is actually 0\n",
    "    - [1][0] FALSE NEGATIVE - The number that is predicted 0 that is actually 1\n",
    "    - [1][1] TRUE POSITIVE - The number that is predicted 1 that is actually 1\n",
    "- Precision - How good the model is at predicting the positive class\n",
    "    - What % of the predicted positive are actually positive\n",
    "    - This is the number of values correctly predicted positive over the total number of  positive values\n",
    "    - Precision Positive is 0.95\n",
    "    - Precision Negative is 0.97\n",
    "- Recall\n",
    "    - What % of the positive values did we predict\n",
    "    - Is the number correctly predicted positive over the total number actual positive\n",
    "    - Recall Positive is 0.64\n",
    "    - Recall Negative is 1.00\n",
    "- F1 Score\n",
    "    - This is a weighted average of Precision and Recall\n",
    "    - F1 Score Positive is 0.76\n",
    "    - F1 Score Negative is 0.98\n",
    "\n",
    "Summary\n",
    "- These results seem to be very good. \n",
    "- However, the model is significantly better at predicting the negative class (0).\n",
    "- This makes sense as the model has much more negative data to learn from - it is the majority class. 642 compared to 58.\n",
    "- This is an issue as we would rather to have a better level of prediction accuracy for the minority class (1) as this the class that is the focus of the assignment.\n",
    "- This means that the we could possibly miss out on identifying a significant number of animals that are at risk of dying. \n",
    "- This might be looked at in the final section of this assignment. Sampling may improve the results.  "
   ]
  },
  {
   "cell_type": "markdown",
   "metadata": {},
   "source": [
    "#### 2.6 Evaluate the model using the hold-out (30% examples) test set\n",
    "- The results from the test data will be compared the results from the training data.\n",
    "- In addition they will be compared to the results from a cross-validated model (i.e. a new model trained and evaluated using cross-validation on the full dataset)."
   ]
  },
  {
   "cell_type": "markdown",
   "metadata": {},
   "source": [
    "Printing actual binary_outcome vs predicted based on test data"
   ]
  },
  {
   "cell_type": "code",
   "execution_count": 45,
   "metadata": {},
   "outputs": [
    {
     "name": "stdout",
     "output_type": "stream",
     "text": [
      "\n",
      "Predictions with multiple linear regression: \n",
      "\n",
      "    binary_outcome  Predicted\n",
      "0                0        0.0\n",
      "1                0        0.0\n",
      "2                0        0.0\n",
      "3                0        0.0\n",
      "4                0        0.0\n",
      "..             ...        ...\n",
      "95               0        0.0\n",
      "96               0        0.0\n",
      "97               0        0.0\n",
      "98               0        0.0\n",
      "99               1        0.0\n",
      "\n",
      "[100 rows x 2 columns]\n"
     ]
    }
   ],
   "source": [
    "# calculate the prediction and threshold the value. If >= 0.5 its true\n",
    "multiple_linreg_predictions_test = (multiple_linreg.predict(X_test) >= 0.5) * 1.0\n",
    "\n",
    "print(\"\\nPredictions with multiple linear regression: \\n\")\n",
    "actual_vs_predicted_multiplelinreg = pd.concat([y_test, pd.DataFrame(multiple_linreg_predictions_test, columns=['Predicted'])], axis=1)\n",
    "print(actual_vs_predicted_multiplelinreg.head(100))"
   ]
  },
  {
   "cell_type": "markdown",
   "metadata": {},
   "source": [
    "##### Evaluation metrics based on test data"
   ]
  },
  {
   "cell_type": "code",
   "execution_count": 46,
   "metadata": {},
   "outputs": [
    {
     "name": "stdout",
     "output_type": "stream",
     "text": [
      "==================== Test Data =======================\n",
      "Accuracy:  0.9333333333333333\n",
      "Confusion matrix: \n",
      " [[265   3]\n",
      " [ 17  15]]\n",
      "Classification report - Test data:\n",
      "                precision    recall  f1-score   support\n",
      "\n",
      "           0       0.94      0.99      0.96       268\n",
      "           1       0.83      0.47      0.60        32\n",
      "\n",
      "    accuracy                           0.93       300\n",
      "   macro avg       0.89      0.73      0.78       300\n",
      "weighted avg       0.93      0.93      0.92       300\n",
      "\n",
      "\n",
      "==================== Train Data ======================\n",
      "Accuracy:  0.9671428571428572\n",
      "Confusion matrix: \n",
      " [[640   2]\n",
      " [ 21  37]]\n",
      "\n",
      "Classification report: - Training data\n",
      "                precision    recall  f1-score   support\n",
      "\n",
      "           0       0.97      1.00      0.98       642\n",
      "           1       0.95      0.64      0.76        58\n",
      "\n",
      "    accuracy                           0.97       700\n",
      "   macro avg       0.96      0.82      0.87       700\n",
      "weighted avg       0.97      0.97      0.96       700\n",
      "\n"
     ]
    }
   ],
   "source": [
    "# Some more evaluation metrics.\n",
    "print(\"==================== Test Data =======================\")\n",
    "print(\"Accuracy: \", metrics.accuracy_score(y_test, multiple_linreg_predictions_test))\n",
    "print(\"Confusion matrix: \\n\", metrics.confusion_matrix(y_test, multiple_linreg_predictions_test))\n",
    "print(\"Classification report - Test data:\\n \", metrics.classification_report(y_test, multiple_linreg_predictions_test))\n",
    "print(\"\\n==================== Train Data ======================\")\n",
    "print(\"Accuracy: \", metrics.accuracy_score(y_train, multiple_linreg_predictions_train))\n",
    "print(\"Confusion matrix: \\n\", metrics.confusion_matrix(y_train, multiple_linreg_predictions_train))\n",
    "print(\"\\nClassification report: - Training data\\n \", metrics.classification_report(y_train, multiple_linreg_predictions_train))"
   ]
  },
  {
   "cell_type": "markdown",
   "metadata": {},
   "source": [
    "\n",
    "**Interpretation of test results and comparison with training results**\n",
    "- Accuracy\n",
    "    - The accuracy of the test data is slightly lower at 93.3% vs 96.7%. \n",
    "- Precision\n",
    "    - The precision score for predicting the positive class has reduced from 95% to 83%.\n",
    "    - The precision score for predicting the negative class has increased from 97% to 94%.\n",
    "- Recall\n",
    "    - The recall score for predicting the positive class has reduced from 64% to 47%.\n",
    "    - The recall score for predicting the negative class has reduced from 100% to 99%.\n",
    "- F1\n",
    "    - The f1 score for predicting the positive class has reduced from 76% to 60%.\n",
    "    - The f1 score for predicting the negative case has reduced from 98% to 96%.\n",
    "\n",
    "**Summary**\n",
    "- The accuracy of the model on the test data has remained high at 93.3%. This is to be expected due to the high proportion of 0 values in the target variable.\n",
    "- The precision score has also remained high but there has been a significant drop in the score for predicting the postive class (1).\n",
    "- The recall score for predicitng the positive class is very disapointing. It is at 47% for the test data. \n",
    "- The f1 score for prediciting the positive class has also reduced significantly to 60%.\n",
    "- These results do not give confidence in the model's ability to accurately predict the positive (1) class. \n",
    "- If this model is chosen, it wwould be interesting to see in part 5 if we could improve on this by possibly oversampling the positive class when training the model.\n",
    "- It could also we worth looking at adjusting the threshold for predicting a bad outcome (1) by increasing the sensitivity to the classifier.\n",
    "- Still, more comparisons do need to be made. This will be done by cross-validation."
   ]
  },
  {
   "cell_type": "markdown",
   "metadata": {},
   "source": [
    "#### 2.7 Cross validation\n",
    "- We will now perform cross validation on the linear regression model. \n",
    "- Here we perform the same evaluation as above but multiple times\n",
    "- Each time the data is shuffled so we get a slightly different view of the data for training and testing\n",
    "- This works well for evaluating on a limited set of data\n",
    "- We will store the results in a dictionary for later use\n",
    "\n",
    "First we need to create a function to perform this cross validation. Sklearn does not provide one for linear regression. However it does for logistic and random forests models\n",
    "- Cross validation Function can be seen below"
   ]
  },
  {
   "cell_type": "code",
   "execution_count": 47,
   "metadata": {},
   "outputs": [],
   "source": [
    "def cross_val_LinReg(X, y, cv=3, scoring='accuracy'):\n",
    "    \"\"\"Functions to carry out cross validation on the linear regression model\n",
    "    Default number of validations is 3. The randon state will be updated \n",
    "    at each iteration to allow our results to be repeated\"\"\"\n",
    "    \n",
    "    # store results\n",
    "    results = []\n",
    "    # evaluate cv times and append to results\n",
    "    for i in range(cv):\n",
    "        # set up train test split\n",
    "        X_train, X_test, y_train, y_test = train_test_split(X, y, random_state=i , test_size=0.3)\n",
    "        # generate model\n",
    "        multiple_linreg = LinearRegression().fit(X_train, y_train)\n",
    "        # threshold\n",
    "        multiple_linreg_predictions = (multiple_linreg.predict(X_test) >= 0.5) * 1.0\n",
    "        # calc score\n",
    "        if scoring=='accuracy':\n",
    "            score = metrics.accuracy_score(y_test, multiple_linreg_predictions)\n",
    "        elif scoring=='precision':\n",
    "            score = metrics.precision_score(y_test, multiple_linreg_predictions)\n",
    "        elif scoring=='f1':\n",
    "            score = metrics.f1_score(y_test, multiple_linreg_predictions)\n",
    "        elif scoring=='recall':\n",
    "            score = metrics.recall_score(y_test, multiple_linreg_predictions)\n",
    "        # append to results\n",
    "        results.append(score)\n",
    "    return results"
   ]
  },
  {
   "cell_type": "markdown",
   "metadata": {},
   "source": [
    "I will now create an additional function to perform 10 fold cross validation and store results into a dataframe\n",
    "- This will be used to simplify further analysis the dataset, looking at accuracy, precision, recall, f1."
   ]
  },
  {
   "cell_type": "code",
   "execution_count": 48,
   "metadata": {},
   "outputs": [],
   "source": [
    "def cross_val_LinReg_DF(X,y):\n",
    "    \"\"\"Function to perform cross validation and store results \n",
    "    in dataframe. Cross validation looks at accuracy, precision, \n",
    "    recall, f1. Returns a dataframe with results\"\"\"\n",
    "\n",
    "    linRegResults = {}\n",
    "    # metrics to test against\n",
    "    test_metrics = ['accuracy','precision','recall', 'f1']\n",
    "    \n",
    "    for metric in test_metrics:\n",
    "        # generate test results\n",
    "        result = cross_val_LinReg(X, y, cv=10, scoring=metric)\n",
    "        length = len(result)\n",
    "        # store result in dict\n",
    "        linRegResults[metric] = sum(result)/length\n",
    "\n",
    "    # create dataframe with results\n",
    "    LinRegDF = pd.DataFrame.from_dict(linRegResults, orient='index', columns=['Linear_Regression'])\n",
    "    \n",
    "    return LinRegDF"
   ]
  },
  {
   "cell_type": "markdown",
   "metadata": {},
   "source": [
    "Preform 10 fold cross validation using cross_val_LinReg_DF function\n",
    "- Results summarised below"
   ]
  },
  {
   "cell_type": "code",
   "execution_count": 49,
   "metadata": {},
   "outputs": [
    {
     "name": "stdout",
     "output_type": "stream",
     "text": [
      "Mean results from 10 fold cross validation are:\n"
     ]
    },
    {
     "data": {
      "text/html": [
       "<div>\n",
       "<style scoped>\n",
       "    .dataframe tbody tr th:only-of-type {\n",
       "        vertical-align: middle;\n",
       "    }\n",
       "\n",
       "    .dataframe tbody tr th {\n",
       "        vertical-align: top;\n",
       "    }\n",
       "\n",
       "    .dataframe thead th {\n",
       "        text-align: right;\n",
       "    }\n",
       "</style>\n",
       "<table border=\"1\" class=\"dataframe\">\n",
       "  <thead>\n",
       "    <tr style=\"text-align: right;\">\n",
       "      <th></th>\n",
       "      <th>Linear_Regression</th>\n",
       "    </tr>\n",
       "  </thead>\n",
       "  <tbody>\n",
       "    <tr>\n",
       "      <th>accuracy</th>\n",
       "      <td>0.939333</td>\n",
       "    </tr>\n",
       "    <tr>\n",
       "      <th>precision</th>\n",
       "      <td>0.785104</td>\n",
       "    </tr>\n",
       "    <tr>\n",
       "      <th>recall</th>\n",
       "      <td>0.536678</td>\n",
       "    </tr>\n",
       "    <tr>\n",
       "      <th>f1</th>\n",
       "      <td>0.622016</td>\n",
       "    </tr>\n",
       "  </tbody>\n",
       "</table>\n",
       "</div>"
      ],
      "text/plain": [
       "           Linear_Regression\n",
       "accuracy            0.939333\n",
       "precision           0.785104\n",
       "recall              0.536678\n",
       "f1                  0.622016"
      ]
     },
     "execution_count": 49,
     "metadata": {},
     "output_type": "execute_result"
    }
   ],
   "source": [
    "linRegDF = cross_val_LinReg_DF(X,y)\n",
    "print(f\"Mean results from 10 fold cross validation are:\")\n",
    "linRegDF"
   ]
  },
  {
   "cell_type": "markdown",
   "metadata": {},
   "source": [
    "- The accuracy has remained very high and is quite similar to the rate achieved on the test data.\n",
    "- The precision has dropped to 78.5%. This is is to be expected somewhat as we have taken the mean of 10 different sets of results.\n",
    "- The recall rate is not very satisfactory at approximately 53.6%. This is something which will have to be examined in part 5 if I continue with the linear regression model.\n",
    "- The f1 rate is also a cause for concern. It is 62.2% at present."
   ]
  },
  {
   "cell_type": "markdown",
   "metadata": {},
   "source": [
    "## (3) Logistic Regression   "
   ]
  },
  {
   "cell_type": "markdown",
   "metadata": {},
   "source": [
    "#### 3.1 Train a logistic regression model using only the descriptive features selected from part 1 above"
   ]
  },
  {
   "cell_type": "code",
   "execution_count": 50,
   "metadata": {},
   "outputs": [],
   "source": [
    "# Train aka fit, a model using all continuous and categorical features.\n",
    "multiple_logisticreg = LogisticRegression().fit(X_train, y_train)"
   ]
  },
  {
   "cell_type": "markdown",
   "metadata": {},
   "source": [
    "#### 3.2 Print out the coefficients learned by the model"
   ]
  },
  {
   "cell_type": "code",
   "execution_count": 51,
   "metadata": {},
   "outputs": [
    {
     "name": "stdout",
     "output_type": "stream",
     "text": [
      "\n",
      "Features are: \n",
      " Index(['Name_Intake_Unnamed', 'Found_Location_Austin (TX)',\n",
      "       'Found_Location_Other (TX)', 'Found_Location_Outside (TX)',\n",
      "       'Intake_Type_Euthanasia Request', 'Intake_Type_Owner Surrender',\n",
      "       'Intake_Type_Public Assist', 'Intake_Type_Stray',\n",
      "       'Intake_Type_Wildlife', 'Intake_Condition_Aged',\n",
      "       'Intake_Condition_Feral', 'Intake_Condition_Injured',\n",
      "       'Intake_Condition_Normal', 'Intake_Condition_Nursing',\n",
      "       'Intake_Condition_Other', 'Intake_Condition_Pregnant',\n",
      "       'Intake_Condition_Sick', 'Animal_Type_Intake_Bird',\n",
      "       'Animal_Type_Intake_Cat', 'Animal_Type_Intake_Dog',\n",
      "       'Animal_Type_Intake_Livestock', 'Animal_Type_Intake_Other',\n",
      "       'Sex_upon_Intake_Intact Female', 'Sex_upon_Intake_Intact Male',\n",
      "       'Sex_upon_Intake_Neutered Male', 'Sex_upon_Intake_Spayed Female',\n",
      "       'Sex_upon_Intake_Unknown', 'Breed_Intake_Cross-Breed',\n",
      "       'Breed_Intake_Mixed-Breed', 'Breed_Intake_Pure-Breed',\n",
      "       'Neutered_Spayed_In_Shelter_1'],\n",
      "      dtype='object')\n",
      "\n",
      "Coeficients are: \n",
      " [ 0.04181805  0.14631471  0.08696859 -0.23333481  1.43563678 -0.76181537\n",
      " -0.78234666 -1.46016     1.56863374  0.20071245 -0.23556711  1.02944585\n",
      " -0.46485508 -0.70621084 -0.01206381  0.          0.18848705 -0.70595534\n",
      "  0.12452879 -0.60385489  0.          1.18522993 -0.1547857   0.44793919\n",
      " -0.51195526 -1.21033583  1.42908609 -0.29269618  0.63698902 -0.34434435\n",
      " -1.58366587]\n",
      "\n",
      "Intercept is: \n",
      " [-1.97909924]\n",
      "\n",
      "Features and coeficients: \n",
      " [('Name_Intake_Unnamed', 0.04181804550601017), ('Found_Location_Austin (TX)', 0.14631471382022876), ('Found_Location_Other (TX)', 0.08696858657222692), ('Found_Location_Outside (TX)', -0.23333480934105233), ('Intake_Type_Euthanasia Request', 1.4356367786356217), ('Intake_Type_Owner Surrender', -0.7618153738067807), ('Intake_Type_Public Assist', -0.7823466590171458), ('Intake_Type_Stray', -1.460159999214243), ('Intake_Type_Wildlife', 1.5686337444539533), ('Intake_Condition_Aged', 0.20071244607154506), ('Intake_Condition_Feral', -0.23556711182893816), ('Intake_Condition_Injured', 1.029445849618689), ('Intake_Condition_Normal', -0.4648550830896254), ('Intake_Condition_Nursing', -0.7062108444655767), ('Intake_Condition_Other', -0.012063811359960671), ('Intake_Condition_Pregnant', 0.0), ('Intake_Condition_Sick', 0.18848704610527015), ('Animal_Type_Intake_Bird', -0.7059553437821775), ('Animal_Type_Intake_Cat', 0.12452879389736446), ('Animal_Type_Intake_Dog', -0.6038548932317539), ('Animal_Type_Intake_Livestock', 0.0), ('Animal_Type_Intake_Other', 1.1852299341679708), ('Sex_upon_Intake_Intact Female', -0.154785697582347), ('Sex_upon_Intake_Intact Male', 0.44793919182947084), ('Sex_upon_Intake_Neutered Male', -0.5119552596622581), ('Sex_upon_Intake_Spayed Female', -1.210335832894687), ('Sex_upon_Intake_Unknown', 1.4290860893612267), ('Breed_Intake_Cross-Breed', -0.2926961787423897), ('Breed_Intake_Mixed-Breed', 0.6369890155753299), ('Breed_Intake_Pure-Breed', -0.3443443457815359), ('Neutered_Spayed_In_Shelter_1', -1.5836658721339767)]\n"
     ]
    }
   ],
   "source": [
    "# Print the weights learned for each feature.\n",
    "print(\"\\nFeatures are: \\n\", X_train.columns)\n",
    "print(\"\\nCoeficients are: \\n\", multiple_logisticreg.coef_[0])\n",
    "print(\"\\nIntercept is: \\n\", multiple_logisticreg.intercept_)\n",
    "print(\"\\nFeatures and coeficients: \\n\", list(zip(X_train.columns, multiple_logisticreg.coef_[0])))"
   ]
  },
  {
   "cell_type": "markdown",
   "metadata": {},
   "source": [
    "#### 3.4 Print 100 predicted target features and evaluate the prediction\n",
    "- Here I will print the predicted target feature value for the first 100 training examples based on training data"
   ]
  },
  {
   "cell_type": "code",
   "execution_count": 52,
   "metadata": {},
   "outputs": [
    {
     "name": "stdout",
     "output_type": "stream",
     "text": [
      "\n",
      "Predictions with multiple linear regression: \n",
      "\n",
      "    binary_outcome  Predicted\n",
      "0                0          0\n",
      "1                0          0\n",
      "2                0          0\n",
      "3                0          0\n",
      "4                0          0\n",
      "..             ...        ...\n",
      "95               0          0\n",
      "96               0          0\n",
      "97               0          0\n",
      "98               0          0\n",
      "99               0          0\n",
      "\n",
      "[100 rows x 2 columns]\n"
     ]
    }
   ],
   "source": [
    "# calculate the prediction and threshold the value. If >= 0.5 its true\n",
    "multiple_logisticreg_predictions_train = multiple_logisticreg.predict(X_train)\n",
    "\n",
    "print(\"\\nPredictions with multiple linear regression: \\n\")\n",
    "actual_vs_predicted_multiplelogisticreg = pd.concat([y_train, pd.DataFrame(multiple_logisticreg_predictions_train, columns=['Predicted'])], axis=1)\n",
    "print(actual_vs_predicted_multiplelogisticreg.head(100))"
   ]
  },
  {
   "cell_type": "markdown",
   "metadata": {},
   "source": [
    "#### 3.5 Evaluation metrics based on training data\n",
    "- I will print the classification evaluation measures computed on the training set (e.g. Accuracy, Confusion matrix, Precision, Recall, F1)\n",
    "- I will discuss finding based on these measures"
   ]
  },
  {
   "cell_type": "code",
   "execution_count": 53,
   "metadata": {},
   "outputs": [
    {
     "name": "stdout",
     "output_type": "stream",
     "text": [
      "==================== Train Data =======================\n",
      "Accuracy:  0.9671428571428572\n",
      "Confusion matrix: \n",
      " [[640   2]\n",
      " [ 21  37]]\n",
      "Classification report:\n",
      "                precision    recall  f1-score   support\n",
      "\n",
      "           0       0.97      1.00      0.98       642\n",
      "           1       0.95      0.64      0.76        58\n",
      "\n",
      "    accuracy                           0.97       700\n",
      "   macro avg       0.96      0.82      0.87       700\n",
      "weighted avg       0.97      0.97      0.96       700\n",
      "\n",
      "======================================================\n"
     ]
    }
   ],
   "source": [
    "# Some more evaluation metrics.\n",
    "print(\"==================== Train Data =======================\")\n",
    "print(\"Accuracy: \", metrics.accuracy_score(y_train, multiple_logisticreg_predictions_train))\n",
    "print(\"Confusion matrix: \\n\", metrics.confusion_matrix(y_train, multiple_logisticreg_predictions_train))\n",
    "print(\"Classification report:\\n \", metrics.classification_report(y_train, multiple_logisticreg_predictions_train))\n",
    "print(\"======================================================\")"
   ]
  },
  {
   "cell_type": "markdown",
   "metadata": {},
   "source": [
    "Interpretation of results\n",
    "- Accuracy\n",
    "    - The model's accuracy is 96.7%\n",
    "- Precision - How well does the model predict the positive class\n",
    "    - Precision Positive is 0.95\n",
    "    - Precision Negative is 0.97\n",
    "- Recall - What % of the positive values did we predict\n",
    "    - Recall Positive is 0.64\n",
    "    - Recall Negative is 1.00\n",
    "- F1 Score - A weighted average of Precision and Recall\n",
    "    - F1 Score Positive is 0.76\n",
    "    - F1 Score Negative is 0.98\n",
    "\n",
    "\n",
    "Summary\n",
    "- Once again, the accuracy here is very high at 96.7%.\n",
    "- The results are identical to that achieved with the linear regression model.\n",
    "- There is the same difficulty with the Recall for the positive class. \n",
    "- Checks should be carried out in part 5 to determine if the models are better than just predicting the majority class for both logistic and linear regression.\n",
    "- Again, I might look at increasing the the sample of taken for the positive (1) class if this model is chosen for part 5."
   ]
  },
  {
   "cell_type": "markdown",
   "metadata": {},
   "source": [
    "#### 3.6 Evaluate the model using the hold-out (30%) test set\n",
    "- The results from the test data will be compared the results from the training data.\n",
    "- In addition they will be compared to the results from a cross-validated model (i.e., a new model trained and evaluated using cross-validation on the full dataset).\n",
    "\n",
    "Printing actual binary_outcome vs predicted based on test data"
   ]
  },
  {
   "cell_type": "code",
   "execution_count": 54,
   "metadata": {},
   "outputs": [
    {
     "name": "stdout",
     "output_type": "stream",
     "text": [
      "\n",
      "Predictions with multiple linear regression: \n",
      "\n",
      "    binary_outcome  Predicted\n",
      "0                0          0\n",
      "1                0          0\n",
      "2                0          0\n",
      "3                0          0\n",
      "4                0          0\n",
      "5                1          0\n",
      "6                0          0\n",
      "7                0          0\n",
      "8                0          0\n",
      "9                0          0\n",
      "10               1          0\n",
      "11               0          0\n",
      "12               0          0\n",
      "13               0          0\n",
      "14               0          0\n",
      "15               0          0\n",
      "16               0          0\n",
      "17               0          0\n",
      "18               0          0\n",
      "19               0          0\n"
     ]
    }
   ],
   "source": [
    "# calculate the prediction and threshold the value. If >= 0.5 its true\n",
    "multiple_logisticreg_predictions_test = multiple_logisticreg.predict(X_test)\n",
    "\n",
    "print(\"\\nPredictions with multiple linear regression: \\n\")\n",
    "actual_vs_predicted_multiplelogisticreg = pd.concat([y_test, pd.DataFrame(multiple_logisticreg_predictions_test, columns=['Predicted'])], axis=1)\n",
    "print(actual_vs_predicted_multiplelogisticreg.head(20))"
   ]
  },
  {
   "cell_type": "markdown",
   "metadata": {},
   "source": [
    "Evaluation based on test data"
   ]
  },
  {
   "cell_type": "code",
   "execution_count": 55,
   "metadata": {},
   "outputs": [
    {
     "name": "stdout",
     "output_type": "stream",
     "text": [
      "==================== Test Data =======================\n",
      "Accuracy:  0.9433333333333334\n",
      "Confusion matrix: \n",
      " [[267   1]\n",
      " [ 16  16]]\n",
      "Classification report:\n",
      "                precision    recall  f1-score   support\n",
      "\n",
      "           0       0.94      1.00      0.97       268\n",
      "           1       0.94      0.50      0.65        32\n",
      "\n",
      "    accuracy                           0.94       300\n",
      "   macro avg       0.94      0.75      0.81       300\n",
      "weighted avg       0.94      0.94      0.94       300\n",
      "\n",
      "==================== Train Data =======================\n",
      "Accuracy:  0.9671428571428572\n",
      "Confusion matrix: \n",
      " [[640   2]\n",
      " [ 21  37]]\n",
      "Classification report:\n",
      "                precision    recall  f1-score   support\n",
      "\n",
      "           0       0.97      1.00      0.98       642\n",
      "           1       0.95      0.64      0.76        58\n",
      "\n",
      "    accuracy                           0.97       700\n",
      "   macro avg       0.96      0.82      0.87       700\n",
      "weighted avg       0.97      0.97      0.96       700\n",
      "\n",
      "======================================================\n"
     ]
    }
   ],
   "source": [
    "# Some more evaluation metrics.\n",
    "print(\"==================== Test Data =======================\")\n",
    "print(\"Accuracy: \", metrics.accuracy_score(y_test, multiple_logisticreg_predictions_test))\n",
    "print(\"Confusion matrix: \\n\", metrics.confusion_matrix(y_test, multiple_logisticreg_predictions_test))\n",
    "print(\"Classification report:\\n \", metrics.classification_report(y_test, multiple_logisticreg_predictions_test))\n",
    "print(\"==================== Train Data =======================\")\n",
    "print(\"Accuracy: \", metrics.accuracy_score(y_train, multiple_logisticreg_predictions_train))\n",
    "print(\"Confusion matrix: \\n\", metrics.confusion_matrix(y_train, multiple_logisticreg_predictions_train))\n",
    "print(\"Classification report:\\n \", metrics.classification_report(y_train, multiple_logisticreg_predictions_train))\n",
    "print(\"======================================================\")"
   ]
  },
  {
   "cell_type": "markdown",
   "metadata": {},
   "source": [
    "Interpretation of test results and comparison with training results \n",
    "- Accuracy\n",
    "    - The accuracy of the test data has reduced from 96.7% to 94.3% \n",
    "- Precision\n",
    "    - The precision score for predicting the positive class has reduced from 95% to 94%.\n",
    "    - The precision score for predicting the negative class has increased from 97% to 94%.\n",
    "- Recall\n",
    "    - The recall score for predicting the positive class has reduced from 64% to 50%.\n",
    "    - The recall score for predicting the negative class has remained at 100%\n",
    "- F1\n",
    "    - The f1 score for predicting the positive class has reduced from 76% to 65%.\n",
    "    - The f1 score for predicting the negative class has reduced from 98% to 97%.\n",
    "\n",
    "Summary\n",
    "- The accuracy level have dropped slightly. This is expected as we are testing the model on data it has not see before.\n",
    "- There are some important differences from the results achieved with the linear model. \n",
    "- The recall score for predicting the positive class is three points higher at 50%. However, it is still not satisfactory.\n",
    "- The precision score for predicting the positive class is higher than linear regression. 94% vs 83%\n",
    "- The f1 score for predicting the positive class is also higher than linear regression. 65% vs 60%\n",
    "- Cross validation will be used to carry out more comparisons. "
   ]
  },
  {
   "cell_type": "markdown",
   "metadata": {},
   "source": [
    "#### 3.7 Cross validation\n",
    "I will first create a function to perform 10 fold cross validation and store results into dataframe\n",
    "- This will be used to simplify further analysis of the dataset to look at accuracy, precision, recall, f1."
   ]
  },
  {
   "cell_type": "code",
   "execution_count": 56,
   "metadata": {},
   "outputs": [],
   "source": [
    "def cross_val_LogReg_DF(X,y):\n",
    "    \"\"\"Function to perform cross validation and store results \n",
    "    in dataframe. Cross validation looks at accuracy, precision, \n",
    "    recall, f1. Returns a dataframe with results\"\"\"\n",
    "\n",
    "    logRegResults = {}\n",
    "    # metrics to test against\n",
    "    test_metrics = ['accuracy','precision','recall', 'f1']\n",
    "\n",
    "    for metric in test_metrics:\n",
    "        # generate test results\n",
    "        result = cross_val_score(LogisticRegression(), X, y, scoring=metric, cv=10)\n",
    "        # store result in dict\n",
    "        logRegResults[metric] = result.mean()\n",
    "        \n",
    "    # create dataframe with results\n",
    "    LogRegDF = pd.DataFrame.from_dict(logRegResults, orient='index', columns=['Logistic_Regression'])\n",
    "    \n",
    "    return LogRegDF"
   ]
  },
  {
   "cell_type": "markdown",
   "metadata": {},
   "source": [
    "Preform 10 fold cross validation using cross_val_LogReg_DF function\n",
    "- Results summarised below"
   ]
  },
  {
   "cell_type": "code",
   "execution_count": 57,
   "metadata": {},
   "outputs": [
    {
     "name": "stdout",
     "output_type": "stream",
     "text": [
      "Mean results from 10 fold cross validation are:\n"
     ]
    },
    {
     "data": {
      "text/html": [
       "<div>\n",
       "<style scoped>\n",
       "    .dataframe tbody tr th:only-of-type {\n",
       "        vertical-align: middle;\n",
       "    }\n",
       "\n",
       "    .dataframe tbody tr th {\n",
       "        vertical-align: top;\n",
       "    }\n",
       "\n",
       "    .dataframe thead th {\n",
       "        text-align: right;\n",
       "    }\n",
       "</style>\n",
       "<table border=\"1\" class=\"dataframe\">\n",
       "  <thead>\n",
       "    <tr style=\"text-align: right;\">\n",
       "      <th></th>\n",
       "      <th>Logistic_Regression</th>\n",
       "    </tr>\n",
       "  </thead>\n",
       "  <tbody>\n",
       "    <tr>\n",
       "      <th>accuracy</th>\n",
       "      <td>0.956000</td>\n",
       "    </tr>\n",
       "    <tr>\n",
       "      <th>precision</th>\n",
       "      <td>0.910000</td>\n",
       "    </tr>\n",
       "    <tr>\n",
       "      <th>recall</th>\n",
       "      <td>0.566667</td>\n",
       "    </tr>\n",
       "    <tr>\n",
       "      <th>f1</th>\n",
       "      <td>0.683696</td>\n",
       "    </tr>\n",
       "  </tbody>\n",
       "</table>\n",
       "</div>"
      ],
      "text/plain": [
       "           Logistic_Regression\n",
       "accuracy              0.956000\n",
       "precision             0.910000\n",
       "recall                0.566667\n",
       "f1                    0.683696"
      ]
     },
     "execution_count": 57,
     "metadata": {},
     "output_type": "execute_result"
    }
   ],
   "source": [
    "logRegDF = cross_val_LogReg_DF(X,y)\n",
    "print(f\"Mean results from 10 fold cross validation are:\")\n",
    "logRegDF"
   ]
  },
  {
   "cell_type": "markdown",
   "metadata": {},
   "source": [
    "- The cross validation is relatively consistent with previous results.\n",
    "- Importantly, the logistic regression model seems to be performing better than linear regression. The accuracy score has increased to 95.6%, precision has increased by 12.5%, recall by 3% and f1 by 6.1%."
   ]
  },
  {
   "cell_type": "markdown",
   "metadata": {},
   "source": [
    "## (4) Random Forest Model"
   ]
  },
  {
   "cell_type": "markdown",
   "metadata": {},
   "source": [
    "### 4.1 Train a random forest model using only the descriptive features selected from part 1 above \n",
    "- A random forest model will now be trained on the test data. \n",
    "- The RandomForestClassifier() function will be used. \n",
    "- The random state will be set to 1 to allow the results to be repeated"
   ]
  },
  {
   "cell_type": "code",
   "execution_count": 58,
   "metadata": {},
   "outputs": [
    {
     "data": {
      "text/plain": [
       "RandomForestClassifier(bootstrap=True, ccp_alpha=0.0, class_weight=None,\n",
       "                       criterion='gini', max_depth=None, max_features='auto',\n",
       "                       max_leaf_nodes=None, max_samples=None,\n",
       "                       min_impurity_decrease=0.0, min_impurity_split=None,\n",
       "                       min_samples_leaf=1, min_samples_split=2,\n",
       "                       min_weight_fraction_leaf=0.0, n_estimators=100,\n",
       "                       n_jobs=None, oob_score=True, random_state=1, verbose=0,\n",
       "                       warm_start=False)"
      ]
     },
     "execution_count": 58,
     "metadata": {},
     "output_type": "execute_result"
    }
   ],
   "source": [
    "# Train RF with 100 trees\n",
    "rfc = RandomForestClassifier(n_estimators=100, max_features='auto', oob_score=True, random_state=1)\n",
    "rfc.fit(X_train, y_train)"
   ]
  },
  {
   "cell_type": "markdown",
   "metadata": {},
   "source": [
    "### 4.2 Understanding the Random Forest model\n",
    "We will now try to understand how this random forest model works\n",
    "- We will first start by trying to understand a decision tree \n",
    "- A random forest is made up of an ensemble/collection of decision trees\n",
    "- Decision tree\n",
    "    - A decision tree is a set of if-then-else rules based on splitting the data based on specific features\n",
    "    - The decision on which feature to split on is based on the information gain (Gini index). \n",
    "    - The tree will always split on the feature that gives the highest information gain\n",
    "    - The feature with the highest information gain will sit at the root of each decision tree\n",
    "    - Each decision tree will be a single prediction\n",
    "- Random Forest \n",
    "    - The random forest is made up of a number of decision trees\n",
    "    - The output of the random forest is base on the majority output of all decision trees combined\n",
    "    - This gives reliable results but can be hard to interpret\n",
    "    - The random forest will keep track of the importance of features in terms of information gain, which we will see\n",
    "    \n",
    "I will now look at an example of a single decision tree to get a better understanding."
   ]
  },
  {
   "cell_type": "markdown",
   "metadata": {},
   "source": [
    "####  4.2.1  Train Decision tree\n",
    "I will train 2 decision trees, with the same test data \n",
    "- One with max_depth=4 and the other max_depth=10\n",
    "- Max depth determines how deep a decision tree can go before it must return an answer."
   ]
  },
  {
   "cell_type": "code",
   "execution_count": 59,
   "metadata": {},
   "outputs": [
    {
     "name": "stdout",
     "output_type": "stream",
     "text": [
      "Max depth 4: \n",
      " DecisionTreeClassifier(ccp_alpha=0.0, class_weight=None, criterion='gini',\n",
      "                       max_depth=4, max_features=None, max_leaf_nodes=None,\n",
      "                       min_impurity_decrease=0.0, min_impurity_split=None,\n",
      "                       min_samples_leaf=1, min_samples_split=2,\n",
      "                       min_weight_fraction_leaf=0.0, presort='deprecated',\n",
      "                       random_state=1, splitter='best')\n",
      "Max depth 10: \n",
      " DecisionTreeClassifier(ccp_alpha=0.0, class_weight=None, criterion='gini',\n",
      "                       max_depth=10, max_features=None, max_leaf_nodes=None,\n",
      "                       min_impurity_decrease=0.0, min_impurity_split=None,\n",
      "                       min_samples_leaf=1, min_samples_split=2,\n",
      "                       min_weight_fraction_leaf=0.0, presort='deprecated',\n",
      "                       random_state=1, splitter='best')\n"
     ]
    }
   ],
   "source": [
    "dtc4 = DecisionTreeClassifier(max_depth=4, random_state=1)\n",
    "dtc10 = DecisionTreeClassifier(max_depth=10, random_state=1)\n",
    "dtc4.fit(X_train, y_train)\n",
    "dtc10.fit(X_train, y_train)\n",
    "print(\"Max depth 4: \\n\",dtc4)\n",
    "print(\"Max depth 10: \\n\",dtc10)"
   ]
  },
  {
   "cell_type": "markdown",
   "metadata": {},
   "source": [
    "####  4.2.2  Display Decision tree\n",
    "I will create a textual version of each tree using code from the lab."
   ]
  },
  {
   "cell_type": "code",
   "execution_count": 60,
   "metadata": {},
   "outputs": [],
   "source": [
    "# Alternative to print a tree in text format\n",
    "\"\"\"\n",
    "treeviz.py\n",
    "\n",
    "A simple tree visualizer for sklearn DecisionTreeClassifiers.\n",
    "\n",
    "Written by Lutz Hamel, (c) 2017 - Univeristy of Rhode Island\n",
    "\"\"\"\n",
    "import operator\n",
    "\n",
    "def tree_print(clf, X):\n",
    "    \"\"\"\n",
    "    Print the tree of a sklearn DecisionTreeClassifier\n",
    "\n",
    "    Parameters\n",
    "    ----------\n",
    "    clf : DecisionTreeClassifier - A tree that has already been fit.\n",
    "    X : The original training set\n",
    "    \"\"\"\n",
    "    tlevel = _tree_rprint('', clf, X.columns, clf.classes_)\n",
    "    print('<',end='')\n",
    "    for i in range(3*tlevel - 2):\n",
    "        print('-',end='')\n",
    "    print('>')\n",
    "    print('Tree Depth: ',tlevel)\n",
    "\n",
    "def _tree_rprint(kword, clf, features, labels, node_index=0, tlevel_index=0):\n",
    "    # Note: The DecisionTreeClassifier uses the Tree structure defined in:\n",
    "    # \t\tgithub.com/scikit-learn/scikit-learn/blob/master/sklearn/tree/_tree.pyx\n",
    "    #       it is an array based tree implementation:\n",
    "\n",
    "    # indent the nodes according to their tree level\n",
    "    for i in range(tlevel_index):\n",
    "        print('  |',end='')\n",
    "\n",
    "\t#  TODO: the following should use the TREE_LEAF constant defined in _tree.pyx\n",
    "\t#        instead of -1, not quite sure how to get at it from the tree user level\n",
    "    if clf.tree_.children_left[node_index] == -1:  # indicates leaf\n",
    "        print(kword, end=' ' if kword else '')\n",
    "        # get the majority label\n",
    "        count_list = clf.tree_.value[node_index, 0]\n",
    "        max_index, max_value = max(enumerate(count_list), key=operator.itemgetter(1))\n",
    "        max_label = labels[max_index]\n",
    "        print(max_label)\n",
    "        return tlevel_index\n",
    "    \n",
    "    else:\n",
    "        # compute and print node label\n",
    "        feature = features[clf.tree_.feature[node_index]]\n",
    "        threshold = clf.tree_.threshold[node_index]\n",
    "        print(kword, end=' ' if kword else '')\n",
    "        print('if {} =< {}: '.format(feature, threshold))\n",
    "        # recurse down the children\n",
    "        left_index = clf.tree_.children_left[node_index]\n",
    "        right_index = clf.tree_.children_right[node_index]\n",
    "        ltlevel_index = _tree_rprint('then', clf, features, labels, left_index, tlevel_index+1)\n",
    "        rtlevel_index = _tree_rprint('else', clf, features, labels, right_index, tlevel_index+1)\n",
    "        # return the maximum depth of either one of the children\n",
    "        return max(ltlevel_index,rtlevel_index)"
   ]
  },
  {
   "cell_type": "code",
   "execution_count": 62,
   "metadata": {},
   "outputs": [
    {
     "name": "stdout",
     "output_type": "stream",
     "text": [
      "if Intake_Type_Wildlife =< 0.5: \n",
      "  |then if Intake_Type_Euthanasia Request =< 0.5: \n",
      "  |  |then if Sex_upon_Intake_Unknown =< 0.5: \n",
      "  |  |  |then if Intake_Condition_Injured =< 0.5: \n",
      "  |  |  |  |then 0\n",
      "  |  |  |  |else 0\n",
      "  |  |  |else if Animal_Type_Intake_Other =< 0.5: \n",
      "  |  |  |  |then 0\n",
      "  |  |  |  |else 1\n",
      "  |  |else if Sex_upon_Intake_Neutered Male =< 0.5: \n",
      "  |  |  |then 1\n",
      "  |  |  |else 0\n",
      "  |else if Intake_Condition_Nursing =< 0.5: \n",
      "  |  |then 1\n",
      "  |  |else 0\n",
      "<---------->\n",
      "Tree Depth:  4\n"
     ]
    }
   ],
   "source": [
    "# Use the function tree_print defined above to plot a decision tree in text format\n",
    "tree_print(dtc4, X_train)"
   ]
  },
  {
   "cell_type": "markdown",
   "metadata": {},
   "source": [
    "The decision tree with max_depth=4 is displayed above.\n",
    "- We can see the root is Intake_Type_Wildlife - This splits the data best i.e. has the highest information gain.\n",
    "- For each split the the model selects the next best feature.\n",
    "- This continues until the data cannot be split anymore.\n",
    "- The output of this is the prediction.\n",
    "- We can see one path below is resolved in 4 branches\n",
    "    - Intake_Type_Wildlife <= 0.5 -> Intake_Type_Euthanasia Request <= 0.5 -> Sex_upon_Intake_Unknown > 0.5 -> Sex_upon_Intake_Neutered_Male <= 0.5 -> Resolved to 1"
   ]
  },
  {
   "cell_type": "code",
   "execution_count": 63,
   "metadata": {},
   "outputs": [
    {
     "name": "stdout",
     "output_type": "stream",
     "text": [
      "if Intake_Type_Wildlife =< 0.5: \n",
      "  |then if Intake_Type_Euthanasia Request =< 0.5: \n",
      "  |  |then if Sex_upon_Intake_Unknown =< 0.5: \n",
      "  |  |  |then if Intake_Condition_Injured =< 0.5: \n",
      "  |  |  |  |then if Intake_Condition_Sick =< 0.5: \n",
      "  |  |  |  |  |then if Neutered_Spayed_In_Shelter_1 =< 0.5: \n",
      "  |  |  |  |  |  |then if Sex_upon_Intake_Intact Male =< 0.5: \n",
      "  |  |  |  |  |  |  |then if Name_Intake_Unnamed =< 0.5: \n",
      "  |  |  |  |  |  |  |  |then if Sex_upon_Intake_Neutered Male =< 0.5: \n",
      "  |  |  |  |  |  |  |  |  |then 0\n",
      "  |  |  |  |  |  |  |  |  |else if Intake_Type_Stray =< 0.5: \n",
      "  |  |  |  |  |  |  |  |  |  |then 0\n",
      "  |  |  |  |  |  |  |  |  |  |else 0\n",
      "  |  |  |  |  |  |  |  |else if Intake_Type_Owner Surrender =< 0.5: \n",
      "  |  |  |  |  |  |  |  |  |then if Animal_Type_Intake_Cat =< 0.5: \n",
      "  |  |  |  |  |  |  |  |  |  |then 0\n",
      "  |  |  |  |  |  |  |  |  |  |else 0\n",
      "  |  |  |  |  |  |  |  |  |else if Sex_upon_Intake_Intact Female =< 0.5: \n",
      "  |  |  |  |  |  |  |  |  |  |then 0\n",
      "  |  |  |  |  |  |  |  |  |  |else 0\n",
      "  |  |  |  |  |  |  |else if Intake_Type_Owner Surrender =< 0.5: \n",
      "  |  |  |  |  |  |  |  |then if Animal_Type_Intake_Cat =< 0.5: \n",
      "  |  |  |  |  |  |  |  |  |then 0\n",
      "  |  |  |  |  |  |  |  |  |else if Name_Intake_Unnamed =< 0.5: \n",
      "  |  |  |  |  |  |  |  |  |  |then 0\n",
      "  |  |  |  |  |  |  |  |  |  |else 0\n",
      "  |  |  |  |  |  |  |  |else if Animal_Type_Intake_Cat =< 0.5: \n",
      "  |  |  |  |  |  |  |  |  |then 0\n",
      "  |  |  |  |  |  |  |  |  |else if Breed_Intake_Mixed-Breed =< 0.5: \n",
      "  |  |  |  |  |  |  |  |  |  |then 0\n",
      "  |  |  |  |  |  |  |  |  |  |else 1\n",
      "  |  |  |  |  |  |else if Found_Location_Other (TX) =< 0.5: \n",
      "  |  |  |  |  |  |  |then 0\n",
      "  |  |  |  |  |  |  |else if Sex_upon_Intake_Intact Female =< 0.5: \n",
      "  |  |  |  |  |  |  |  |then if Name_Intake_Unnamed =< 0.5: \n",
      "  |  |  |  |  |  |  |  |  |then if Animal_Type_Intake_Cat =< 0.5: \n",
      "  |  |  |  |  |  |  |  |  |  |then 0\n",
      "  |  |  |  |  |  |  |  |  |  |else 0\n",
      "  |  |  |  |  |  |  |  |  |else 0\n",
      "  |  |  |  |  |  |  |  |else 0\n",
      "  |  |  |  |  |else if Animal_Type_Intake_Cat =< 0.5: \n",
      "  |  |  |  |  |  |then 0\n",
      "  |  |  |  |  |  |else if Sex_upon_Intake_Intact Male =< 0.5: \n",
      "  |  |  |  |  |  |  |then 0\n",
      "  |  |  |  |  |  |  |else 1\n",
      "  |  |  |  |else if Sex_upon_Intake_Intact Male =< 0.5: \n",
      "  |  |  |  |  |then if Animal_Type_Intake_Dog =< 0.5: \n",
      "  |  |  |  |  |  |then if Sex_upon_Intake_Spayed Female =< 0.5: \n",
      "  |  |  |  |  |  |  |then if Name_Intake_Unnamed =< 0.5: \n",
      "  |  |  |  |  |  |  |  |then 1\n",
      "  |  |  |  |  |  |  |  |else if Sex_upon_Intake_Neutered Male =< 0.5: \n",
      "  |  |  |  |  |  |  |  |  |then 0\n",
      "  |  |  |  |  |  |  |  |  |else 1\n",
      "  |  |  |  |  |  |  |else 0\n",
      "  |  |  |  |  |  |else 0\n",
      "  |  |  |  |  |else 0\n",
      "  |  |  |else if Animal_Type_Intake_Other =< 0.5: \n",
      "  |  |  |  |then if Intake_Type_Owner Surrender =< 0.5: \n",
      "  |  |  |  |  |then if Animal_Type_Intake_Dog =< 0.5: \n",
      "  |  |  |  |  |  |then if Breed_Intake_Mixed-Breed =< 0.5: \n",
      "  |  |  |  |  |  |  |then 0\n",
      "  |  |  |  |  |  |  |else if Intake_Condition_Normal =< 0.5: \n",
      "  |  |  |  |  |  |  |  |then 0\n",
      "  |  |  |  |  |  |  |  |else if Found_Location_Other (TX) =< 0.5: \n",
      "  |  |  |  |  |  |  |  |  |then if Animal_Type_Intake_Cat =< 0.5: \n",
      "  |  |  |  |  |  |  |  |  |  |then 0\n",
      "  |  |  |  |  |  |  |  |  |  |else 0\n",
      "  |  |  |  |  |  |  |  |  |else 0\n",
      "  |  |  |  |  |  |else if Breed_Intake_Mixed-Breed =< 0.5: \n",
      "  |  |  |  |  |  |  |then 0\n",
      "  |  |  |  |  |  |  |else if Intake_Condition_Nursing =< 0.5: \n",
      "  |  |  |  |  |  |  |  |then 0\n",
      "  |  |  |  |  |  |  |  |else 1\n",
      "  |  |  |  |  |else 1\n",
      "  |  |  |  |else if Intake_Condition_Sick =< 0.5: \n",
      "  |  |  |  |  |then if Breed_Intake_Mixed-Breed =< 0.5: \n",
      "  |  |  |  |  |  |then 0\n",
      "  |  |  |  |  |  |else 1\n",
      "  |  |  |  |  |else 0\n",
      "  |  |else if Sex_upon_Intake_Neutered Male =< 0.5: \n",
      "  |  |  |then 1\n",
      "  |  |  |else 0\n",
      "  |else if Intake_Condition_Nursing =< 0.5: \n",
      "  |  |then 1\n",
      "  |  |else 0\n",
      "<---------------------------->\n",
      "Tree Depth:  10\n"
     ]
    }
   ],
   "source": [
    "# Use the function tree_print defined above to plot a decision tree in text format\n",
    "tree_print(dtc10, X_train)"
   ]
  },
  {
   "cell_type": "markdown",
   "metadata": {},
   "source": [
    "The decision tree with maxdepth=10 is important to note as it conveys just how complex a decision tree can become.\n",
    "- This is only one example of a decision tree. \n",
    "- A Random forests has 100 decision trees by default\n",
    "- Each decision tree is given a slightly different view of the data"
   ]
  },
  {
   "cell_type": "markdown",
   "metadata": {},
   "source": [
    "#### 4.2.3 Interpretation of the random forest model\n",
    "As mentioned above the random forest will keep track of the importance of features\n",
    "- We can see from the dataframe below the results of this feature importance ranking\n",
    "- The more important features are the features that the random forest has identified as having higher information gain\n",
    "- This list is the combined result of the 100 decision trees that make up the random forest model\n",
    "- This feature ranking will help us in our optimisation process going forward\n",
    "    - What are the best features to keep?\n",
    "    - What features can be safely dropped without loosing information?"
   ]
  },
  {
   "cell_type": "code",
   "execution_count": 65,
   "metadata": {},
   "outputs": [
    {
     "data": {
      "text/html": [
       "<div>\n",
       "<style scoped>\n",
       "    .dataframe tbody tr th:only-of-type {\n",
       "        vertical-align: middle;\n",
       "    }\n",
       "\n",
       "    .dataframe tbody tr th {\n",
       "        vertical-align: top;\n",
       "    }\n",
       "\n",
       "    .dataframe thead th {\n",
       "        text-align: right;\n",
       "    }\n",
       "</style>\n",
       "<table border=\"1\" class=\"dataframe\">\n",
       "  <thead>\n",
       "    <tr style=\"text-align: right;\">\n",
       "      <th></th>\n",
       "      <th>feature</th>\n",
       "      <th>importance</th>\n",
       "    </tr>\n",
       "  </thead>\n",
       "  <tbody>\n",
       "    <tr>\n",
       "      <th>8</th>\n",
       "      <td>Intake_Type_Wildlife</td>\n",
       "      <td>0.232281</td>\n",
       "    </tr>\n",
       "    <tr>\n",
       "      <th>21</th>\n",
       "      <td>Animal_Type_Intake_Other</td>\n",
       "      <td>0.158324</td>\n",
       "    </tr>\n",
       "    <tr>\n",
       "      <th>26</th>\n",
       "      <td>Sex_upon_Intake_Unknown</td>\n",
       "      <td>0.120913</td>\n",
       "    </tr>\n",
       "    <tr>\n",
       "      <th>7</th>\n",
       "      <td>Intake_Type_Stray</td>\n",
       "      <td>0.054607</td>\n",
       "    </tr>\n",
       "    <tr>\n",
       "      <th>0</th>\n",
       "      <td>Name_Intake_Unnamed</td>\n",
       "      <td>0.051297</td>\n",
       "    </tr>\n",
       "    <tr>\n",
       "      <th>18</th>\n",
       "      <td>Animal_Type_Intake_Cat</td>\n",
       "      <td>0.040896</td>\n",
       "    </tr>\n",
       "    <tr>\n",
       "      <th>4</th>\n",
       "      <td>Intake_Type_Euthanasia Request</td>\n",
       "      <td>0.037231</td>\n",
       "    </tr>\n",
       "    <tr>\n",
       "      <th>11</th>\n",
       "      <td>Intake_Condition_Injured</td>\n",
       "      <td>0.034900</td>\n",
       "    </tr>\n",
       "    <tr>\n",
       "      <th>23</th>\n",
       "      <td>Sex_upon_Intake_Intact Male</td>\n",
       "      <td>0.031633</td>\n",
       "    </tr>\n",
       "    <tr>\n",
       "      <th>5</th>\n",
       "      <td>Intake_Type_Owner Surrender</td>\n",
       "      <td>0.027577</td>\n",
       "    </tr>\n",
       "    <tr>\n",
       "      <th>19</th>\n",
       "      <td>Animal_Type_Intake_Dog</td>\n",
       "      <td>0.026479</td>\n",
       "    </tr>\n",
       "    <tr>\n",
       "      <th>22</th>\n",
       "      <td>Sex_upon_Intake_Intact Female</td>\n",
       "      <td>0.022344</td>\n",
       "    </tr>\n",
       "    <tr>\n",
       "      <th>12</th>\n",
       "      <td>Intake_Condition_Normal</td>\n",
       "      <td>0.021580</td>\n",
       "    </tr>\n",
       "    <tr>\n",
       "      <th>16</th>\n",
       "      <td>Intake_Condition_Sick</td>\n",
       "      <td>0.020765</td>\n",
       "    </tr>\n",
       "    <tr>\n",
       "      <th>13</th>\n",
       "      <td>Intake_Condition_Nursing</td>\n",
       "      <td>0.020724</td>\n",
       "    </tr>\n",
       "    <tr>\n",
       "      <th>30</th>\n",
       "      <td>Neutered_Spayed_In_Shelter_1</td>\n",
       "      <td>0.019189</td>\n",
       "    </tr>\n",
       "    <tr>\n",
       "      <th>29</th>\n",
       "      <td>Breed_Intake_Pure-Breed</td>\n",
       "      <td>0.013034</td>\n",
       "    </tr>\n",
       "    <tr>\n",
       "      <th>24</th>\n",
       "      <td>Sex_upon_Intake_Neutered Male</td>\n",
       "      <td>0.013032</td>\n",
       "    </tr>\n",
       "    <tr>\n",
       "      <th>28</th>\n",
       "      <td>Breed_Intake_Mixed-Breed</td>\n",
       "      <td>0.011974</td>\n",
       "    </tr>\n",
       "    <tr>\n",
       "      <th>25</th>\n",
       "      <td>Sex_upon_Intake_Spayed Female</td>\n",
       "      <td>0.008168</td>\n",
       "    </tr>\n",
       "    <tr>\n",
       "      <th>6</th>\n",
       "      <td>Intake_Type_Public Assist</td>\n",
       "      <td>0.007933</td>\n",
       "    </tr>\n",
       "    <tr>\n",
       "      <th>17</th>\n",
       "      <td>Animal_Type_Intake_Bird</td>\n",
       "      <td>0.007802</td>\n",
       "    </tr>\n",
       "    <tr>\n",
       "      <th>2</th>\n",
       "      <td>Found_Location_Other (TX)</td>\n",
       "      <td>0.006776</td>\n",
       "    </tr>\n",
       "    <tr>\n",
       "      <th>1</th>\n",
       "      <td>Found_Location_Austin (TX)</td>\n",
       "      <td>0.005712</td>\n",
       "    </tr>\n",
       "    <tr>\n",
       "      <th>9</th>\n",
       "      <td>Intake_Condition_Aged</td>\n",
       "      <td>0.003012</td>\n",
       "    </tr>\n",
       "    <tr>\n",
       "      <th>27</th>\n",
       "      <td>Breed_Intake_Cross-Breed</td>\n",
       "      <td>0.001144</td>\n",
       "    </tr>\n",
       "    <tr>\n",
       "      <th>10</th>\n",
       "      <td>Intake_Condition_Feral</td>\n",
       "      <td>0.000420</td>\n",
       "    </tr>\n",
       "    <tr>\n",
       "      <th>3</th>\n",
       "      <td>Found_Location_Outside (TX)</td>\n",
       "      <td>0.000244</td>\n",
       "    </tr>\n",
       "    <tr>\n",
       "      <th>14</th>\n",
       "      <td>Intake_Condition_Other</td>\n",
       "      <td>0.000008</td>\n",
       "    </tr>\n",
       "    <tr>\n",
       "      <th>20</th>\n",
       "      <td>Animal_Type_Intake_Livestock</td>\n",
       "      <td>0.000000</td>\n",
       "    </tr>\n",
       "    <tr>\n",
       "      <th>15</th>\n",
       "      <td>Intake_Condition_Pregnant</td>\n",
       "      <td>0.000000</td>\n",
       "    </tr>\n",
       "  </tbody>\n",
       "</table>\n",
       "</div>"
      ],
      "text/plain": [
       "                           feature  importance\n",
       "8             Intake_Type_Wildlife    0.232281\n",
       "21        Animal_Type_Intake_Other    0.158324\n",
       "26         Sex_upon_Intake_Unknown    0.120913\n",
       "7                Intake_Type_Stray    0.054607\n",
       "0              Name_Intake_Unnamed    0.051297\n",
       "18          Animal_Type_Intake_Cat    0.040896\n",
       "4   Intake_Type_Euthanasia Request    0.037231\n",
       "11        Intake_Condition_Injured    0.034900\n",
       "23     Sex_upon_Intake_Intact Male    0.031633\n",
       "5      Intake_Type_Owner Surrender    0.027577\n",
       "19          Animal_Type_Intake_Dog    0.026479\n",
       "22   Sex_upon_Intake_Intact Female    0.022344\n",
       "12         Intake_Condition_Normal    0.021580\n",
       "16           Intake_Condition_Sick    0.020765\n",
       "13        Intake_Condition_Nursing    0.020724\n",
       "30    Neutered_Spayed_In_Shelter_1    0.019189\n",
       "29         Breed_Intake_Pure-Breed    0.013034\n",
       "24   Sex_upon_Intake_Neutered Male    0.013032\n",
       "28        Breed_Intake_Mixed-Breed    0.011974\n",
       "25   Sex_upon_Intake_Spayed Female    0.008168\n",
       "6        Intake_Type_Public Assist    0.007933\n",
       "17         Animal_Type_Intake_Bird    0.007802\n",
       "2        Found_Location_Other (TX)    0.006776\n",
       "1       Found_Location_Austin (TX)    0.005712\n",
       "9            Intake_Condition_Aged    0.003012\n",
       "27        Breed_Intake_Cross-Breed    0.001144\n",
       "10          Intake_Condition_Feral    0.000420\n",
       "3      Found_Location_Outside (TX)    0.000244\n",
       "14          Intake_Condition_Other    0.000008\n",
       "20    Animal_Type_Intake_Livestock    0.000000\n",
       "15       Intake_Condition_Pregnant    0.000000"
      ]
     },
     "execution_count": 65,
     "metadata": {},
     "output_type": "execute_result"
    }
   ],
   "source": [
    "importance = pd.DataFrame({'feature': X_train.columns, 'importance':rfc.feature_importances_})\n",
    "importance.sort_values('importance', ascending=False)"
   ]
  },
  {
   "cell_type": "markdown",
   "metadata": {},
   "source": [
    "- The list above conveys that many of the features provide little to no information gain.\n",
    "- It can be seen that the features that have been determined to have the most importance are whether an animal was classed as wildlife or other on intake.\n",
    "- In contrast, an intake type of 'livestock' and intake condition  of 'pregnant' are shown to have no importance at all in the model.\n",
    "- It is good to see that the new feature, Neutered_Spayed_in_Shelter, which I created in Homework 1 is providing some information gain. It seems that the feature has been a good addition to the data set."
   ]
  },
  {
   "cell_type": "markdown",
   "metadata": {},
   "source": [
    "### 4.4 Printing 100 predicted target features and evaluate the prediction \n",
    "- Here I will print the predicted target feature value for the first 100 training examples. "
   ]
  },
  {
   "cell_type": "code",
   "execution_count": 66,
   "metadata": {},
   "outputs": [
    {
     "data": {
      "text/html": [
       "<div>\n",
       "<style scoped>\n",
       "    .dataframe tbody tr th:only-of-type {\n",
       "        vertical-align: middle;\n",
       "    }\n",
       "\n",
       "    .dataframe tbody tr th {\n",
       "        vertical-align: top;\n",
       "    }\n",
       "\n",
       "    .dataframe thead th {\n",
       "        text-align: right;\n",
       "    }\n",
       "</style>\n",
       "<table border=\"1\" class=\"dataframe\">\n",
       "  <thead>\n",
       "    <tr style=\"text-align: right;\">\n",
       "      <th></th>\n",
       "      <th>ActualClass</th>\n",
       "      <th>PredictedClass</th>\n",
       "    </tr>\n",
       "  </thead>\n",
       "  <tbody>\n",
       "    <tr>\n",
       "      <th>0</th>\n",
       "      <td>0</td>\n",
       "      <td>0</td>\n",
       "    </tr>\n",
       "    <tr>\n",
       "      <th>1</th>\n",
       "      <td>0</td>\n",
       "      <td>0</td>\n",
       "    </tr>\n",
       "    <tr>\n",
       "      <th>2</th>\n",
       "      <td>0</td>\n",
       "      <td>0</td>\n",
       "    </tr>\n",
       "    <tr>\n",
       "      <th>3</th>\n",
       "      <td>0</td>\n",
       "      <td>0</td>\n",
       "    </tr>\n",
       "    <tr>\n",
       "      <th>4</th>\n",
       "      <td>0</td>\n",
       "      <td>0</td>\n",
       "    </tr>\n",
       "    <tr>\n",
       "      <th>...</th>\n",
       "      <td>...</td>\n",
       "      <td>...</td>\n",
       "    </tr>\n",
       "    <tr>\n",
       "      <th>95</th>\n",
       "      <td>0</td>\n",
       "      <td>0</td>\n",
       "    </tr>\n",
       "    <tr>\n",
       "      <th>96</th>\n",
       "      <td>0</td>\n",
       "      <td>0</td>\n",
       "    </tr>\n",
       "    <tr>\n",
       "      <th>97</th>\n",
       "      <td>0</td>\n",
       "      <td>0</td>\n",
       "    </tr>\n",
       "    <tr>\n",
       "      <th>98</th>\n",
       "      <td>0</td>\n",
       "      <td>0</td>\n",
       "    </tr>\n",
       "    <tr>\n",
       "      <th>99</th>\n",
       "      <td>0</td>\n",
       "      <td>0</td>\n",
       "    </tr>\n",
       "  </tbody>\n",
       "</table>\n",
       "<p>100 rows × 2 columns</p>\n",
       "</div>"
      ],
      "text/plain": [
       "    ActualClass  PredictedClass\n",
       "0             0               0\n",
       "1             0               0\n",
       "2             0               0\n",
       "3             0               0\n",
       "4             0               0\n",
       "..          ...             ...\n",
       "95            0               0\n",
       "96            0               0\n",
       "97            0               0\n",
       "98            0               0\n",
       "99            0               0\n",
       "\n",
       "[100 rows x 2 columns]"
      ]
     },
     "execution_count": 66,
     "metadata": {},
     "output_type": "execute_result"
    }
   ],
   "source": [
    "# Predicted class labels for all examples, \n",
    "# using the trained model, on in-sample data (same sample used for training and test)\n",
    "rfc_predictions_train = rfc.predict(X_train)\n",
    "df_true_vs_rfc_predicted = pd.DataFrame({'ActualClass': y_train, 'PredictedClass': rfc_predictions_train})\n",
    "df_true_vs_rfc_predicted.head(100)"
   ]
  },
  {
   "cell_type": "markdown",
   "metadata": {},
   "source": [
    "### 4.5 Evaluation metrics based on training data\n",
    "- I will print the classification evaluation measures computed on the training set (e.g. Accuracy, Confusion matrix, Precision, Recall, F1)\n",
    "- I will discuss finding based on these measures"
   ]
  },
  {
   "cell_type": "code",
   "execution_count": 67,
   "metadata": {},
   "outputs": [
    {
     "name": "stdout",
     "output_type": "stream",
     "text": [
      "==================== Train Data =======================\n",
      "Accuracy:  0.9871428571428571\n",
      "Confusion matrix: \n",
      " [[642   0]\n",
      " [  9  49]]\n",
      "Classification report:\n",
      "                precision    recall  f1-score   support\n",
      "\n",
      "           0       0.99      1.00      0.99       642\n",
      "           1       1.00      0.84      0.92        58\n",
      "\n",
      "    accuracy                           0.99       700\n",
      "   macro avg       0.99      0.92      0.95       700\n",
      "weighted avg       0.99      0.99      0.99       700\n",
      "\n"
     ]
    }
   ],
   "source": [
    "print(\"==================== Train Data =======================\")\n",
    "print(\"Accuracy: \", metrics.accuracy_score(y_train, rfc_predictions_train))\n",
    "print(\"Confusion matrix: \\n\", metrics.confusion_matrix(y_train, rfc_predictions_train))\n",
    "print(\"Classification report:\\n \", metrics.classification_report(y_train, rfc_predictions_train))"
   ]
  },
  {
   "cell_type": "markdown",
   "metadata": {},
   "source": [
    "- Initially, one might think that this is a wonderful model. However, with such high scores, it is very possible that the model is overfitting and may have learned the data.\n",
    "- This will be investigated by using the model on the test data."
   ]
  },
  {
   "cell_type": "markdown",
   "metadata": {},
   "source": [
    "### 4.6 Evaluate the model using the hold-out (30% examples) test set\n",
    "- These results from the test data will be compared the results from the training data.\n",
    "- In addition they will be compared to the results from a cross-validated model (i.e., a new model trained and evaluated using cross-validation on the full dataset).\n",
    "\n",
    "Printing actual binary_outcome vs predicted based on test data."
   ]
  },
  {
   "cell_type": "code",
   "execution_count": 68,
   "metadata": {},
   "outputs": [
    {
     "data": {
      "text/html": [
       "<div>\n",
       "<style scoped>\n",
       "    .dataframe tbody tr th:only-of-type {\n",
       "        vertical-align: middle;\n",
       "    }\n",
       "\n",
       "    .dataframe tbody tr th {\n",
       "        vertical-align: top;\n",
       "    }\n",
       "\n",
       "    .dataframe thead th {\n",
       "        text-align: right;\n",
       "    }\n",
       "</style>\n",
       "<table border=\"1\" class=\"dataframe\">\n",
       "  <thead>\n",
       "    <tr style=\"text-align: right;\">\n",
       "      <th></th>\n",
       "      <th>ActualClass</th>\n",
       "      <th>PredictedClass</th>\n",
       "    </tr>\n",
       "  </thead>\n",
       "  <tbody>\n",
       "    <tr>\n",
       "      <th>0</th>\n",
       "      <td>0</td>\n",
       "      <td>0</td>\n",
       "    </tr>\n",
       "    <tr>\n",
       "      <th>1</th>\n",
       "      <td>0</td>\n",
       "      <td>0</td>\n",
       "    </tr>\n",
       "    <tr>\n",
       "      <th>2</th>\n",
       "      <td>0</td>\n",
       "      <td>0</td>\n",
       "    </tr>\n",
       "    <tr>\n",
       "      <th>3</th>\n",
       "      <td>0</td>\n",
       "      <td>0</td>\n",
       "    </tr>\n",
       "    <tr>\n",
       "      <th>4</th>\n",
       "      <td>0</td>\n",
       "      <td>0</td>\n",
       "    </tr>\n",
       "    <tr>\n",
       "      <th>5</th>\n",
       "      <td>1</td>\n",
       "      <td>1</td>\n",
       "    </tr>\n",
       "    <tr>\n",
       "      <th>6</th>\n",
       "      <td>0</td>\n",
       "      <td>0</td>\n",
       "    </tr>\n",
       "    <tr>\n",
       "      <th>7</th>\n",
       "      <td>0</td>\n",
       "      <td>0</td>\n",
       "    </tr>\n",
       "    <tr>\n",
       "      <th>8</th>\n",
       "      <td>0</td>\n",
       "      <td>0</td>\n",
       "    </tr>\n",
       "    <tr>\n",
       "      <th>9</th>\n",
       "      <td>0</td>\n",
       "      <td>0</td>\n",
       "    </tr>\n",
       "    <tr>\n",
       "      <th>10</th>\n",
       "      <td>1</td>\n",
       "      <td>0</td>\n",
       "    </tr>\n",
       "    <tr>\n",
       "      <th>11</th>\n",
       "      <td>0</td>\n",
       "      <td>0</td>\n",
       "    </tr>\n",
       "    <tr>\n",
       "      <th>12</th>\n",
       "      <td>0</td>\n",
       "      <td>0</td>\n",
       "    </tr>\n",
       "    <tr>\n",
       "      <th>13</th>\n",
       "      <td>0</td>\n",
       "      <td>0</td>\n",
       "    </tr>\n",
       "    <tr>\n",
       "      <th>14</th>\n",
       "      <td>0</td>\n",
       "      <td>0</td>\n",
       "    </tr>\n",
       "    <tr>\n",
       "      <th>15</th>\n",
       "      <td>0</td>\n",
       "      <td>0</td>\n",
       "    </tr>\n",
       "    <tr>\n",
       "      <th>16</th>\n",
       "      <td>0</td>\n",
       "      <td>0</td>\n",
       "    </tr>\n",
       "    <tr>\n",
       "      <th>17</th>\n",
       "      <td>0</td>\n",
       "      <td>0</td>\n",
       "    </tr>\n",
       "    <tr>\n",
       "      <th>18</th>\n",
       "      <td>0</td>\n",
       "      <td>0</td>\n",
       "    </tr>\n",
       "    <tr>\n",
       "      <th>19</th>\n",
       "      <td>0</td>\n",
       "      <td>0</td>\n",
       "    </tr>\n",
       "  </tbody>\n",
       "</table>\n",
       "</div>"
      ],
      "text/plain": [
       "    ActualClass  PredictedClass\n",
       "0             0               0\n",
       "1             0               0\n",
       "2             0               0\n",
       "3             0               0\n",
       "4             0               0\n",
       "5             1               1\n",
       "6             0               0\n",
       "7             0               0\n",
       "8             0               0\n",
       "9             0               0\n",
       "10            1               0\n",
       "11            0               0\n",
       "12            0               0\n",
       "13            0               0\n",
       "14            0               0\n",
       "15            0               0\n",
       "16            0               0\n",
       "17            0               0\n",
       "18            0               0\n",
       "19            0               0"
      ]
     },
     "execution_count": 68,
     "metadata": {},
     "output_type": "execute_result"
    }
   ],
   "source": [
    "# Predicted class labels for all examples, \n",
    "# using the trained model, on in-sample data (same sample used for training and test)\n",
    "rfc_predictions_test = rfc.predict(X_test)\n",
    "df_true_vs_rfc_predicted_test = pd.DataFrame({'ActualClass': y_test, 'PredictedClass': rfc_predictions_test})\n",
    "df_true_vs_rfc_predicted_test.head(20)"
   ]
  },
  {
   "cell_type": "markdown",
   "metadata": {},
   "source": [
    "Evaluation metrics based on test data"
   ]
  },
  {
   "cell_type": "code",
   "execution_count": 69,
   "metadata": {},
   "outputs": [
    {
     "name": "stdout",
     "output_type": "stream",
     "text": [
      "==================== Test Data =======================\n",
      "Accuracy:  0.9466666666666667\n",
      "Confusion matrix: \n",
      " [[265   3]\n",
      " [ 13  19]]\n",
      "Classification report:\n",
      "                precision    recall  f1-score   support\n",
      "\n",
      "           0       0.95      0.99      0.97       268\n",
      "           1       0.86      0.59      0.70        32\n",
      "\n",
      "    accuracy                           0.95       300\n",
      "   macro avg       0.91      0.79      0.84       300\n",
      "weighted avg       0.94      0.95      0.94       300\n",
      "\n",
      "==================== Train Data =======================\n",
      "Accuracy:  0.9871428571428571\n",
      "Confusion matrix: \n",
      " [[642   0]\n",
      " [  9  49]]\n",
      "Classification report:\n",
      "                precision    recall  f1-score   support\n",
      "\n",
      "           0       0.99      1.00      0.99       642\n",
      "           1       1.00      0.84      0.92        58\n",
      "\n",
      "    accuracy                           0.99       700\n",
      "   macro avg       0.99      0.92      0.95       700\n",
      "weighted avg       0.99      0.99      0.99       700\n",
      "\n",
      "======================================================\n"
     ]
    }
   ],
   "source": [
    "print(\"==================== Test Data =======================\")\n",
    "print(\"Accuracy: \", metrics.accuracy_score(y_test, rfc_predictions_test))\n",
    "print(\"Confusion matrix: \\n\", metrics.confusion_matrix(y_test, rfc_predictions_test))\n",
    "print(\"Classification report:\\n \", metrics.classification_report(y_test, rfc_predictions_test))\n",
    "print(\"==================== Train Data =======================\")\n",
    "print(\"Accuracy: \", metrics.accuracy_score(y_train, rfc_predictions_train))\n",
    "print(\"Confusion matrix: \\n\", metrics.confusion_matrix(y_train, rfc_predictions_train))\n",
    "print(\"Classification report:\\n \", metrics.classification_report(y_train, rfc_predictions_train))\n",
    "print(\"======================================================\")"
   ]
  },
  {
   "cell_type": "markdown",
   "metadata": {},
   "source": [
    "The results obtained on the test data appear to be promising.\n",
    "\n",
    "- The accuracy of the test results is lower as the model is being tested on data which it has not yet been exposed to.\n",
    "- The results achieved from the test data appear to be reasonable and a generally in line with results achieved in the other two models. \n",
    "- There appears to be an improvement in recall and f1 scores compared to the previous models."
   ]
  },
  {
   "cell_type": "markdown",
   "metadata": {},
   "source": [
    "### 4.7 Cross validation\n",
    "- We will preform cross validation and store the results in a dictionary for later use"
   ]
  },
  {
   "cell_type": "code",
   "execution_count": 70,
   "metadata": {},
   "outputs": [],
   "source": [
    "def cross_val_RandomForest_DF(X,y, depth=None, estimators=100):\n",
    "    \"\"\"Function to perform cross validation and store results \n",
    "    in dataframe. Cross validation looks at accuracy, precision, \n",
    "    recall, f1. Returns a dataframe with results\"\"\"\n",
    "\n",
    "    # store results in dict\n",
    "    RandomForestResults = {}\n",
    "    # metrics to test against\n",
    "    test_metrics = ['accuracy','precision','recall', 'f1']\n",
    "\n",
    "    for metric in test_metrics:\n",
    "        # generate test results\n",
    "        result = cross_val_score(RandomForestClassifier(n_estimators=estimators, max_features='auto', oob_score=True, random_state=1, max_depth=depth), X, y, scoring=metric, cv=10)\n",
    "        # store result in dict\n",
    "        RandomForestResults[metric] = result.mean()\n",
    "    \n",
    "    # create dataframe with results\n",
    "    RandomForestDF = pd.DataFrame.from_dict(RandomForestResults, orient='index', columns=['Random_Forests'])\n",
    "\n",
    "    return RandomForestDF"
   ]
  },
  {
   "cell_type": "markdown",
   "metadata": {},
   "source": [
    "##### The results for Random Forests are summarized below"
   ]
  },
  {
   "cell_type": "code",
   "execution_count": 71,
   "metadata": {},
   "outputs": [
    {
     "name": "stdout",
     "output_type": "stream",
     "text": [
      "Mean results from 10 fold cross validation are:\n"
     ]
    },
    {
     "data": {
      "text/html": [
       "<div>\n",
       "<style scoped>\n",
       "    .dataframe tbody tr th:only-of-type {\n",
       "        vertical-align: middle;\n",
       "    }\n",
       "\n",
       "    .dataframe tbody tr th {\n",
       "        vertical-align: top;\n",
       "    }\n",
       "\n",
       "    .dataframe thead th {\n",
       "        text-align: right;\n",
       "    }\n",
       "</style>\n",
       "<table border=\"1\" class=\"dataframe\">\n",
       "  <thead>\n",
       "    <tr style=\"text-align: right;\">\n",
       "      <th></th>\n",
       "      <th>Random_Forests</th>\n",
       "    </tr>\n",
       "  </thead>\n",
       "  <tbody>\n",
       "    <tr>\n",
       "      <th>accuracy</th>\n",
       "      <td>0.957000</td>\n",
       "    </tr>\n",
       "    <tr>\n",
       "      <th>precision</th>\n",
       "      <td>0.807489</td>\n",
       "    </tr>\n",
       "    <tr>\n",
       "      <th>recall</th>\n",
       "      <td>0.688889</td>\n",
       "    </tr>\n",
       "    <tr>\n",
       "      <th>f1</th>\n",
       "      <td>0.734937</td>\n",
       "    </tr>\n",
       "  </tbody>\n",
       "</table>\n",
       "</div>"
      ],
      "text/plain": [
       "           Random_Forests\n",
       "accuracy         0.957000\n",
       "precision        0.807489\n",
       "recall           0.688889\n",
       "f1               0.734937"
      ]
     },
     "execution_count": 71,
     "metadata": {},
     "output_type": "execute_result"
    }
   ],
   "source": [
    "RandomForestDF = cross_val_RandomForest_DF(X,y)\n",
    "print(f\"Mean results from 10 fold cross validation are:\")\n",
    "RandomForestDF"
   ]
  },
  {
   "cell_type": "markdown",
   "metadata": {},
   "source": [
    "- The accuracy score is in line with expectations. \n",
    "- Precision is higher than linear regression but lower than logistic regression.\n",
    "- The recall score is much higher than the other two models.\n",
    "- The f1 score is also significantly higher than the previous models."
   ]
  },
  {
   "cell_type": "markdown",
   "metadata": {},
   "source": [
    "### 4.8 Out of bag accuracy\n",
    "- This is the out of bag error estimate \n",
    "- It is an internal error estimate of a random forest as it is being constructed.\n",
    "- It is used as an additional measure and should be line with the cross validation results"
   ]
  },
  {
   "cell_type": "code",
   "execution_count": 72,
   "metadata": {},
   "outputs": [
    {
     "data": {
      "text/plain": [
       "0.9685714285714285"
      ]
     },
     "execution_count": 72,
     "metadata": {},
     "output_type": "execute_result"
    }
   ],
   "source": [
    "# compute the out-of-bag classification accuracy\n",
    "rfc.oob_score_"
   ]
  },
  {
   "cell_type": "markdown",
   "metadata": {},
   "source": [
    "The out of the bag score appears to be in line with the accuracy score above."
   ]
  },
  {
   "cell_type": "markdown",
   "metadata": {},
   "source": [
    "## 5 Improving Predictive Models"
   ]
  },
  {
   "cell_type": "markdown",
   "metadata": {},
   "source": [
    "### 5.1 Which model of the ones trained above performs better at predicting the target feature? \n",
    "- The three models have similar accuracy scores on the test data.\n",
    "- There are significant differences, however, in the other three measures.\n",
    "- A summary of the results so far can be seen below.\n",
    "- Note: these are for a subset of the original features as in Part 1 I dropped many low correlation features. \n",
    "    - In part 5.3 we will review the impact to the decisions taken in part 1."
   ]
  },
  {
   "cell_type": "code",
   "execution_count": 73,
   "metadata": {},
   "outputs": [
    {
     "data": {
      "text/html": [
       "<div>\n",
       "<style scoped>\n",
       "    .dataframe tbody tr th:only-of-type {\n",
       "        vertical-align: middle;\n",
       "    }\n",
       "\n",
       "    .dataframe tbody tr th {\n",
       "        vertical-align: top;\n",
       "    }\n",
       "\n",
       "    .dataframe thead th {\n",
       "        text-align: right;\n",
       "    }\n",
       "</style>\n",
       "<table border=\"1\" class=\"dataframe\">\n",
       "  <thead>\n",
       "    <tr style=\"text-align: right;\">\n",
       "      <th></th>\n",
       "      <th>Linear_Regression</th>\n",
       "      <th>Logistic_Regression</th>\n",
       "      <th>Random_Forests</th>\n",
       "    </tr>\n",
       "  </thead>\n",
       "  <tbody>\n",
       "    <tr>\n",
       "      <th>accuracy</th>\n",
       "      <td>0.939333</td>\n",
       "      <td>0.956000</td>\n",
       "      <td>0.957000</td>\n",
       "    </tr>\n",
       "    <tr>\n",
       "      <th>precision</th>\n",
       "      <td>0.785104</td>\n",
       "      <td>0.910000</td>\n",
       "      <td>0.807489</td>\n",
       "    </tr>\n",
       "    <tr>\n",
       "      <th>recall</th>\n",
       "      <td>0.536678</td>\n",
       "      <td>0.566667</td>\n",
       "      <td>0.688889</td>\n",
       "    </tr>\n",
       "    <tr>\n",
       "      <th>f1</th>\n",
       "      <td>0.622016</td>\n",
       "      <td>0.683696</td>\n",
       "      <td>0.734937</td>\n",
       "    </tr>\n",
       "  </tbody>\n",
       "</table>\n",
       "</div>"
      ],
      "text/plain": [
       "           Linear_Regression  Logistic_Regression  Random_Forests\n",
       "accuracy            0.939333             0.956000        0.957000\n",
       "precision           0.785104             0.910000        0.807489\n",
       "recall              0.536678             0.566667        0.688889\n",
       "f1                  0.622016             0.683696        0.734937"
      ]
     },
     "execution_count": 73,
     "metadata": {},
     "output_type": "execute_result"
    }
   ],
   "source": [
    "ResultsDF = pd.concat([linRegDF, logRegDF, RandomForestDF], axis=1)\n",
    "ResultsDF"
   ]
  },
  {
   "cell_type": "markdown",
   "metadata": {},
   "source": [
    "### 5.2 Is the model more accurate than a simple model that always predicts the majority class\n",
    "- I will compare the results above with a simple model which predicts for the majority class\n",
    "- Firstly I will get the breakdown of the test dataset and see which is the majority class"
   ]
  },
  {
   "cell_type": "code",
   "execution_count": 74,
   "metadata": {},
   "outputs": [
    {
     "name": "stdout",
     "output_type": "stream",
     "text": [
      "From original dataset: \t\tCount 300\n",
      "Total number with positive (0) outcome:\t 268\t89.33%\n",
      "Total number with negative (1) outcome:\t 32\t10.67%\n"
     ]
    }
   ],
   "source": [
    "negative_count = y_test[y_test == 1].count()\n",
    "positive_count = y_test[y_test == 0].count()\n",
    "total = negative_count + positive_count\n",
    "print(f'From original dataset: \\t\\tCount {total}')\n",
    "print(f'Total number with positive (0) outcome:\\t {positive_count}\\t{round(positive_count/len(y_test)*100,2)}%')\n",
    "print(f'Total number with negative (1) outcome:\\t {negative_count}\\t{round(negative_count/len(y_test)*100,2)}%')"
   ]
  },
  {
   "cell_type": "markdown",
   "metadata": {},
   "source": [
    "- The majority class is 0.\n",
    "- Scores will now be generated for predicting the majority class"
   ]
  },
  {
   "cell_type": "code",
   "execution_count": 75,
   "metadata": {},
   "outputs": [
    {
     "name": "stdout",
     "output_type": "stream",
     "text": [
      "Accuracy:  0.8933333333333333\n",
      "Confusion matrix: \n",
      " [[268   0]\n",
      " [ 32   0]]\n",
      "Classification report:\n",
      "                precision    recall  f1-score   support\n",
      "\n",
      "           0       0.89      1.00      0.94       268\n",
      "           1       0.00      0.00      0.00        32\n",
      "\n",
      "    accuracy                           0.89       300\n",
      "   macro avg       0.45      0.50      0.47       300\n",
      "weighted avg       0.80      0.89      0.84       300\n",
      "\n"
     ]
    }
   ],
   "source": [
    "# generate array of 300 zeros (length of test dataset)\n",
    "majority = np.zeros(300)\n",
    "# create dataframe \n",
    "df_majorityClass = pd.DataFrame(majority, columns=['prediction'])\n",
    "# calculate scores of simple predictin vs actual\n",
    "print(\"Accuracy: \", metrics.accuracy_score(y_test, df_majorityClass))\n",
    "print(\"Confusion matrix: \\n\", metrics.confusion_matrix(y_test, df_majorityClass))\n",
    "print(\"Classification report:\\n \", metrics.classification_report(y_test, df_majorityClass))"
   ]
  },
  {
   "cell_type": "markdown",
   "metadata": {},
   "source": [
    "- As expected, this simple model has completely failed at prediciting negative outcomes (1).\n",
    "- The deceivingly high accuracy score and precision score for 0 are to be expected given that 89% of the dataset is a positive outcome (0).\n",
    "- Recall is at 100% as all actual 0 values were predicted correctly.\n",
    "- The f1 stands at 94% as it is a weighted average of recall and precision."
   ]
  },
  {
   "cell_type": "markdown",
   "metadata": {},
   "source": [
    "### 5.3 Compare Model performance using different feature subsets \n",
    "#### 5.3.1 All features\n",
    "- I will now repeat the tests using all features. \n",
    "- First we set up the dataframe using the original features."
   ]
  },
  {
   "cell_type": "code",
   "execution_count": 76,
   "metadata": {},
   "outputs": [
    {
     "name": "stdout",
     "output_type": "stream",
     "text": [
      "number of features incl dummies:  117\n"
     ]
    }
   ],
   "source": [
    "# dataframe with all features = original dataframe\n",
    "df_all = df.drop([\"Animal_ID\"],1)\n",
    "df_all = pd.get_dummies(df_all)\n",
    "# set X,y\n",
    "y = df_all[\"binary_outcome\"]\n",
    "X = df_all.drop([\"binary_outcome\"],1)\n",
    "print(\"number of features incl dummies: \", len(X.columns))"
   ]
  },
  {
   "cell_type": "code",
   "execution_count": 77,
   "metadata": {},
   "outputs": [
    {
     "data": {
      "text/plain": [
       "Age_upon_Intake                 float64\n",
       "Age_upon_Outcome                float64\n",
       "binary_outcome                    int64\n",
       "Time_In_Shelter                 float64\n",
       "Name_Intake_Named                 uint8\n",
       "                                 ...   \n",
       "birth_month_10                    uint8\n",
       "birth_month_11                    uint8\n",
       "birth_month_12                    uint8\n",
       "Neutered_Spayed_In_Shelter_0      uint8\n",
       "Neutered_Spayed_In_Shelter_1      uint8\n",
       "Length: 118, dtype: object"
      ]
     },
     "execution_count": 77,
     "metadata": {},
     "output_type": "execute_result"
    }
   ],
   "source": [
    "df_all.dtypes"
   ]
  },
  {
   "cell_type": "markdown",
   "metadata": {},
   "source": [
    "With the dataframe now setup we will generate new set of results based on all the features\n",
    "- This operation is simplified as we have set up functions in part 2,3,4 to allow cross validated scores to be returned in dataframes "
   ]
  },
  {
   "cell_type": "code",
   "execution_count": 78,
   "metadata": {},
   "outputs": [
    {
     "data": {
      "text/html": [
       "<div>\n",
       "<style scoped>\n",
       "    .dataframe tbody tr th:only-of-type {\n",
       "        vertical-align: middle;\n",
       "    }\n",
       "\n",
       "    .dataframe tbody tr th {\n",
       "        vertical-align: top;\n",
       "    }\n",
       "\n",
       "    .dataframe thead th {\n",
       "        text-align: right;\n",
       "    }\n",
       "</style>\n",
       "<table border=\"1\" class=\"dataframe\">\n",
       "  <thead>\n",
       "    <tr style=\"text-align: right;\">\n",
       "      <th></th>\n",
       "      <th>Linear_Regression</th>\n",
       "      <th>Logistic_Regression</th>\n",
       "      <th>Random_Forests</th>\n",
       "    </tr>\n",
       "  </thead>\n",
       "  <tbody>\n",
       "    <tr>\n",
       "      <th>accuracy</th>\n",
       "      <td>0.946000</td>\n",
       "      <td>0.957000</td>\n",
       "      <td>0.956000</td>\n",
       "    </tr>\n",
       "    <tr>\n",
       "      <th>precision</th>\n",
       "      <td>0.830384</td>\n",
       "      <td>0.902262</td>\n",
       "      <td>0.898333</td>\n",
       "    </tr>\n",
       "    <tr>\n",
       "      <th>recall</th>\n",
       "      <td>0.532536</td>\n",
       "      <td>0.588889</td>\n",
       "      <td>0.566667</td>\n",
       "    </tr>\n",
       "    <tr>\n",
       "      <th>f1</th>\n",
       "      <td>0.643723</td>\n",
       "      <td>0.700280</td>\n",
       "      <td>0.688724</td>\n",
       "    </tr>\n",
       "  </tbody>\n",
       "</table>\n",
       "</div>"
      ],
      "text/plain": [
       "           Linear_Regression  Logistic_Regression  Random_Forests\n",
       "accuracy            0.946000             0.957000        0.956000\n",
       "precision           0.830384             0.902262        0.898333\n",
       "recall              0.532536             0.588889        0.566667\n",
       "f1                  0.643723             0.700280        0.688724"
      ]
     },
     "execution_count": 78,
     "metadata": {},
     "output_type": "execute_result"
    }
   ],
   "source": [
    "# calculate Linear regression, logistic regression, random forest results again using all features\n",
    "linRegDF = cross_val_LinReg_DF(X,y)\n",
    "logRegDF = cross_val_LogReg_DF(X,y)\n",
    "RandomForestDF = cross_val_RandomForest_DF(X,y)\n",
    "# merge all 3 models into dataframe\n",
    "ResultsDF_allFeatures = pd.concat([linRegDF, logRegDF, RandomForestDF], axis=1)\n",
    "ResultsDF_allFeatures"
   ]
  },
  {
   "cell_type": "markdown",
   "metadata": {},
   "source": [
    "### 5.3.2 Comparison of feature set so far"
   ]
  },
  {
   "cell_type": "code",
   "execution_count": 79,
   "metadata": {},
   "outputs": [
    {
     "name": "stdout",
     "output_type": "stream",
     "text": [
      "\n",
      "Scores using all features:\n",
      "===================================================================\n",
      "           Linear_Regression  Logistic_Regression  Random_Forests\n",
      "accuracy            0.946000             0.957000        0.956000\n",
      "precision           0.830384             0.902262        0.898333\n",
      "recall              0.532536             0.588889        0.566667\n",
      "f1                  0.643723             0.700280        0.688724\n",
      "\n",
      "Scores using subset of features:\n",
      "===================================================================\n",
      "           Linear_Regression  Logistic_Regression  Random_Forests\n",
      "accuracy            0.939333             0.956000        0.957000\n",
      "precision           0.785104             0.910000        0.807489\n",
      "recall              0.536678             0.566667        0.688889\n",
      "f1                  0.622016             0.683696        0.734937\n"
     ]
    }
   ],
   "source": [
    "print(\"\\nScores using all features:\")\n",
    "print(\"===================================================================\")\n",
    "print(ResultsDF_allFeatures)\n",
    "print(\"\\nScores using subset of features:\")\n",
    "print(\"===================================================================\")\n",
    "print(ResultsDF)"
   ]
  },
  {
   "cell_type": "markdown",
   "metadata": {},
   "source": [
    "It can be seen from the above that the levels of precision and accuracy are still high when all the original features are used. They are quite similar to and in some cases higher than that achieved with the chosen subset. Despite the precision being down by 9%, the random forests model holds up very well using the chosen subest of features. In fact the recall score and f1 score rise significantly. Overall, it is looking like the random forests model is perforing the best out of the three. "
   ]
  },
  {
   "cell_type": "markdown",
   "metadata": {},
   "source": [
    "### 5.4 Further optimisations"
   ]
  },
  {
   "cell_type": "markdown",
   "metadata": {},
   "source": [
    "I will now explore some possible optimisations for the random forests model as I have deemed this to be the most promising.\n",
    "\n",
    "- Firstly I will try to optimise the max depth of the random forest model."
   ]
  },
  {
   "cell_type": "markdown",
   "metadata": {},
   "source": [
    "#### 5.4.1 Optimise Max Depth\n",
    "**Note: This calculation may take some time**"
   ]
  },
  {
   "cell_type": "code",
   "execution_count": 80,
   "metadata": {},
   "outputs": [
    {
     "data": {
      "text/html": [
       "<div>\n",
       "<style scoped>\n",
       "    .dataframe tbody tr th:only-of-type {\n",
       "        vertical-align: middle;\n",
       "    }\n",
       "\n",
       "    .dataframe tbody tr th {\n",
       "        vertical-align: top;\n",
       "    }\n",
       "\n",
       "    .dataframe thead th {\n",
       "        text-align: right;\n",
       "    }\n",
       "</style>\n",
       "<table border=\"1\" class=\"dataframe\">\n",
       "  <thead>\n",
       "    <tr style=\"text-align: right;\">\n",
       "      <th></th>\n",
       "      <th>depth=1</th>\n",
       "      <th>depth=2</th>\n",
       "      <th>depth=3</th>\n",
       "      <th>depth=4</th>\n",
       "      <th>depth=5</th>\n",
       "      <th>depth=6</th>\n",
       "      <th>depth=7</th>\n",
       "      <th>depth=8</th>\n",
       "      <th>depth=9</th>\n",
       "      <th>depth=10</th>\n",
       "      <th>no_max_depth</th>\n",
       "    </tr>\n",
       "  </thead>\n",
       "  <tbody>\n",
       "    <tr>\n",
       "      <th>accuracy</th>\n",
       "      <td>0.911000</td>\n",
       "      <td>0.956000</td>\n",
       "      <td>0.956000</td>\n",
       "      <td>0.957000</td>\n",
       "      <td>0.958000</td>\n",
       "      <td>0.958000</td>\n",
       "      <td>0.958000</td>\n",
       "      <td>0.961000</td>\n",
       "      <td>0.964000</td>\n",
       "      <td>0.958000</td>\n",
       "      <td>0.957000</td>\n",
       "    </tr>\n",
       "    <tr>\n",
       "      <th>precision</th>\n",
       "      <td>0.100000</td>\n",
       "      <td>0.946667</td>\n",
       "      <td>0.946667</td>\n",
       "      <td>0.938333</td>\n",
       "      <td>0.943333</td>\n",
       "      <td>0.943333</td>\n",
       "      <td>0.923056</td>\n",
       "      <td>0.901032</td>\n",
       "      <td>0.899722</td>\n",
       "      <td>0.832698</td>\n",
       "      <td>0.807489</td>\n",
       "    </tr>\n",
       "    <tr>\n",
       "      <th>recall</th>\n",
       "      <td>0.011111</td>\n",
       "      <td>0.533333</td>\n",
       "      <td>0.533333</td>\n",
       "      <td>0.555556</td>\n",
       "      <td>0.566667</td>\n",
       "      <td>0.566667</td>\n",
       "      <td>0.588889</td>\n",
       "      <td>0.633333</td>\n",
       "      <td>0.666667</td>\n",
       "      <td>0.666667</td>\n",
       "      <td>0.688889</td>\n",
       "    </tr>\n",
       "    <tr>\n",
       "      <th>f1</th>\n",
       "      <td>0.020000</td>\n",
       "      <td>0.665600</td>\n",
       "      <td>0.665600</td>\n",
       "      <td>0.682230</td>\n",
       "      <td>0.693219</td>\n",
       "      <td>0.693219</td>\n",
       "      <td>0.700939</td>\n",
       "      <td>0.736114</td>\n",
       "      <td>0.760408</td>\n",
       "      <td>0.731766</td>\n",
       "      <td>0.734937</td>\n",
       "    </tr>\n",
       "  </tbody>\n",
       "</table>\n",
       "</div>"
      ],
      "text/plain": [
       "            depth=1   depth=2   depth=3   depth=4   depth=5   depth=6  \\\n",
       "accuracy   0.911000  0.956000  0.956000  0.957000  0.958000  0.958000   \n",
       "precision  0.100000  0.946667  0.946667  0.938333  0.943333  0.943333   \n",
       "recall     0.011111  0.533333  0.533333  0.555556  0.566667  0.566667   \n",
       "f1         0.020000  0.665600  0.665600  0.682230  0.693219  0.693219   \n",
       "\n",
       "            depth=7   depth=8   depth=9  depth=10  no_max_depth  \n",
       "accuracy   0.958000  0.961000  0.964000  0.958000      0.957000  \n",
       "precision  0.923056  0.901032  0.899722  0.832698      0.807489  \n",
       "recall     0.588889  0.633333  0.666667  0.666667      0.688889  \n",
       "f1         0.700939  0.736114  0.760408  0.731766      0.734937  "
      ]
     },
     "execution_count": 80,
     "metadata": {},
     "output_type": "execute_result"
    }
   ],
   "source": [
    "# setup dataframe\n",
    "y = df_rev1[\"binary_outcome\"]\n",
    "X = df_rev1.drop([\"binary_outcome\"],1)\n",
    "\n",
    "# initialised empty daraframe\n",
    "RandomForest_Depth = pd.DataFrame()\n",
    "\n",
    "# calculate cross val score incrementing max depth by 1 each iteration\n",
    "# append results to dataframe\n",
    "for i in range(1,11):\n",
    "    df1 = cross_val_RandomForest_DF(X,y,i)\n",
    "    df1.rename(columns={'Random_Forests':f'depth={i}'}, inplace=True)\n",
    "    RandomForest_Depth = pd.concat([RandomForest_Depth, df1], axis=1)\n",
    "\n",
    "# same calculation but use no max depth this time\n",
    "no_max_depth = cross_val_RandomForest_DF(X,y)\n",
    "no_max_depth.rename(columns={'Random_Forests':f'no_max_depth'}, inplace=True)\n",
    "RandomForest_Depth = pd.concat([RandomForest_Depth, no_max_depth], axis=1)\n",
    "RandomForest_Depth"
   ]
  },
  {
   "cell_type": "markdown",
   "metadata": {},
   "source": [
    "We can see from above that the sweet spot appears to be with a max depth of 9. This will vary between datasets but it does let us know that there is little to be gained by having max_depth=None. Max_depth=None will significantly increase the model size. "
   ]
  },
  {
   "cell_type": "markdown",
   "metadata": {},
   "source": [
    "#### 5.4.2 Optimise Number of estimators\n",
    "**Note: This calculation may take some time**"
   ]
  },
  {
   "cell_type": "code",
   "execution_count": 81,
   "metadata": {},
   "outputs": [
    {
     "data": {
      "text/html": [
       "<div>\n",
       "<style scoped>\n",
       "    .dataframe tbody tr th:only-of-type {\n",
       "        vertical-align: middle;\n",
       "    }\n",
       "\n",
       "    .dataframe tbody tr th {\n",
       "        vertical-align: top;\n",
       "    }\n",
       "\n",
       "    .dataframe thead th {\n",
       "        text-align: right;\n",
       "    }\n",
       "</style>\n",
       "<table border=\"1\" class=\"dataframe\">\n",
       "  <thead>\n",
       "    <tr style=\"text-align: right;\">\n",
       "      <th></th>\n",
       "      <th>estimators=1</th>\n",
       "      <th>estimators=2</th>\n",
       "      <th>estimators=4</th>\n",
       "      <th>estimators=8</th>\n",
       "      <th>estimators=16</th>\n",
       "      <th>estimators=32</th>\n",
       "      <th>estimators=64</th>\n",
       "      <th>estimators=100</th>\n",
       "      <th>estimators=200</th>\n",
       "    </tr>\n",
       "  </thead>\n",
       "  <tbody>\n",
       "    <tr>\n",
       "      <th>accuracy</th>\n",
       "      <td>0.961000</td>\n",
       "      <td>0.957000</td>\n",
       "      <td>0.957000</td>\n",
       "      <td>0.956000</td>\n",
       "      <td>0.958000</td>\n",
       "      <td>0.957000</td>\n",
       "      <td>0.958000</td>\n",
       "      <td>0.957000</td>\n",
       "      <td>0.957000</td>\n",
       "    </tr>\n",
       "    <tr>\n",
       "      <th>precision</th>\n",
       "      <td>0.846111</td>\n",
       "      <td>0.826310</td>\n",
       "      <td>0.838571</td>\n",
       "      <td>0.824802</td>\n",
       "      <td>0.820595</td>\n",
       "      <td>0.807489</td>\n",
       "      <td>0.817211</td>\n",
       "      <td>0.807489</td>\n",
       "      <td>0.813203</td>\n",
       "    </tr>\n",
       "    <tr>\n",
       "      <th>recall</th>\n",
       "      <td>0.688889</td>\n",
       "      <td>0.655556</td>\n",
       "      <td>0.633333</td>\n",
       "      <td>0.655556</td>\n",
       "      <td>0.677778</td>\n",
       "      <td>0.688889</td>\n",
       "      <td>0.688889</td>\n",
       "      <td>0.688889</td>\n",
       "      <td>0.677778</td>\n",
       "    </tr>\n",
       "    <tr>\n",
       "      <th>f1</th>\n",
       "      <td>0.748128</td>\n",
       "      <td>0.715826</td>\n",
       "      <td>0.715335</td>\n",
       "      <td>0.715247</td>\n",
       "      <td>0.733818</td>\n",
       "      <td>0.734937</td>\n",
       "      <td>0.739512</td>\n",
       "      <td>0.734937</td>\n",
       "      <td>0.728360</td>\n",
       "    </tr>\n",
       "  </tbody>\n",
       "</table>\n",
       "</div>"
      ],
      "text/plain": [
       "           estimators=1  estimators=2  estimators=4  estimators=8  \\\n",
       "accuracy       0.961000      0.957000      0.957000      0.956000   \n",
       "precision      0.846111      0.826310      0.838571      0.824802   \n",
       "recall         0.688889      0.655556      0.633333      0.655556   \n",
       "f1             0.748128      0.715826      0.715335      0.715247   \n",
       "\n",
       "           estimators=16  estimators=32  estimators=64  estimators=100  \\\n",
       "accuracy        0.958000       0.957000       0.958000        0.957000   \n",
       "precision       0.820595       0.807489       0.817211        0.807489   \n",
       "recall          0.677778       0.688889       0.688889        0.688889   \n",
       "f1              0.733818       0.734937       0.739512        0.734937   \n",
       "\n",
       "           estimators=200  \n",
       "accuracy         0.957000  \n",
       "precision        0.813203  \n",
       "recall           0.677778  \n",
       "f1               0.728360  "
      ]
     },
     "execution_count": 81,
     "metadata": {},
     "output_type": "execute_result"
    }
   ],
   "source": [
    "# setup dataframe\n",
    "y = df_rev1[\"binary_outcome\"]\n",
    "X = df_rev1.drop([\"binary_outcome\"],1)\n",
    "\n",
    "# initialised empty daraframe\n",
    "RandomForest_Estimators = pd.DataFrame()\n",
    "\n",
    "n_estimators = [1, 2, 4, 8, 16, 32, 64, 100, 200]\n",
    "\n",
    "for item in n_estimators:\n",
    "    df1 = cross_val_RandomForest_DF(X,y,estimators=item)\n",
    "    df1.rename(columns={'Random_Forests':f'estimators={item}'}, inplace=True)\n",
    "    RandomForest_Estimators = pd.concat([RandomForest_Estimators, df1], axis=1)\n",
    "\n",
    "RandomForest_Estimators"
   ]
  },
  {
   "cell_type": "markdown",
   "metadata": {},
   "source": [
    "We can see from the above dataframe that the increasing number estimators does improve the recall and f1 scores of the model. The accuracy and precision scores are very high even with only 1 - 4 estimators. This is understandable given the the approximately 90:10 split in the target variable. The scores seem to level off at 64 estimators so I will go with that. This will have good implications for the size of the model."
   ]
  },
  {
   "cell_type": "markdown",
   "metadata": {},
   "source": [
    "#### 5.4.3 Optimise Number of features\n",
    "- First calculate feature order of importance using all features"
   ]
  },
  {
   "cell_type": "code",
   "execution_count": 82,
   "metadata": {},
   "outputs": [
    {
     "data": {
      "text/html": [
       "<div>\n",
       "<style scoped>\n",
       "    .dataframe tbody tr th:only-of-type {\n",
       "        vertical-align: middle;\n",
       "    }\n",
       "\n",
       "    .dataframe tbody tr th {\n",
       "        vertical-align: top;\n",
       "    }\n",
       "\n",
       "    .dataframe thead th {\n",
       "        text-align: right;\n",
       "    }\n",
       "</style>\n",
       "<table border=\"1\" class=\"dataframe\">\n",
       "  <thead>\n",
       "    <tr style=\"text-align: right;\">\n",
       "      <th></th>\n",
       "      <th>importance</th>\n",
       "    </tr>\n",
       "    <tr>\n",
       "      <th>feature</th>\n",
       "      <th></th>\n",
       "    </tr>\n",
       "  </thead>\n",
       "  <tbody>\n",
       "    <tr>\n",
       "      <th>Intake_Type_Wildlife</th>\n",
       "      <td>0.219771</td>\n",
       "    </tr>\n",
       "    <tr>\n",
       "      <th>Animal_Type_Intake_Other</th>\n",
       "      <td>0.147454</td>\n",
       "    </tr>\n",
       "    <tr>\n",
       "      <th>Sex_upon_Intake_Unknown</th>\n",
       "      <td>0.136135</td>\n",
       "    </tr>\n",
       "    <tr>\n",
       "      <th>Intake_Type_Stray</th>\n",
       "      <td>0.057707</td>\n",
       "    </tr>\n",
       "    <tr>\n",
       "      <th>Name_Intake_Unnamed</th>\n",
       "      <td>0.049614</td>\n",
       "    </tr>\n",
       "    <tr>\n",
       "      <th>Animal_Type_Intake_Cat</th>\n",
       "      <td>0.043190</td>\n",
       "    </tr>\n",
       "    <tr>\n",
       "      <th>Intake_Type_Euthanasia Request</th>\n",
       "      <td>0.041560</td>\n",
       "    </tr>\n",
       "    <tr>\n",
       "      <th>Intake_Condition_Injured</th>\n",
       "      <td>0.034048</td>\n",
       "    </tr>\n",
       "    <tr>\n",
       "      <th>Sex_upon_Intake_Intact Male</th>\n",
       "      <td>0.031417</td>\n",
       "    </tr>\n",
       "    <tr>\n",
       "      <th>Intake_Type_Owner Surrender</th>\n",
       "      <td>0.030688</td>\n",
       "    </tr>\n",
       "    <tr>\n",
       "      <th>Sex_upon_Intake_Intact Female</th>\n",
       "      <td>0.022481</td>\n",
       "    </tr>\n",
       "    <tr>\n",
       "      <th>Animal_Type_Intake_Dog</th>\n",
       "      <td>0.022453</td>\n",
       "    </tr>\n",
       "    <tr>\n",
       "      <th>Intake_Condition_Normal</th>\n",
       "      <td>0.020976</td>\n",
       "    </tr>\n",
       "    <tr>\n",
       "      <th>Intake_Condition_Nursing</th>\n",
       "      <td>0.020666</td>\n",
       "    </tr>\n",
       "    <tr>\n",
       "      <th>Intake_Condition_Sick</th>\n",
       "      <td>0.020381</td>\n",
       "    </tr>\n",
       "    <tr>\n",
       "      <th>Neutered_Spayed_In_Shelter_1</th>\n",
       "      <td>0.020297</td>\n",
       "    </tr>\n",
       "    <tr>\n",
       "      <th>Sex_upon_Intake_Neutered Male</th>\n",
       "      <td>0.014061</td>\n",
       "    </tr>\n",
       "    <tr>\n",
       "      <th>Breed_Intake_Mixed-Breed</th>\n",
       "      <td>0.012794</td>\n",
       "    </tr>\n",
       "    <tr>\n",
       "      <th>Breed_Intake_Pure-Breed</th>\n",
       "      <td>0.012763</td>\n",
       "    </tr>\n",
       "    <tr>\n",
       "      <th>Intake_Type_Public Assist</th>\n",
       "      <td>0.011088</td>\n",
       "    </tr>\n",
       "    <tr>\n",
       "      <th>Sex_upon_Intake_Spayed Female</th>\n",
       "      <td>0.007793</td>\n",
       "    </tr>\n",
       "    <tr>\n",
       "      <th>Found_Location_Other (TX)</th>\n",
       "      <td>0.006655</td>\n",
       "    </tr>\n",
       "    <tr>\n",
       "      <th>Animal_Type_Intake_Bird</th>\n",
       "      <td>0.006631</td>\n",
       "    </tr>\n",
       "    <tr>\n",
       "      <th>Found_Location_Austin (TX)</th>\n",
       "      <td>0.004910</td>\n",
       "    </tr>\n",
       "    <tr>\n",
       "      <th>Intake_Condition_Aged</th>\n",
       "      <td>0.002710</td>\n",
       "    </tr>\n",
       "    <tr>\n",
       "      <th>Breed_Intake_Cross-Breed</th>\n",
       "      <td>0.000964</td>\n",
       "    </tr>\n",
       "    <tr>\n",
       "      <th>Intake_Condition_Feral</th>\n",
       "      <td>0.000498</td>\n",
       "    </tr>\n",
       "    <tr>\n",
       "      <th>Found_Location_Outside (TX)</th>\n",
       "      <td>0.000285</td>\n",
       "    </tr>\n",
       "    <tr>\n",
       "      <th>Intake_Condition_Other</th>\n",
       "      <td>0.000011</td>\n",
       "    </tr>\n",
       "    <tr>\n",
       "      <th>Animal_Type_Intake_Livestock</th>\n",
       "      <td>0.000000</td>\n",
       "    </tr>\n",
       "    <tr>\n",
       "      <th>Intake_Condition_Pregnant</th>\n",
       "      <td>0.000000</td>\n",
       "    </tr>\n",
       "  </tbody>\n",
       "</table>\n",
       "</div>"
      ],
      "text/plain": [
       "                                importance\n",
       "feature                                   \n",
       "Intake_Type_Wildlife              0.219771\n",
       "Animal_Type_Intake_Other          0.147454\n",
       "Sex_upon_Intake_Unknown           0.136135\n",
       "Intake_Type_Stray                 0.057707\n",
       "Name_Intake_Unnamed               0.049614\n",
       "Animal_Type_Intake_Cat            0.043190\n",
       "Intake_Type_Euthanasia Request    0.041560\n",
       "Intake_Condition_Injured          0.034048\n",
       "Sex_upon_Intake_Intact Male       0.031417\n",
       "Intake_Type_Owner Surrender       0.030688\n",
       "Sex_upon_Intake_Intact Female     0.022481\n",
       "Animal_Type_Intake_Dog            0.022453\n",
       "Intake_Condition_Normal           0.020976\n",
       "Intake_Condition_Nursing          0.020666\n",
       "Intake_Condition_Sick             0.020381\n",
       "Neutered_Spayed_In_Shelter_1      0.020297\n",
       "Sex_upon_Intake_Neutered Male     0.014061\n",
       "Breed_Intake_Mixed-Breed          0.012794\n",
       "Breed_Intake_Pure-Breed           0.012763\n",
       "Intake_Type_Public Assist         0.011088\n",
       "Sex_upon_Intake_Spayed Female     0.007793\n",
       "Found_Location_Other (TX)         0.006655\n",
       "Animal_Type_Intake_Bird           0.006631\n",
       "Found_Location_Austin (TX)        0.004910\n",
       "Intake_Condition_Aged             0.002710\n",
       "Breed_Intake_Cross-Breed          0.000964\n",
       "Intake_Condition_Feral            0.000498\n",
       "Found_Location_Outside (TX)       0.000285\n",
       "Intake_Condition_Other            0.000011\n",
       "Animal_Type_Intake_Livestock      0.000000\n",
       "Intake_Condition_Pregnant         0.000000"
      ]
     },
     "execution_count": 82,
     "metadata": {},
     "output_type": "execute_result"
    }
   ],
   "source": [
    "# setup dataframe\n",
    "y = df_rev1[\"binary_outcome\"]\n",
    "X = df_rev1.drop([\"binary_outcome\"],1)\n",
    "X_train, X_test, y_train, y_test = train_test_split(X, y, random_state=1 , test_size=0.3)\n",
    "\n",
    "# Train RF with 64 trees\n",
    "rfc = RandomForestClassifier(n_estimators=64, max_features='auto', oob_score=True, random_state=1)\n",
    "rfc.fit(X_train, y_train)\n",
    "importance = pd.DataFrame({'feature': X_train.columns, 'importance':rfc.feature_importances_})\n",
    "importance.sort_values('importance', ascending=False, inplace=True)\n",
    "importance.set_index('feature',1, inplace=True)\n",
    "importance"
   ]
  },
  {
   "cell_type": "markdown",
   "metadata": {},
   "source": [
    "- Next calculate the optimum number of features\n",
    "- There are 31 features in total (more due to dummy features)\n",
    "- We will only calculate the top 25 features to keep the execution time down\n",
    "- After the top 25 features we can see from the importance list that any additional features add little to no value\n",
    "- We can see worst preforming features are the categorical which was not expected\n",
    "\n",
    "**Note: This calculation may take some time**"
   ]
  },
  {
   "cell_type": "code",
   "execution_count": 83,
   "metadata": {},
   "outputs": [
    {
     "data": {
      "text/html": [
       "<div>\n",
       "<style scoped>\n",
       "    .dataframe tbody tr th:only-of-type {\n",
       "        vertical-align: middle;\n",
       "    }\n",
       "\n",
       "    .dataframe tbody tr th {\n",
       "        vertical-align: top;\n",
       "    }\n",
       "\n",
       "    .dataframe thead th {\n",
       "        text-align: right;\n",
       "    }\n",
       "</style>\n",
       "<table border=\"1\" class=\"dataframe\">\n",
       "  <thead>\n",
       "    <tr style=\"text-align: right;\">\n",
       "      <th></th>\n",
       "      <th>features=1</th>\n",
       "      <th>features=2</th>\n",
       "      <th>features=3</th>\n",
       "      <th>features=4</th>\n",
       "      <th>features=5</th>\n",
       "      <th>features=6</th>\n",
       "      <th>features=7</th>\n",
       "      <th>features=8</th>\n",
       "      <th>features=9</th>\n",
       "      <th>features=10</th>\n",
       "      <th>...</th>\n",
       "      <th>features=16</th>\n",
       "      <th>features=17</th>\n",
       "      <th>features=18</th>\n",
       "      <th>features=19</th>\n",
       "      <th>features=20</th>\n",
       "      <th>features=21</th>\n",
       "      <th>features=22</th>\n",
       "      <th>features=23</th>\n",
       "      <th>features=24</th>\n",
       "      <th>features=25</th>\n",
       "    </tr>\n",
       "  </thead>\n",
       "  <tbody>\n",
       "    <tr>\n",
       "      <th>accuracy</th>\n",
       "      <td>0.956000</td>\n",
       "      <td>0.956000</td>\n",
       "      <td>0.958000</td>\n",
       "      <td>0.956000</td>\n",
       "      <td>0.958000</td>\n",
       "      <td>0.958000</td>\n",
       "      <td>0.957000</td>\n",
       "      <td>0.955000</td>\n",
       "      <td>0.957000</td>\n",
       "      <td>0.960000</td>\n",
       "      <td>...</td>\n",
       "      <td>0.959000</td>\n",
       "      <td>0.959000</td>\n",
       "      <td>0.959000</td>\n",
       "      <td>0.960000</td>\n",
       "      <td>0.959000</td>\n",
       "      <td>0.962000</td>\n",
       "      <td>0.965000</td>\n",
       "      <td>0.961000</td>\n",
       "      <td>0.962000</td>\n",
       "      <td>0.963000</td>\n",
       "    </tr>\n",
       "    <tr>\n",
       "      <th>precision</th>\n",
       "      <td>0.946667</td>\n",
       "      <td>0.946667</td>\n",
       "      <td>0.920833</td>\n",
       "      <td>0.899206</td>\n",
       "      <td>0.917500</td>\n",
       "      <td>0.920833</td>\n",
       "      <td>0.900833</td>\n",
       "      <td>0.888095</td>\n",
       "      <td>0.901389</td>\n",
       "      <td>0.906151</td>\n",
       "      <td>...</td>\n",
       "      <td>0.830198</td>\n",
       "      <td>0.832976</td>\n",
       "      <td>0.829711</td>\n",
       "      <td>0.843045</td>\n",
       "      <td>0.837698</td>\n",
       "      <td>0.877817</td>\n",
       "      <td>0.889365</td>\n",
       "      <td>0.870317</td>\n",
       "      <td>0.867817</td>\n",
       "      <td>0.875595</td>\n",
       "    </tr>\n",
       "    <tr>\n",
       "      <th>recall</th>\n",
       "      <td>0.533333</td>\n",
       "      <td>0.533333</td>\n",
       "      <td>0.588889</td>\n",
       "      <td>0.588889</td>\n",
       "      <td>0.588889</td>\n",
       "      <td>0.588889</td>\n",
       "      <td>0.588889</td>\n",
       "      <td>0.588889</td>\n",
       "      <td>0.600000</td>\n",
       "      <td>0.633333</td>\n",
       "      <td>...</td>\n",
       "      <td>0.677778</td>\n",
       "      <td>0.677778</td>\n",
       "      <td>0.688889</td>\n",
       "      <td>0.688889</td>\n",
       "      <td>0.677778</td>\n",
       "      <td>0.677778</td>\n",
       "      <td>0.700000</td>\n",
       "      <td>0.666667</td>\n",
       "      <td>0.688889</td>\n",
       "      <td>0.688889</td>\n",
       "    </tr>\n",
       "    <tr>\n",
       "      <th>f1</th>\n",
       "      <td>0.665600</td>\n",
       "      <td>0.665600</td>\n",
       "      <td>0.702358</td>\n",
       "      <td>0.693616</td>\n",
       "      <td>0.706471</td>\n",
       "      <td>0.707423</td>\n",
       "      <td>0.701709</td>\n",
       "      <td>0.693452</td>\n",
       "      <td>0.701051</td>\n",
       "      <td>0.731354</td>\n",
       "      <td>...</td>\n",
       "      <td>0.737145</td>\n",
       "      <td>0.741702</td>\n",
       "      <td>0.744659</td>\n",
       "      <td>0.748469</td>\n",
       "      <td>0.742755</td>\n",
       "      <td>0.756712</td>\n",
       "      <td>0.776909</td>\n",
       "      <td>0.750079</td>\n",
       "      <td>0.762426</td>\n",
       "      <td>0.766520</td>\n",
       "    </tr>\n",
       "  </tbody>\n",
       "</table>\n",
       "<p>4 rows × 25 columns</p>\n",
       "</div>"
      ],
      "text/plain": [
       "           features=1  features=2  features=3  features=4  features=5  \\\n",
       "accuracy     0.956000    0.956000    0.958000    0.956000    0.958000   \n",
       "precision    0.946667    0.946667    0.920833    0.899206    0.917500   \n",
       "recall       0.533333    0.533333    0.588889    0.588889    0.588889   \n",
       "f1           0.665600    0.665600    0.702358    0.693616    0.706471   \n",
       "\n",
       "           features=6  features=7  features=8  features=9  features=10  ...  \\\n",
       "accuracy     0.958000    0.957000    0.955000    0.957000     0.960000  ...   \n",
       "precision    0.920833    0.900833    0.888095    0.901389     0.906151  ...   \n",
       "recall       0.588889    0.588889    0.588889    0.600000     0.633333  ...   \n",
       "f1           0.707423    0.701709    0.693452    0.701051     0.731354  ...   \n",
       "\n",
       "           features=16  features=17  features=18  features=19  features=20  \\\n",
       "accuracy      0.959000     0.959000     0.959000     0.960000     0.959000   \n",
       "precision     0.830198     0.832976     0.829711     0.843045     0.837698   \n",
       "recall        0.677778     0.677778     0.688889     0.688889     0.677778   \n",
       "f1            0.737145     0.741702     0.744659     0.748469     0.742755   \n",
       "\n",
       "           features=21  features=22  features=23  features=24  features=25  \n",
       "accuracy      0.962000     0.965000     0.961000     0.962000     0.963000  \n",
       "precision     0.877817     0.889365     0.870317     0.867817     0.875595  \n",
       "recall        0.677778     0.700000     0.666667     0.688889     0.688889  \n",
       "f1            0.756712     0.776909     0.750079     0.762426     0.766520  \n",
       "\n",
       "[4 rows x 25 columns]"
      ]
     },
     "execution_count": 83,
     "metadata": {},
     "output_type": "execute_result"
    }
   ],
   "source": [
    "# set up empty list to store features\n",
    "list_features = []\n",
    "\n",
    "# set up empty dataframe to store results\n",
    "RandomForest_Features = pd.DataFrame()\n",
    "count=0\n",
    "\n",
    "# loop over 'importance' dataframe adding 1 feature per loop (will be the next most important feature)\n",
    "# each loop calculates the score for the current number of features in the list_features\n",
    "# Each loop appends result to RandomForest_Features dataframe\n",
    "for index, row in importance.iterrows():\n",
    "    # only calculate the top 25 features to keep runtime down\n",
    "    if count < 25:\n",
    "        list_features.append(index)\n",
    "        X = df_rev1[list_features]\n",
    "        df1 = cross_val_RandomForest_DF(X,y, depth=9)\n",
    "        df1.rename(columns={'Random_Forests':f'features={len(list_features)}'}, inplace=True)\n",
    "        RandomForest_Features = pd.concat([RandomForest_Features, df1], axis=1)\n",
    "        count+=1\n",
    "    else:\n",
    "        break\n",
    "\n",
    "# to display all columns    \n",
    "#pd.set_option('display.max_columns', 40)\n",
    "RandomForest_Features  "
   ]
  },
  {
   "cell_type": "markdown",
   "metadata": {},
   "source": [
    "Here we see that after the the highest levels of accuracy, precision, recall and f1 are achieved when the model uses 22 features. Accuracy: 96.5%, Precision: 88.9%, Recall: 70%, F1: 77.7%\n",
    "\n",
    "Therefore was can trim the model to 22 features. This is the optimum number of features.\n",
    "- Although there are very high scores for precision and accuracy with only 1 or 2 features, this is not very useful as we have seen in earlier sections. The high accuracy score is very easy to achieve due to the fact that approximately 90% of the data is from one class and 10% from the other. The recall and f1 scores are important in order to show if we are managing to predict relatively well for both classes.\n",
    "- The top performing features in terms of importance relate strongly to the stacked bar charts from part 1. The features in the charts with strongly contrats in numbers of animals with postive and negtive outcomes are the ones which are ranked as having the most importance.\n",
    "\n",
    "I will now definte the list of optimum features."
   ]
  },
  {
   "cell_type": "code",
   "execution_count": 84,
   "metadata": {},
   "outputs": [],
   "source": [
    "# set list of optimum features\n",
    "optimum_features = list_features[0:22]"
   ]
  },
  {
   "cell_type": "code",
   "execution_count": 85,
   "metadata": {},
   "outputs": [
    {
     "data": {
      "text/plain": [
       "['Intake_Type_Wildlife',\n",
       " 'Animal_Type_Intake_Other',\n",
       " 'Sex_upon_Intake_Unknown',\n",
       " 'Intake_Type_Stray',\n",
       " 'Name_Intake_Unnamed',\n",
       " 'Animal_Type_Intake_Cat',\n",
       " 'Intake_Type_Euthanasia Request',\n",
       " 'Intake_Condition_Injured',\n",
       " 'Sex_upon_Intake_Intact Male',\n",
       " 'Intake_Type_Owner Surrender',\n",
       " 'Sex_upon_Intake_Intact Female',\n",
       " 'Animal_Type_Intake_Dog',\n",
       " 'Intake_Condition_Normal',\n",
       " 'Intake_Condition_Nursing',\n",
       " 'Intake_Condition_Sick',\n",
       " 'Neutered_Spayed_In_Shelter_1',\n",
       " 'Sex_upon_Intake_Neutered Male',\n",
       " 'Breed_Intake_Mixed-Breed',\n",
       " 'Breed_Intake_Pure-Breed',\n",
       " 'Intake_Type_Public Assist',\n",
       " 'Sex_upon_Intake_Spayed Female',\n",
       " 'Found_Location_Other (TX)']"
      ]
     },
     "execution_count": 85,
     "metadata": {},
     "output_type": "execute_result"
    }
   ],
   "source": [
    "optimum_features"
   ]
  },
  {
   "cell_type": "markdown",
   "metadata": {},
   "source": [
    "### 5.5  Finally review performance of all models using what has been learned so far\n",
    "- For all models use optimum_features based on random forests feature importance evaluation\n",
    "- For random forests model use max_depth = 9 and keep default number estimators = 64"
   ]
  },
  {
   "cell_type": "code",
   "execution_count": 86,
   "metadata": {},
   "outputs": [
    {
     "name": "stdout",
     "output_type": "stream",
     "text": [
      "Number of features:  22\n"
     ]
    },
    {
     "data": {
      "text/html": [
       "<div>\n",
       "<style scoped>\n",
       "    .dataframe tbody tr th:only-of-type {\n",
       "        vertical-align: middle;\n",
       "    }\n",
       "\n",
       "    .dataframe tbody tr th {\n",
       "        vertical-align: top;\n",
       "    }\n",
       "\n",
       "    .dataframe thead th {\n",
       "        text-align: right;\n",
       "    }\n",
       "</style>\n",
       "<table border=\"1\" class=\"dataframe\">\n",
       "  <thead>\n",
       "    <tr style=\"text-align: right;\">\n",
       "      <th></th>\n",
       "      <th>Linear_Regression</th>\n",
       "      <th>Logistic_Regression</th>\n",
       "      <th>Random_Forests</th>\n",
       "    </tr>\n",
       "  </thead>\n",
       "  <tbody>\n",
       "    <tr>\n",
       "      <th>accuracy</th>\n",
       "      <td>0.950333</td>\n",
       "      <td>0.956000</td>\n",
       "      <td>0.963000</td>\n",
       "    </tr>\n",
       "    <tr>\n",
       "      <th>precision</th>\n",
       "      <td>0.904472</td>\n",
       "      <td>0.910000</td>\n",
       "      <td>0.882143</td>\n",
       "    </tr>\n",
       "    <tr>\n",
       "      <th>recall</th>\n",
       "      <td>0.528690</td>\n",
       "      <td>0.566667</td>\n",
       "      <td>0.677778</td>\n",
       "    </tr>\n",
       "    <tr>\n",
       "      <th>f1</th>\n",
       "      <td>0.661477</td>\n",
       "      <td>0.683696</td>\n",
       "      <td>0.759487</td>\n",
       "    </tr>\n",
       "  </tbody>\n",
       "</table>\n",
       "</div>"
      ],
      "text/plain": [
       "           Linear_Regression  Logistic_Regression  Random_Forests\n",
       "accuracy            0.950333             0.956000        0.963000\n",
       "precision           0.904472             0.910000        0.882143\n",
       "recall              0.528690             0.566667        0.677778\n",
       "f1                  0.661477             0.683696        0.759487"
      ]
     },
     "execution_count": 86,
     "metadata": {},
     "output_type": "execute_result"
    }
   ],
   "source": [
    "df_optimum_features = pd.get_dummies(df)\n",
    "y = df_optimum_features[\"binary_outcome\"]\n",
    "X = df_optimum_features[optimum_features]\n",
    "print(\"Number of features: \", len(X.columns))\n",
    "\n",
    "# calculate Linear regression, logistic regression, random forest results again\n",
    "linRegDF = cross_val_LinReg_DF(X,y)\n",
    "logRegDF = cross_val_LogReg_DF(X,y)\n",
    "RandomForestDF = cross_val_RandomForest_DF(X,y,depth=9,estimators=64)\n",
    "# merge all 3 models into dataframe\n",
    "ResultsDF_optimum_features = pd.concat([linRegDF, logRegDF, RandomForestDF], axis=1)\n",
    "ResultsDF_optimum_features"
   ]
  },
  {
   "cell_type": "code",
   "execution_count": 87,
   "metadata": {},
   "outputs": [
    {
     "name": "stdout",
     "output_type": "stream",
     "text": [
      "\n",
      "Scores using all features (0 features dropped)\n",
      "===================================================================\n",
      "           Linear_Regression  Logistic_Regression  Random_Forests\n",
      "accuracy            0.946000             0.957000        0.956000\n",
      "precision           0.830384             0.902262        0.898333\n",
      "recall              0.532536             0.588889        0.566667\n",
      "f1                  0.643723             0.700280        0.688724\n",
      "\n",
      "Scores using subset of features defined in part 1\n",
      "===================================================================\n",
      "           Linear_Regression  Logistic_Regression  Random_Forests\n",
      "accuracy            0.939333             0.956000        0.957000\n",
      "precision           0.785104             0.910000        0.807489\n",
      "recall              0.536678             0.566667        0.688889\n",
      "f1                  0.622016             0.683696        0.734937\n",
      "\n",
      "Scores using optimum features: 22 features\n",
      "===================================================================\n",
      "           Linear_Regression  Logistic_Regression  Random_Forests\n",
      "accuracy            0.950333             0.956000        0.963000\n",
      "precision           0.904472             0.910000        0.882143\n",
      "recall              0.528690             0.566667        0.677778\n",
      "f1                  0.661477             0.683696        0.759487\n"
     ]
    }
   ],
   "source": [
    "print(\"\\nScores using all features (0 features dropped)\")\n",
    "print(\"===================================================================\")\n",
    "print(ResultsDF_allFeatures)\n",
    "print(\"\\nScores using subset of features defined in part 1\")\n",
    "print(\"===================================================================\")\n",
    "print(ResultsDF)\n",
    "print(\"\\nScores using optimum features: 22 features\")\n",
    "print(\"===================================================================\")\n",
    "print(ResultsDF_optimum_features)"
   ]
  },
  {
   "cell_type": "markdown",
   "metadata": {},
   "source": [
    "- We can see from the comparison above that the random forest model using the optimum features, as chosen above, performs the best out of all the models with the various feature sets.\n",
    "- The linear regression and logistic regression scores are only +- 2% when using the optimum features.\n",
    "- This is a good result as I have reduced the number of features and the results have remained the same or improved. \n",
    "- I have managed to improve the efficiency of the Random Forest model: \n",
    "    - The max depth has been set to 9. This aids in limiting the model size and also helps prevent overfitting.\n",
    "    - I found that the optimum number of estimators is 64. This is significantly lower than the defualt number (100).\n",
    "- Given the nature of the dataset, the Random Forest performs best. Its accuracy and precision scores are similar to linear and logistic regression but Random Forest's recall and f1 scores are significantly higher. \n",
    "- The Random Forest model will be used on the new dataset. "
   ]
  },
  {
   "cell_type": "code",
   "execution_count": 93,
   "metadata": {},
   "outputs": [
    {
     "data": {
      "text/plain": [
       "RandomForestClassifier(bootstrap=True, ccp_alpha=0.0, class_weight=None,\n",
       "                       criterion='gini', max_depth=9, max_features=22,\n",
       "                       max_leaf_nodes=None, max_samples=None,\n",
       "                       min_impurity_decrease=0.0, min_impurity_split=None,\n",
       "                       min_samples_leaf=1, min_samples_split=2,\n",
       "                       min_weight_fraction_leaf=0.0, n_estimators=64,\n",
       "                       n_jobs=None, oob_score=True, random_state=1, verbose=0,\n",
       "                       warm_start=False)"
      ]
     },
     "execution_count": 93,
     "metadata": {},
     "output_type": "execute_result"
    }
   ],
   "source": [
    "# Train the optimised RF model - with 22 features, 64 estimators, max-depth 9.\n",
    "best_rfc = RandomForestClassifier(n_estimators=64, max_features=22, max_depth=9, oob_score=True, random_state=1)\n",
    "best_rfc.fit(X, y)\n"
   ]
  },
  {
   "cell_type": "markdown",
   "metadata": {},
   "source": [
    "### 5.6 Evaluate best model on new data set"
   ]
  },
  {
   "cell_type": "markdown",
   "metadata": {},
   "source": [
    "I will now evaluate the model's performance on the new data set which was provided with this homework. \n",
    "\n",
    "I have run the data through my Homework 1 notebook so the data will be cleaned to the same extent as the data at the beginning of this notebook."
   ]
  },
  {
   "cell_type": "code",
   "execution_count": 96,
   "metadata": {},
   "outputs": [
    {
     "data": {
      "text/html": [
       "<div>\n",
       "<style scoped>\n",
       "    .dataframe tbody tr th:only-of-type {\n",
       "        vertical-align: middle;\n",
       "    }\n",
       "\n",
       "    .dataframe tbody tr th {\n",
       "        vertical-align: top;\n",
       "    }\n",
       "\n",
       "    .dataframe thead th {\n",
       "        text-align: right;\n",
       "    }\n",
       "</style>\n",
       "<table border=\"1\" class=\"dataframe\">\n",
       "  <thead>\n",
       "    <tr style=\"text-align: right;\">\n",
       "      <th></th>\n",
       "      <th>Animal_ID</th>\n",
       "      <th>Name_Intake</th>\n",
       "      <th>Found_Location</th>\n",
       "      <th>Intake_Type</th>\n",
       "      <th>Intake_Condition</th>\n",
       "      <th>Animal_Type_Intake</th>\n",
       "      <th>Sex_upon_Intake</th>\n",
       "      <th>Age_upon_Intake</th>\n",
       "      <th>Breed_Intake</th>\n",
       "      <th>Color_Intake</th>\n",
       "      <th>...</th>\n",
       "      <th>binary_outcome</th>\n",
       "      <th>year_intake</th>\n",
       "      <th>month_intake</th>\n",
       "      <th>year_outcome</th>\n",
       "      <th>month_outcome</th>\n",
       "      <th>birth_year</th>\n",
       "      <th>birth_month</th>\n",
       "      <th>Time_In_Shelter</th>\n",
       "      <th>Neutered_Spayed_In_Shelter</th>\n",
       "      <th>percent</th>\n",
       "    </tr>\n",
       "  </thead>\n",
       "  <tbody>\n",
       "    <tr>\n",
       "      <th>0</th>\n",
       "      <td>A815821</td>\n",
       "      <td>Unnamed</td>\n",
       "      <td>Austin (TX)</td>\n",
       "      <td>Wildlife</td>\n",
       "      <td>Normal</td>\n",
       "      <td>Other</td>\n",
       "      <td>Unknown</td>\n",
       "      <td>2.0</td>\n",
       "      <td>Pure-Breed</td>\n",
       "      <td>Mixed-Color</td>\n",
       "      <td>...</td>\n",
       "      <td>1.0</td>\n",
       "      <td>2020</td>\n",
       "      <td>3</td>\n",
       "      <td>2020</td>\n",
       "      <td>3</td>\n",
       "      <td>2018</td>\n",
       "      <td>3</td>\n",
       "      <td>0.0</td>\n",
       "      <td>No</td>\n",
       "      <td>0.146413</td>\n",
       "    </tr>\n",
       "    <tr>\n",
       "      <th>1</th>\n",
       "      <td>A815816</td>\n",
       "      <td>Unnamed</td>\n",
       "      <td>Austin (TX)</td>\n",
       "      <td>Wildlife</td>\n",
       "      <td>Normal</td>\n",
       "      <td>Other</td>\n",
       "      <td>Unknown</td>\n",
       "      <td>2.0</td>\n",
       "      <td>Pure-Breed</td>\n",
       "      <td>Mixed-Color</td>\n",
       "      <td>...</td>\n",
       "      <td>1.0</td>\n",
       "      <td>2020</td>\n",
       "      <td>3</td>\n",
       "      <td>2020</td>\n",
       "      <td>3</td>\n",
       "      <td>2018</td>\n",
       "      <td>3</td>\n",
       "      <td>0.0</td>\n",
       "      <td>No</td>\n",
       "      <td>0.146413</td>\n",
       "    </tr>\n",
       "    <tr>\n",
       "      <th>2</th>\n",
       "      <td>A815814</td>\n",
       "      <td>Unnamed</td>\n",
       "      <td>Austin (TX)</td>\n",
       "      <td>Wildlife</td>\n",
       "      <td>Normal</td>\n",
       "      <td>Other</td>\n",
       "      <td>Unknown</td>\n",
       "      <td>2.0</td>\n",
       "      <td>Pure-Breed</td>\n",
       "      <td>Mixed-Color</td>\n",
       "      <td>...</td>\n",
       "      <td>1.0</td>\n",
       "      <td>2020</td>\n",
       "      <td>3</td>\n",
       "      <td>2020</td>\n",
       "      <td>3</td>\n",
       "      <td>2018</td>\n",
       "      <td>3</td>\n",
       "      <td>0.0</td>\n",
       "      <td>No</td>\n",
       "      <td>0.146413</td>\n",
       "    </tr>\n",
       "    <tr>\n",
       "      <th>3</th>\n",
       "      <td>A815799</td>\n",
       "      <td>Named</td>\n",
       "      <td>Austin (TX)</td>\n",
       "      <td>Stray</td>\n",
       "      <td>Injured</td>\n",
       "      <td>Cat</td>\n",
       "      <td>Intact Male</td>\n",
       "      <td>2.0</td>\n",
       "      <td>Pure-Breed</td>\n",
       "      <td>Mixed-Color</td>\n",
       "      <td>...</td>\n",
       "      <td>0.0</td>\n",
       "      <td>2020</td>\n",
       "      <td>3</td>\n",
       "      <td>2020</td>\n",
       "      <td>3</td>\n",
       "      <td>2018</td>\n",
       "      <td>3</td>\n",
       "      <td>0.0</td>\n",
       "      <td>No</td>\n",
       "      <td>0.146413</td>\n",
       "    </tr>\n",
       "    <tr>\n",
       "      <th>4</th>\n",
       "      <td>A815792</td>\n",
       "      <td>Unnamed</td>\n",
       "      <td>Austin (TX)</td>\n",
       "      <td>Wildlife</td>\n",
       "      <td>Normal</td>\n",
       "      <td>Other</td>\n",
       "      <td>Unknown</td>\n",
       "      <td>1.0</td>\n",
       "      <td>Pure-Breed</td>\n",
       "      <td>Pure-Color</td>\n",
       "      <td>...</td>\n",
       "      <td>1.0</td>\n",
       "      <td>2020</td>\n",
       "      <td>3</td>\n",
       "      <td>2020</td>\n",
       "      <td>3</td>\n",
       "      <td>2019</td>\n",
       "      <td>3</td>\n",
       "      <td>0.0</td>\n",
       "      <td>No</td>\n",
       "      <td>0.146413</td>\n",
       "    </tr>\n",
       "  </tbody>\n",
       "</table>\n",
       "<p>5 rows × 22 columns</p>\n",
       "</div>"
      ],
      "text/plain": [
       "  Animal_ID Name_Intake Found_Location Intake_Type Intake_Condition  \\\n",
       "0   A815821     Unnamed    Austin (TX)    Wildlife           Normal   \n",
       "1   A815816     Unnamed    Austin (TX)    Wildlife           Normal   \n",
       "2   A815814     Unnamed    Austin (TX)    Wildlife           Normal   \n",
       "3   A815799       Named    Austin (TX)       Stray          Injured   \n",
       "4   A815792     Unnamed    Austin (TX)    Wildlife           Normal   \n",
       "\n",
       "  Animal_Type_Intake Sex_upon_Intake  Age_upon_Intake Breed_Intake  \\\n",
       "0              Other         Unknown              2.0   Pure-Breed   \n",
       "1              Other         Unknown              2.0   Pure-Breed   \n",
       "2              Other         Unknown              2.0   Pure-Breed   \n",
       "3                Cat     Intact Male              2.0   Pure-Breed   \n",
       "4              Other         Unknown              1.0   Pure-Breed   \n",
       "\n",
       "  Color_Intake  ... binary_outcome  year_intake  month_intake  year_outcome  \\\n",
       "0  Mixed-Color  ...            1.0         2020             3          2020   \n",
       "1  Mixed-Color  ...            1.0         2020             3          2020   \n",
       "2  Mixed-Color  ...            1.0         2020             3          2020   \n",
       "3  Mixed-Color  ...            0.0         2020             3          2020   \n",
       "4   Pure-Color  ...            1.0         2020             3          2020   \n",
       "\n",
       "   month_outcome  birth_year  birth_month  Time_In_Shelter  \\\n",
       "0              3        2018            3              0.0   \n",
       "1              3        2018            3              0.0   \n",
       "2              3        2018            3              0.0   \n",
       "3              3        2018            3              0.0   \n",
       "4              3        2019            3              0.0   \n",
       "\n",
       "   Neutered_Spayed_In_Shelter   percent  \n",
       "0                          No  0.146413  \n",
       "1                          No  0.146413  \n",
       "2                          No  0.146413  \n",
       "3                          No  0.146413  \n",
       "4                          No  0.146413  \n",
       "\n",
       "[5 rows x 22 columns]"
      ]
     },
     "execution_count": 96,
     "metadata": {},
     "output_type": "execute_result"
    }
   ],
   "source": [
    "# read in the cleaned csv\n",
    "df = pd.read_csv(\"Cleaned_Animal_Welfare_Recent1000.csv\", keep_default_na=True, sep=',\\s+', delimiter=',', skipinitialspace=True)\n",
    "\n",
    "df.head(5)"
   ]
  },
  {
   "cell_type": "markdown",
   "metadata": {},
   "source": [
    "In the following cells, I will prepare the data in the same manner as section 1 of this notebook.\n",
    "\n",
    "I will also select the same optimum features which will be used by the model."
   ]
  },
  {
   "cell_type": "code",
   "execution_count": 97,
   "metadata": {},
   "outputs": [
    {
     "data": {
      "text/plain": [
       "(982, 22)"
      ]
     },
     "execution_count": 97,
     "metadata": {},
     "output_type": "execute_result"
    }
   ],
   "source": [
    "df.shape"
   ]
  },
  {
   "cell_type": "code",
   "execution_count": 98,
   "metadata": {},
   "outputs": [
    {
     "data": {
      "text/plain": [
       "Animal_ID                      object\n",
       "Name_Intake                    object\n",
       "Found_Location                 object\n",
       "Intake_Type                    object\n",
       "Intake_Condition               object\n",
       "Animal_Type_Intake             object\n",
       "Sex_upon_Intake                object\n",
       "Age_upon_Intake               float64\n",
       "Breed_Intake                   object\n",
       "Color_Intake                   object\n",
       "Sex_upon_Outcome               object\n",
       "Age_upon_Outcome              float64\n",
       "binary_outcome                float64\n",
       "year_intake                     int64\n",
       "month_intake                    int64\n",
       "year_outcome                    int64\n",
       "month_outcome                   int64\n",
       "birth_year                      int64\n",
       "birth_month                     int64\n",
       "Time_In_Shelter               float64\n",
       "Neutered_Spayed_In_Shelter     object\n",
       "percent                       float64\n",
       "dtype: object"
      ]
     },
     "execution_count": 98,
     "metadata": {},
     "output_type": "execute_result"
    }
   ],
   "source": [
    "df.dtypes"
   ]
  },
  {
   "cell_type": "code",
   "execution_count": 99,
   "metadata": {},
   "outputs": [],
   "source": [
    "# Drop the 'percent' column which was added in Homework 1\n",
    "df = df.drop([\"percent\"], 1)"
   ]
  },
  {
   "cell_type": "code",
   "execution_count": 100,
   "metadata": {},
   "outputs": [],
   "source": [
    "df['year_intake'] = df['year_intake'].astype('object')\n",
    "df['month_intake'] = df['month_intake'].astype('object')\n",
    "df['year_outcome'] = df['year_outcome'].astype('object')\n",
    "df['month_outcome'] = df['month_outcome'].astype('object')\n",
    "df['birth_year'] = df['birth_year'].astype('object')\n",
    "df['birth_month'] = df['birth_month'].astype('object')"
   ]
  },
  {
   "cell_type": "code",
   "execution_count": 101,
   "metadata": {},
   "outputs": [
    {
     "data": {
      "text/plain": [
       "Animal_ID                     0\n",
       "Name_Intake                   0\n",
       "Found_Location                0\n",
       "Intake_Type                   0\n",
       "Intake_Condition              0\n",
       "Animal_Type_Intake            0\n",
       "Sex_upon_Intake               0\n",
       "Age_upon_Intake               0\n",
       "Breed_Intake                  0\n",
       "Color_Intake                  0\n",
       "Sex_upon_Outcome              0\n",
       "Age_upon_Outcome              0\n",
       "binary_outcome                0\n",
       "year_intake                   0\n",
       "month_intake                  0\n",
       "year_outcome                  0\n",
       "month_outcome                 0\n",
       "birth_year                    0\n",
       "birth_month                   0\n",
       "Time_In_Shelter               0\n",
       "Neutered_Spayed_In_Shelter    0\n",
       "dtype: int64"
      ]
     },
     "execution_count": 101,
     "metadata": {},
     "output_type": "execute_result"
    }
   ],
   "source": [
    "# Check for null values\n",
    "df.isna().sum()"
   ]
  },
  {
   "cell_type": "code",
   "execution_count": 102,
   "metadata": {},
   "outputs": [],
   "source": [
    "df['binary_outcome'] = df['binary_outcome'].astype('int64')"
   ]
  },
  {
   "cell_type": "code",
   "execution_count": 103,
   "metadata": {},
   "outputs": [],
   "source": [
    "df['Neutered_Spayed_In_Shelter'] = df['Neutered_Spayed_In_Shelter'].map({'Yes': 1, \"No\": 0})"
   ]
  },
  {
   "cell_type": "code",
   "execution_count": 104,
   "metadata": {},
   "outputs": [
    {
     "data": {
      "text/plain": [
       "Name_Intake                   category\n",
       "Found_Location                category\n",
       "Intake_Type                   category\n",
       "Intake_Condition              category\n",
       "Animal_Type_Intake            category\n",
       "Sex_upon_Intake               category\n",
       "Breed_Intake                  category\n",
       "Color_Intake                  category\n",
       "Sex_upon_Outcome              category\n",
       "binary_outcome                category\n",
       "year_intake                   category\n",
       "month_intake                  category\n",
       "year_outcome                  category\n",
       "month_outcome                 category\n",
       "birth_year                    category\n",
       "birth_month                   category\n",
       "Neutered_Spayed_In_Shelter    category\n",
       "dtype: object"
      ]
     },
     "execution_count": 104,
     "metadata": {},
     "output_type": "execute_result"
    }
   ],
   "source": [
    "# Select columns containing categorical data\n",
    "categorical_columns = df[[\"Name_Intake\",\"Found_Location\",\"Intake_Type\",\"Intake_Condition\",\"Animal_Type_Intake\",\"Sex_upon_Intake\",\"Breed_Intake\",\"Color_Intake\", \"Sex_upon_Outcome\",\"binary_outcome\",\"year_intake\",\"month_intake\",\"year_outcome\",\"month_outcome\",\"birth_year\",\"birth_month\",\"Neutered_Spayed_In_Shelter\"]].columns\n",
    "\n",
    "# Convert data type to category for these columns\n",
    "for column in categorical_columns:\n",
    "    df[column] = df[column].astype('category')\n",
    "\n",
    "df[categorical_columns].dtypes"
   ]
  },
  {
   "cell_type": "code",
   "execution_count": 105,
   "metadata": {},
   "outputs": [
    {
     "data": {
      "text/plain": [
       "Age_upon_Intake     float64\n",
       "Age_upon_Outcome    float64\n",
       "Time_In_Shelter     float64\n",
       "dtype: object"
      ]
     },
     "execution_count": 105,
     "metadata": {},
     "output_type": "execute_result"
    }
   ],
   "source": [
    "continuous_columns = df.select_dtypes(['float64']).columns\n",
    "df[continuous_columns].dtypes"
   ]
  },
  {
   "cell_type": "code",
   "execution_count": 106,
   "metadata": {},
   "outputs": [],
   "source": [
    "# convert \"binary_outcome\" to int64\n",
    "df['binary_outcome'] = df['binary_outcome'].astype('int64')\n",
    "# categorical_columns are now....\n",
    "categorical_columns = df[[\"Name_Intake\",\"Found_Location\",\"Intake_Type\",\"Intake_Condition\",\"Animal_Type_Intake\",\"Sex_upon_Intake\",\"Breed_Intake\",\"Color_Intake\", \"Sex_upon_Outcome\",\"year_intake\",\"month_intake\",\"year_outcome\",\"month_outcome\",\"birth_year\",\"birth_month\",\"Neutered_Spayed_In_Shelter\"]].columns\n"
   ]
  },
  {
   "cell_type": "code",
   "execution_count": 107,
   "metadata": {},
   "outputs": [
    {
     "data": {
      "text/html": [
       "<div>\n",
       "<style scoped>\n",
       "    .dataframe tbody tr th:only-of-type {\n",
       "        vertical-align: middle;\n",
       "    }\n",
       "\n",
       "    .dataframe tbody tr th {\n",
       "        vertical-align: top;\n",
       "    }\n",
       "\n",
       "    .dataframe thead th {\n",
       "        text-align: right;\n",
       "    }\n",
       "</style>\n",
       "<table border=\"1\" class=\"dataframe\">\n",
       "  <thead>\n",
       "    <tr style=\"text-align: right;\">\n",
       "      <th></th>\n",
       "      <th>Animal_ID</th>\n",
       "      <th>Name_Intake</th>\n",
       "      <th>Found_Location</th>\n",
       "      <th>Intake_Type</th>\n",
       "      <th>Intake_Condition</th>\n",
       "      <th>Animal_Type_Intake</th>\n",
       "      <th>Sex_upon_Intake</th>\n",
       "      <th>Age_upon_Intake</th>\n",
       "      <th>Breed_Intake</th>\n",
       "      <th>Color_Intake</th>\n",
       "      <th>...</th>\n",
       "      <th>Age_upon_Outcome</th>\n",
       "      <th>binary_outcome</th>\n",
       "      <th>year_intake</th>\n",
       "      <th>month_intake</th>\n",
       "      <th>year_outcome</th>\n",
       "      <th>month_outcome</th>\n",
       "      <th>birth_year</th>\n",
       "      <th>birth_month</th>\n",
       "      <th>Time_In_Shelter</th>\n",
       "      <th>Neutered_Spayed_In_Shelter</th>\n",
       "    </tr>\n",
       "  </thead>\n",
       "  <tbody>\n",
       "    <tr>\n",
       "      <th>0</th>\n",
       "      <td>A815821</td>\n",
       "      <td>Unnamed</td>\n",
       "      <td>Austin (TX)</td>\n",
       "      <td>Wildlife</td>\n",
       "      <td>Normal</td>\n",
       "      <td>Other</td>\n",
       "      <td>Unknown</td>\n",
       "      <td>2.0</td>\n",
       "      <td>Pure-Breed</td>\n",
       "      <td>Mixed-Color</td>\n",
       "      <td>...</td>\n",
       "      <td>2.0</td>\n",
       "      <td>1</td>\n",
       "      <td>2020</td>\n",
       "      <td>3</td>\n",
       "      <td>2020</td>\n",
       "      <td>3</td>\n",
       "      <td>2018</td>\n",
       "      <td>3</td>\n",
       "      <td>0.0</td>\n",
       "      <td>0</td>\n",
       "    </tr>\n",
       "    <tr>\n",
       "      <th>1</th>\n",
       "      <td>A815816</td>\n",
       "      <td>Unnamed</td>\n",
       "      <td>Austin (TX)</td>\n",
       "      <td>Wildlife</td>\n",
       "      <td>Normal</td>\n",
       "      <td>Other</td>\n",
       "      <td>Unknown</td>\n",
       "      <td>2.0</td>\n",
       "      <td>Pure-Breed</td>\n",
       "      <td>Mixed-Color</td>\n",
       "      <td>...</td>\n",
       "      <td>2.0</td>\n",
       "      <td>1</td>\n",
       "      <td>2020</td>\n",
       "      <td>3</td>\n",
       "      <td>2020</td>\n",
       "      <td>3</td>\n",
       "      <td>2018</td>\n",
       "      <td>3</td>\n",
       "      <td>0.0</td>\n",
       "      <td>0</td>\n",
       "    </tr>\n",
       "    <tr>\n",
       "      <th>2</th>\n",
       "      <td>A815814</td>\n",
       "      <td>Unnamed</td>\n",
       "      <td>Austin (TX)</td>\n",
       "      <td>Wildlife</td>\n",
       "      <td>Normal</td>\n",
       "      <td>Other</td>\n",
       "      <td>Unknown</td>\n",
       "      <td>2.0</td>\n",
       "      <td>Pure-Breed</td>\n",
       "      <td>Mixed-Color</td>\n",
       "      <td>...</td>\n",
       "      <td>2.0</td>\n",
       "      <td>1</td>\n",
       "      <td>2020</td>\n",
       "      <td>3</td>\n",
       "      <td>2020</td>\n",
       "      <td>3</td>\n",
       "      <td>2018</td>\n",
       "      <td>3</td>\n",
       "      <td>0.0</td>\n",
       "      <td>0</td>\n",
       "    </tr>\n",
       "    <tr>\n",
       "      <th>3</th>\n",
       "      <td>A815799</td>\n",
       "      <td>Named</td>\n",
       "      <td>Austin (TX)</td>\n",
       "      <td>Stray</td>\n",
       "      <td>Injured</td>\n",
       "      <td>Cat</td>\n",
       "      <td>Intact Male</td>\n",
       "      <td>2.0</td>\n",
       "      <td>Pure-Breed</td>\n",
       "      <td>Mixed-Color</td>\n",
       "      <td>...</td>\n",
       "      <td>2.0</td>\n",
       "      <td>0</td>\n",
       "      <td>2020</td>\n",
       "      <td>3</td>\n",
       "      <td>2020</td>\n",
       "      <td>3</td>\n",
       "      <td>2018</td>\n",
       "      <td>3</td>\n",
       "      <td>0.0</td>\n",
       "      <td>0</td>\n",
       "    </tr>\n",
       "    <tr>\n",
       "      <th>4</th>\n",
       "      <td>A815792</td>\n",
       "      <td>Unnamed</td>\n",
       "      <td>Austin (TX)</td>\n",
       "      <td>Wildlife</td>\n",
       "      <td>Normal</td>\n",
       "      <td>Other</td>\n",
       "      <td>Unknown</td>\n",
       "      <td>1.0</td>\n",
       "      <td>Pure-Breed</td>\n",
       "      <td>Pure-Color</td>\n",
       "      <td>...</td>\n",
       "      <td>1.0</td>\n",
       "      <td>1</td>\n",
       "      <td>2020</td>\n",
       "      <td>3</td>\n",
       "      <td>2020</td>\n",
       "      <td>3</td>\n",
       "      <td>2019</td>\n",
       "      <td>3</td>\n",
       "      <td>0.0</td>\n",
       "      <td>0</td>\n",
       "    </tr>\n",
       "  </tbody>\n",
       "</table>\n",
       "<p>5 rows × 21 columns</p>\n",
       "</div>"
      ],
      "text/plain": [
       "  Animal_ID Name_Intake Found_Location Intake_Type Intake_Condition  \\\n",
       "0   A815821     Unnamed    Austin (TX)    Wildlife           Normal   \n",
       "1   A815816     Unnamed    Austin (TX)    Wildlife           Normal   \n",
       "2   A815814     Unnamed    Austin (TX)    Wildlife           Normal   \n",
       "3   A815799       Named    Austin (TX)       Stray          Injured   \n",
       "4   A815792     Unnamed    Austin (TX)    Wildlife           Normal   \n",
       "\n",
       "  Animal_Type_Intake Sex_upon_Intake  Age_upon_Intake Breed_Intake  \\\n",
       "0              Other         Unknown              2.0   Pure-Breed   \n",
       "1              Other         Unknown              2.0   Pure-Breed   \n",
       "2              Other         Unknown              2.0   Pure-Breed   \n",
       "3                Cat     Intact Male              2.0   Pure-Breed   \n",
       "4              Other         Unknown              1.0   Pure-Breed   \n",
       "\n",
       "  Color_Intake  ... Age_upon_Outcome  binary_outcome  year_intake  \\\n",
       "0  Mixed-Color  ...              2.0               1         2020   \n",
       "1  Mixed-Color  ...              2.0               1         2020   \n",
       "2  Mixed-Color  ...              2.0               1         2020   \n",
       "3  Mixed-Color  ...              2.0               0         2020   \n",
       "4   Pure-Color  ...              1.0               1         2020   \n",
       "\n",
       "  month_intake year_outcome month_outcome birth_year birth_month  \\\n",
       "0            3         2020             3       2018           3   \n",
       "1            3         2020             3       2018           3   \n",
       "2            3         2020             3       2018           3   \n",
       "3            3         2020             3       2018           3   \n",
       "4            3         2020             3       2019           3   \n",
       "\n",
       "  Time_In_Shelter  Neutered_Spayed_In_Shelter  \n",
       "0             0.0                           0  \n",
       "1             0.0                           0  \n",
       "2             0.0                           0  \n",
       "3             0.0                           0  \n",
       "4             0.0                           0  \n",
       "\n",
       "[5 rows x 21 columns]"
      ]
     },
     "execution_count": 107,
     "metadata": {},
     "output_type": "execute_result"
    }
   ],
   "source": [
    "# randomly generate sequence based on dataframe index and set to be new index\n",
    "df.set_index(np.random.permutation(df.index))\n",
    "# sort the resulting random index\n",
    "df.sort_index(inplace=True)\n",
    "df.head(5)"
   ]
  },
  {
   "cell_type": "code",
   "execution_count": 108,
   "metadata": {},
   "outputs": [],
   "source": [
    "# These low value features were chosen in part 1.\n",
    "low_correlation_features = ['Age_upon_Outcome', \"Age_upon_Intake\", \"Time_In_Shelter\"]"
   ]
  },
  {
   "cell_type": "code",
   "execution_count": 109,
   "metadata": {},
   "outputs": [
    {
     "data": {
      "text/plain": [
       "['Age_upon_Outcome', 'Age_upon_Intake', 'Time_In_Shelter']"
      ]
     },
     "execution_count": 109,
     "metadata": {},
     "output_type": "execute_result"
    }
   ],
   "source": [
    "\n",
    "low_correlation_features"
   ]
  },
  {
   "cell_type": "code",
   "execution_count": 110,
   "metadata": {},
   "outputs": [],
   "source": [
    "# These low value features were chosen in part 1.\n",
    "low_information_gain_categorical = ['Color_Intake', 'Sex_upon_Outcome', 'year_intake', 'year_outcome', 'month_outcome', 'birth_year', 'birth_month', 'month_intake']"
   ]
  },
  {
   "cell_type": "code",
   "execution_count": 111,
   "metadata": {},
   "outputs": [
    {
     "name": "stdout",
     "output_type": "stream",
     "text": [
      "\n",
      "Remaining columns: Index(['Animal_ID', 'Name_Intake', 'Found_Location', 'Intake_Type',\n",
      "       'Intake_Condition', 'Animal_Type_Intake', 'Sex_upon_Intake',\n",
      "       'Breed_Intake', 'binary_outcome', 'Neutered_Spayed_In_Shelter'],\n",
      "      dtype='object')\n",
      "\n",
      "New shape: (982, 10)\n"
     ]
    }
   ],
   "source": [
    "# drop all low correlation features\n",
    "low_value_features = list(set(low_correlation_features + low_information_gain_categorical))\n",
    "# before dropping make copy of original\n",
    "df_rev2 = df.copy()\n",
    "# drop low value features\n",
    "df_rev2.drop(low_value_features, 1, inplace=True)\n",
    "print('\\nRemaining columns:', df_rev2.columns)\n",
    "print('\\nNew shape:', df_rev2.shape)"
   ]
  },
  {
   "cell_type": "code",
   "execution_count": 112,
   "metadata": {},
   "outputs": [],
   "source": [
    "df_rev2 = df_rev2.drop(columns=['Animal_ID'])"
   ]
  },
  {
   "cell_type": "code",
   "execution_count": 113,
   "metadata": {},
   "outputs": [
    {
     "name": "stdout",
     "output_type": "stream",
     "text": [
      "\n",
      "New shape: (982, 9)\n"
     ]
    }
   ],
   "source": [
    "print('\\nNew shape:', df_rev2.shape)"
   ]
  },
  {
   "cell_type": "code",
   "execution_count": 114,
   "metadata": {},
   "outputs": [
    {
     "data": {
      "text/plain": [
       "binary_outcome                   int64\n",
       "Name_Intake_Named                uint8\n",
       "Name_Intake_Unnamed              uint8\n",
       "Found_Location_Austin (TX)       uint8\n",
       "Found_Location_Other (TX)        uint8\n",
       "Found_Location_Outside (TX)      uint8\n",
       "Intake_Type_Abandoned            uint8\n",
       "Intake_Type_Owner Surrender      uint8\n",
       "Intake_Type_Public Assist        uint8\n",
       "Intake_Type_Stray                uint8\n",
       "Intake_Type_Wildlife             uint8\n",
       "Intake_Condition_Aged            uint8\n",
       "Intake_Condition_Injured         uint8\n",
       "Intake_Condition_Medical         uint8\n",
       "Intake_Condition_Normal          uint8\n",
       "Intake_Condition_Nursing         uint8\n",
       "Intake_Condition_Pregnant        uint8\n",
       "Intake_Condition_Sick            uint8\n",
       "Animal_Type_Intake_Bird          uint8\n",
       "Animal_Type_Intake_Cat           uint8\n",
       "Animal_Type_Intake_Dog           uint8\n",
       "Animal_Type_Intake_Other         uint8\n",
       "Sex_upon_Intake_Intact Female    uint8\n",
       "Sex_upon_Intake_Intact Male      uint8\n",
       "Sex_upon_Intake_Neutered Male    uint8\n",
       "Sex_upon_Intake_Spayed Female    uint8\n",
       "Sex_upon_Intake_Unknown          uint8\n",
       "Breed_Intake_Cross-Breed         uint8\n",
       "Breed_Intake_Mixed-Breed         uint8\n",
       "Breed_Intake_Pure-Breed          uint8\n",
       "Neutered_Spayed_In_Shelter_0     uint8\n",
       "Neutered_Spayed_In_Shelter_1     uint8\n",
       "dtype: object"
      ]
     },
     "execution_count": 114,
     "metadata": {},
     "output_type": "execute_result"
    }
   ],
   "source": [
    "# set up dummies features\n",
    "df_rev2 = pd.get_dummies(df_rev2)\n",
    "df_rev2.dtypes"
   ]
  },
  {
   "cell_type": "code",
   "execution_count": 115,
   "metadata": {},
   "outputs": [],
   "source": [
    "df_rev2 = df_rev2.drop(['Name_Intake_Named','Neutered_Spayed_In_Shelter_0'],1)"
   ]
  },
  {
   "cell_type": "code",
   "execution_count": 116,
   "metadata": {},
   "outputs": [
    {
     "data": {
      "text/plain": [
       "(982, 30)"
      ]
     },
     "execution_count": 116,
     "metadata": {},
     "output_type": "execute_result"
    }
   ],
   "source": [
    "df_rev2.shape"
   ]
  },
  {
   "cell_type": "code",
   "execution_count": 117,
   "metadata": {},
   "outputs": [],
   "source": [
    "# There were no rows with an Inake Type of Euthanasia Request in the new data set. \n",
    "# I will need to add this column and set all of its values to 0\n",
    "df_rev2['Intake_Type_Euthanasia Request'] = 0 "
   ]
  },
  {
   "cell_type": "code",
   "execution_count": 118,
   "metadata": {},
   "outputs": [
    {
     "data": {
      "text/plain": [
       "0      0\n",
       "1      0\n",
       "2      0\n",
       "3      0\n",
       "4      0\n",
       "      ..\n",
       "977    0\n",
       "978    0\n",
       "979    0\n",
       "980    0\n",
       "981    0\n",
       "Name: Intake_Type_Euthanasia Request, Length: 982, dtype: uint8"
      ]
     },
     "execution_count": 118,
     "metadata": {},
     "output_type": "execute_result"
    }
   ],
   "source": [
    "df_rev2['Intake_Type_Euthanasia Request'].astype('uint8')"
   ]
  },
  {
   "cell_type": "code",
   "execution_count": 119,
   "metadata": {},
   "outputs": [
    {
     "data": {
      "text/plain": [
       "binary_outcome                    int64\n",
       "Name_Intake_Unnamed               uint8\n",
       "Found_Location_Austin (TX)        uint8\n",
       "Found_Location_Other (TX)         uint8\n",
       "Found_Location_Outside (TX)       uint8\n",
       "Intake_Type_Abandoned             uint8\n",
       "Intake_Type_Owner Surrender       uint8\n",
       "Intake_Type_Public Assist         uint8\n",
       "Intake_Type_Stray                 uint8\n",
       "Intake_Type_Wildlife              uint8\n",
       "Intake_Condition_Aged             uint8\n",
       "Intake_Condition_Injured          uint8\n",
       "Intake_Condition_Medical          uint8\n",
       "Intake_Condition_Normal           uint8\n",
       "Intake_Condition_Nursing          uint8\n",
       "Intake_Condition_Pregnant         uint8\n",
       "Intake_Condition_Sick             uint8\n",
       "Animal_Type_Intake_Bird           uint8\n",
       "Animal_Type_Intake_Cat            uint8\n",
       "Animal_Type_Intake_Dog            uint8\n",
       "Animal_Type_Intake_Other          uint8\n",
       "Sex_upon_Intake_Intact Female     uint8\n",
       "Sex_upon_Intake_Intact Male       uint8\n",
       "Sex_upon_Intake_Neutered Male     uint8\n",
       "Sex_upon_Intake_Spayed Female     uint8\n",
       "Sex_upon_Intake_Unknown           uint8\n",
       "Breed_Intake_Cross-Breed          uint8\n",
       "Breed_Intake_Mixed-Breed          uint8\n",
       "Breed_Intake_Pure-Breed           uint8\n",
       "Neutered_Spayed_In_Shelter_1      uint8\n",
       "Intake_Type_Euthanasia Request    int64\n",
       "dtype: object"
      ]
     },
     "execution_count": 119,
     "metadata": {},
     "output_type": "execute_result"
    }
   ],
   "source": [
    "# Check that all datatypes are correct\n",
    "df_rev2.dtypes"
   ]
  },
  {
   "cell_type": "code",
   "execution_count": 120,
   "metadata": {},
   "outputs": [
    {
     "data": {
      "text/plain": [
       "(982, 31)"
      ]
     },
     "execution_count": 120,
     "metadata": {},
     "output_type": "execute_result"
    }
   ],
   "source": [
    "df_rev2.shape"
   ]
  },
  {
   "cell_type": "code",
   "execution_count": 121,
   "metadata": {},
   "outputs": [
    {
     "data": {
      "text/plain": [
       "['Name_Intake_Unnamed',\n",
       " 'Found_Location_Austin (TX)',\n",
       " 'Found_Location_Other (TX)',\n",
       " 'Found_Location_Outside (TX)',\n",
       " 'Intake_Type_Abandoned',\n",
       " 'Intake_Type_Owner Surrender',\n",
       " 'Intake_Type_Public Assist',\n",
       " 'Intake_Type_Stray',\n",
       " 'Intake_Type_Wildlife',\n",
       " 'Intake_Condition_Aged',\n",
       " 'Intake_Condition_Injured',\n",
       " 'Intake_Condition_Medical',\n",
       " 'Intake_Condition_Normal',\n",
       " 'Intake_Condition_Nursing',\n",
       " 'Intake_Condition_Pregnant',\n",
       " 'Intake_Condition_Sick',\n",
       " 'Animal_Type_Intake_Bird',\n",
       " 'Animal_Type_Intake_Cat',\n",
       " 'Animal_Type_Intake_Dog',\n",
       " 'Animal_Type_Intake_Other',\n",
       " 'Sex_upon_Intake_Intact Female',\n",
       " 'Sex_upon_Intake_Intact Male',\n",
       " 'Sex_upon_Intake_Neutered Male',\n",
       " 'Sex_upon_Intake_Spayed Female',\n",
       " 'Sex_upon_Intake_Unknown',\n",
       " 'Breed_Intake_Cross-Breed',\n",
       " 'Breed_Intake_Mixed-Breed',\n",
       " 'Breed_Intake_Pure-Breed',\n",
       " 'Neutered_Spayed_In_Shelter_1']"
      ]
     },
     "execution_count": 121,
     "metadata": {},
     "output_type": "execute_result"
    }
   ],
   "source": [
    "categorical_columns = df_rev2.select_dtypes(include=['uint8']).columns.tolist()\n",
    "categorical_columns"
   ]
  },
  {
   "cell_type": "code",
   "execution_count": 122,
   "metadata": {},
   "outputs": [
    {
     "data": {
      "text/plain": [
       "['Intake_Type_Euthanasia Request']"
      ]
     },
     "execution_count": 122,
     "metadata": {},
     "output_type": "execute_result"
    }
   ],
   "source": [
    "continuous_columns = df_rev2.select_dtypes(include=['int64', 'float64']).columns.tolist()\n",
    "#remove the target \"binary_outcome\"\n",
    "continuous_columns.pop(0)\n",
    "continuous_columns"
   ]
  },
  {
   "cell_type": "code",
   "execution_count": null,
   "metadata": {},
   "outputs": [],
   "source": []
  },
  {
   "cell_type": "code",
   "execution_count": 123,
   "metadata": {},
   "outputs": [
    {
     "data": {
      "text/plain": [
       "['Name_Intake_Unnamed',\n",
       " 'Found_Location_Austin (TX)',\n",
       " 'Found_Location_Other (TX)',\n",
       " 'Found_Location_Outside (TX)',\n",
       " 'Intake_Type_Abandoned',\n",
       " 'Intake_Type_Owner Surrender',\n",
       " 'Intake_Type_Public Assist',\n",
       " 'Intake_Type_Stray',\n",
       " 'Intake_Type_Wildlife',\n",
       " 'Intake_Condition_Aged',\n",
       " 'Intake_Condition_Injured',\n",
       " 'Intake_Condition_Medical',\n",
       " 'Intake_Condition_Normal',\n",
       " 'Intake_Condition_Nursing',\n",
       " 'Intake_Condition_Pregnant',\n",
       " 'Intake_Condition_Sick',\n",
       " 'Animal_Type_Intake_Bird',\n",
       " 'Animal_Type_Intake_Cat',\n",
       " 'Animal_Type_Intake_Dog',\n",
       " 'Animal_Type_Intake_Other',\n",
       " 'Sex_upon_Intake_Intact Female',\n",
       " 'Sex_upon_Intake_Intact Male',\n",
       " 'Sex_upon_Intake_Neutered Male',\n",
       " 'Sex_upon_Intake_Spayed Female',\n",
       " 'Sex_upon_Intake_Unknown',\n",
       " 'Breed_Intake_Cross-Breed',\n",
       " 'Breed_Intake_Mixed-Breed',\n",
       " 'Breed_Intake_Pure-Breed',\n",
       " 'Neutered_Spayed_In_Shelter_1']"
      ]
     },
     "execution_count": 123,
     "metadata": {},
     "output_type": "execute_result"
    }
   ],
   "source": [
    "categorical_columns = df_rev2.select_dtypes(include=['uint8']).columns.tolist()\n",
    "categorical_columns"
   ]
  },
  {
   "cell_type": "code",
   "execution_count": 124,
   "metadata": {},
   "outputs": [
    {
     "data": {
      "text/plain": [
       "['Name_Intake_Unnamed',\n",
       " 'Found_Location_Austin (TX)',\n",
       " 'Found_Location_Other (TX)',\n",
       " 'Found_Location_Outside (TX)',\n",
       " 'Intake_Type_Abandoned',\n",
       " 'Intake_Type_Owner Surrender',\n",
       " 'Intake_Type_Public Assist',\n",
       " 'Intake_Type_Stray',\n",
       " 'Intake_Type_Wildlife',\n",
       " 'Intake_Condition_Aged',\n",
       " 'Intake_Condition_Injured',\n",
       " 'Intake_Condition_Medical',\n",
       " 'Intake_Condition_Normal',\n",
       " 'Intake_Condition_Nursing',\n",
       " 'Intake_Condition_Pregnant',\n",
       " 'Intake_Condition_Sick',\n",
       " 'Animal_Type_Intake_Bird',\n",
       " 'Animal_Type_Intake_Cat',\n",
       " 'Animal_Type_Intake_Dog',\n",
       " 'Animal_Type_Intake_Other',\n",
       " 'Sex_upon_Intake_Intact Female',\n",
       " 'Sex_upon_Intake_Intact Male',\n",
       " 'Sex_upon_Intake_Neutered Male',\n",
       " 'Sex_upon_Intake_Spayed Female',\n",
       " 'Sex_upon_Intake_Unknown',\n",
       " 'Breed_Intake_Cross-Breed',\n",
       " 'Breed_Intake_Mixed-Breed',\n",
       " 'Breed_Intake_Pure-Breed',\n",
       " 'Neutered_Spayed_In_Shelter_1',\n",
       " 'Intake_Type_Euthanasia Request']"
      ]
     },
     "execution_count": 124,
     "metadata": {},
     "output_type": "execute_result"
    }
   ],
   "source": [
    "features = categorical_columns + continuous_columns\n",
    "features"
   ]
  },
  {
   "cell_type": "code",
   "execution_count": 130,
   "metadata": {},
   "outputs": [
    {
     "name": "stdout",
     "output_type": "stream",
     "text": [
      "Number of features:  22\n"
     ]
    }
   ],
   "source": [
    "new_df_optimum_features = df_rev2\n",
    "# y is the target\n",
    "y = new_df_optimum_features[\"binary_outcome\"]\n",
    "# X is the 22 optimum features chosen earlier \n",
    "X = new_df_optimum_features[optimum_features]\n",
    "print(\"Number of features: \", len(X.columns))"
   ]
  },
  {
   "cell_type": "code",
   "execution_count": 131,
   "metadata": {},
   "outputs": [
    {
     "data": {
      "text/html": [
       "<div>\n",
       "<style scoped>\n",
       "    .dataframe tbody tr th:only-of-type {\n",
       "        vertical-align: middle;\n",
       "    }\n",
       "\n",
       "    .dataframe tbody tr th {\n",
       "        vertical-align: top;\n",
       "    }\n",
       "\n",
       "    .dataframe thead th {\n",
       "        text-align: right;\n",
       "    }\n",
       "</style>\n",
       "<table border=\"1\" class=\"dataframe\">\n",
       "  <thead>\n",
       "    <tr style=\"text-align: right;\">\n",
       "      <th></th>\n",
       "      <th>ActualClass</th>\n",
       "      <th>PredictedClass</th>\n",
       "    </tr>\n",
       "  </thead>\n",
       "  <tbody>\n",
       "    <tr>\n",
       "      <th>0</th>\n",
       "      <td>1</td>\n",
       "      <td>1</td>\n",
       "    </tr>\n",
       "    <tr>\n",
       "      <th>1</th>\n",
       "      <td>1</td>\n",
       "      <td>1</td>\n",
       "    </tr>\n",
       "    <tr>\n",
       "      <th>2</th>\n",
       "      <td>1</td>\n",
       "      <td>1</td>\n",
       "    </tr>\n",
       "    <tr>\n",
       "      <th>3</th>\n",
       "      <td>0</td>\n",
       "      <td>0</td>\n",
       "    </tr>\n",
       "    <tr>\n",
       "      <th>4</th>\n",
       "      <td>1</td>\n",
       "      <td>1</td>\n",
       "    </tr>\n",
       "    <tr>\n",
       "      <th>...</th>\n",
       "      <td>...</td>\n",
       "      <td>...</td>\n",
       "    </tr>\n",
       "    <tr>\n",
       "      <th>95</th>\n",
       "      <td>0</td>\n",
       "      <td>0</td>\n",
       "    </tr>\n",
       "    <tr>\n",
       "      <th>96</th>\n",
       "      <td>0</td>\n",
       "      <td>0</td>\n",
       "    </tr>\n",
       "    <tr>\n",
       "      <th>97</th>\n",
       "      <td>0</td>\n",
       "      <td>0</td>\n",
       "    </tr>\n",
       "    <tr>\n",
       "      <th>98</th>\n",
       "      <td>0</td>\n",
       "      <td>0</td>\n",
       "    </tr>\n",
       "    <tr>\n",
       "      <th>99</th>\n",
       "      <td>0</td>\n",
       "      <td>0</td>\n",
       "    </tr>\n",
       "  </tbody>\n",
       "</table>\n",
       "<p>100 rows × 2 columns</p>\n",
       "</div>"
      ],
      "text/plain": [
       "    ActualClass  PredictedClass\n",
       "0             1               1\n",
       "1             1               1\n",
       "2             1               1\n",
       "3             0               0\n",
       "4             1               1\n",
       "..          ...             ...\n",
       "95            0               0\n",
       "96            0               0\n",
       "97            0               0\n",
       "98            0               0\n",
       "99            0               0\n",
       "\n",
       "[100 rows x 2 columns]"
      ]
     },
     "execution_count": 131,
     "metadata": {},
     "output_type": "execute_result"
    }
   ],
   "source": [
    "# Predicted class labels for all examples, \n",
    "# using the trained model, on new data set\n",
    "best_rfc_predictions = best_rfc.predict(X)\n",
    "df_true_vs_rfc_predicted = pd.DataFrame({'ActualClass': y, 'PredictedClass': best_rfc_predictions})\n",
    "df_true_vs_rfc_predicted.head(100)"
   ]
  },
  {
   "cell_type": "markdown",
   "metadata": {},
   "source": [
    "- We can immediately see from the small number of results shown above that the model is performing well. It has correctly predicted all of the currently visible target values.\n",
    "- I will now generate the confusion matrix, accuracy, precision, recall and f1 scores for the model on the new data set."
   ]
  },
  {
   "cell_type": "code",
   "execution_count": 132,
   "metadata": {},
   "outputs": [
    {
     "name": "stdout",
     "output_type": "stream",
     "text": [
      "==================== New Test Data Set =======================\n",
      "Accuracy:  0.9541751527494908\n",
      "Confusion matrix: \n",
      " [[815   8]\n",
      " [ 37 122]]\n",
      "Classification report:\n",
      "                precision    recall  f1-score   support\n",
      "\n",
      "           0       0.96      0.99      0.97       823\n",
      "           1       0.94      0.77      0.84       159\n",
      "\n",
      "    accuracy                           0.95       982\n",
      "   macro avg       0.95      0.88      0.91       982\n",
      "weighted avg       0.95      0.95      0.95       982\n",
      "\n"
     ]
    }
   ],
   "source": [
    "print(\"==================== New Data Set =======================\")\n",
    "print(\"Accuracy: \", metrics.accuracy_score(y, best_rfc_predictions))\n",
    "print(\"Confusion matrix: \\n\", metrics.confusion_matrix(y, best_rfc_predictions))\n",
    "print(\"Classification report:\\n \", metrics.classification_report(y, best_rfc_predictions))"
   ]
  },
  {
   "cell_type": "markdown",
   "metadata": {},
   "source": [
    "### It is clear that the optimised Random Forest model has performed very well on the new, unseen data.\n",
    "- The confusion matrix shows that it correctly predicted 815/823 0 values and 122/159 1 values.\n",
    "- The overall accuracy is in line with results obtained on the training and test data earlier.\n",
    "- Importantly, the model has performed very well in its ability to predict the minority class (1).\n",
    "- The cross validation of the model on the initial data set scored a recall of 67.7% and f1 75.9% for the minority class.\n",
    "- The model has scored better on the new data set: Recall 77% and f1 84%\n",
    "- This model has correctly predicted 77% of the rows with binary_outcome=1.\n",
    "- Although, not perfect, I have confidence in this model's ability to help the animal shelter predict which intakes are likely to have a negative outcome."
   ]
  },
  {
   "cell_type": "code",
   "execution_count": null,
   "metadata": {},
   "outputs": [],
   "source": []
  }
 ],
 "metadata": {
  "kernelspec": {
   "display_name": "Python 3",
   "language": "python",
   "name": "python3"
  },
  "language_info": {
   "codemirror_mode": {
    "name": "ipython",
    "version": 3
   },
   "file_extension": ".py",
   "mimetype": "text/x-python",
   "name": "python",
   "nbconvert_exporter": "python",
   "pygments_lexer": "ipython3",
   "version": "3.7.6"
  }
 },
 "nbformat": 4,
 "nbformat_minor": 1
}
